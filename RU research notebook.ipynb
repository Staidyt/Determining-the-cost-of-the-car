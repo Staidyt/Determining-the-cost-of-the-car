{
 "cells": [
  {
   "cell_type": "markdown",
   "metadata": {},
   "source": [
    "# Определение стоимости автомобилей"
   ]
  },
  {
   "cell_type": "markdown",
   "metadata": {},
   "source": [
    "Сервис по продаже автомобилей с пробегом «Не бит, не крашен» разрабатывает приложение для привлечения новых клиентов. В нём можно быстро узнать рыночную стоимость своего автомобиля. Предоставлены исторические данные: технические характеристики, комплектации и цены автомобилей. Необходимо построить модель для определения стоимости. \n",
    "\n",
    "Заказчику важны:\n",
    "\n",
    "- качество предсказания;\n",
    "- скорость предсказания;\n",
    "- время обучения."
   ]
  },
  {
   "cell_type": "markdown",
   "metadata": {},
   "source": [
    "<b> Описание данных </b>\n",
    "\n",
    "Данные находятся в файле: datasets/autos.csv\n",
    "\n",
    "Признаки\n",
    "- DateCrawled — дата скачивания анкеты из базы\n",
    "- VehicleType — тип автомобильного кузова\n",
    "- RegistrationYear — год регистрации автомобиля\n",
    "- Gearbox — тип коробки передач\n",
    "- Power — мощность (л. с.)\n",
    "- Model — модель автомобиля\n",
    "- Kilometer — пробег (км)\n",
    "- RegistrationMonth — месяц регистрации автомобиля\n",
    "- FuelType — тип топлива\n",
    "- Brand — марка автомобиля\n",
    "- Repaired — была машина в ремонте или нет\n",
    "- DateCreated — дата создания анкеты\n",
    "- NumberOfPictures — количество фотографий автомобиля\n",
    "- PostalCode — почтовый индекс владельца анкеты (пользователя)\n",
    "- LastSeen — дата последней активности пользователя\n",
    "\n",
    "Целевой признак\n",
    "\n",
    "- Price — цена (евро)"
   ]
  },
  {
   "cell_type": "markdown",
   "metadata": {},
   "source": [
    "## Описание хода работы"
   ]
  },
  {
   "cell_type": "markdown",
   "metadata": {},
   "source": [
    "- Загрузить данные\n",
    "- Изучить данные. Заполнить пропущенные значения и обработайте аномалии в столбцах. Если среди признаков имеются неинформативные, удалить их.\n",
    "- Подготовить выборки для обучения моделей.\n",
    "- Обучить разные модели, одна из которых — LightGBM, как минимум одна — не бустинг. Для каждой модели попробовать разные гиперпараметры.\n",
    "- Проанализировать время обучения, время предсказания и качество моделей.\n",
    "- Опираясь на критерии заказчика, выберать лучшую модель, проверить её качество на тестовой выборке."
   ]
  },
  {
   "cell_type": "markdown",
   "metadata": {
    "tags": []
   },
   "source": [
    "## Настройки рабочей тетради"
   ]
  },
  {
   "cell_type": "code",
   "execution_count": 1,
   "metadata": {},
   "outputs": [],
   "source": [
    "# Импорт библиотек\n",
    "\n",
    "import pandas as pd\n",
    "import numpy as np\n",
    "import matplotlib.pyplot as plt\n",
    "import time\n",
    "from random import randrange\n",
    "\n",
    "from sklearn.preprocessing import StandardScaler\n",
    "from lightgbm import LGBMRegressor\n",
    "from sklearn.model_selection import train_test_split\n",
    "from sklearn.linear_model import LinearRegression\n",
    "from sklearn.preprocessing import OrdinalEncoder\n",
    "\n",
    "import os"
   ]
  },
  {
   "cell_type": "code",
   "execution_count": 2,
   "metadata": {},
   "outputs": [],
   "source": [
    "# Настройки библиотек\n",
    "\n",
    "pd.options.mode.chained_assignment = None  # default='warn'\n",
    " \n",
    "# Сброс ограничений на число столбцов\n",
    "pd.set_option('display.max_columns', None)"
   ]
  },
  {
   "cell_type": "code",
   "execution_count": 3,
   "metadata": {},
   "outputs": [],
   "source": [
    "# Путь к директории с данными\n",
    "\n",
    "path = 'datasets/'"
   ]
  },
  {
   "cell_type": "markdown",
   "metadata": {
    "tags": []
   },
   "source": [
    "## Загрузка данных"
   ]
  },
  {
   "cell_type": "code",
   "execution_count": 4,
   "metadata": {},
   "outputs": [
    {
     "data": {
      "text/html": [
       "<div>\n",
       "<style scoped>\n",
       "    .dataframe tbody tr th:only-of-type {\n",
       "        vertical-align: middle;\n",
       "    }\n",
       "\n",
       "    .dataframe tbody tr th {\n",
       "        vertical-align: top;\n",
       "    }\n",
       "\n",
       "    .dataframe thead th {\n",
       "        text-align: right;\n",
       "    }\n",
       "</style>\n",
       "<table border=\"1\" class=\"dataframe\">\n",
       "  <thead>\n",
       "    <tr style=\"text-align: right;\">\n",
       "      <th></th>\n",
       "      <th>DateCrawled</th>\n",
       "      <th>Price</th>\n",
       "      <th>VehicleType</th>\n",
       "      <th>RegistrationYear</th>\n",
       "      <th>Gearbox</th>\n",
       "      <th>Power</th>\n",
       "      <th>Model</th>\n",
       "      <th>Kilometer</th>\n",
       "      <th>RegistrationMonth</th>\n",
       "      <th>FuelType</th>\n",
       "      <th>Brand</th>\n",
       "      <th>NotRepaired</th>\n",
       "      <th>DateCreated</th>\n",
       "      <th>NumberOfPictures</th>\n",
       "      <th>PostalCode</th>\n",
       "      <th>LastSeen</th>\n",
       "    </tr>\n",
       "  </thead>\n",
       "  <tbody>\n",
       "    <tr>\n",
       "      <th>0</th>\n",
       "      <td>2016-03-24 11:52:17</td>\n",
       "      <td>480</td>\n",
       "      <td>NaN</td>\n",
       "      <td>1993</td>\n",
       "      <td>manual</td>\n",
       "      <td>0</td>\n",
       "      <td>golf</td>\n",
       "      <td>150000</td>\n",
       "      <td>0</td>\n",
       "      <td>petrol</td>\n",
       "      <td>volkswagen</td>\n",
       "      <td>NaN</td>\n",
       "      <td>2016-03-24 00:00:00</td>\n",
       "      <td>0</td>\n",
       "      <td>70435</td>\n",
       "      <td>2016-04-07 03:16:57</td>\n",
       "    </tr>\n",
       "    <tr>\n",
       "      <th>1</th>\n",
       "      <td>2016-03-24 10:58:45</td>\n",
       "      <td>18300</td>\n",
       "      <td>coupe</td>\n",
       "      <td>2011</td>\n",
       "      <td>manual</td>\n",
       "      <td>190</td>\n",
       "      <td>NaN</td>\n",
       "      <td>125000</td>\n",
       "      <td>5</td>\n",
       "      <td>gasoline</td>\n",
       "      <td>audi</td>\n",
       "      <td>yes</td>\n",
       "      <td>2016-03-24 00:00:00</td>\n",
       "      <td>0</td>\n",
       "      <td>66954</td>\n",
       "      <td>2016-04-07 01:46:50</td>\n",
       "    </tr>\n",
       "    <tr>\n",
       "      <th>2</th>\n",
       "      <td>2016-03-14 12:52:21</td>\n",
       "      <td>9800</td>\n",
       "      <td>suv</td>\n",
       "      <td>2004</td>\n",
       "      <td>auto</td>\n",
       "      <td>163</td>\n",
       "      <td>grand</td>\n",
       "      <td>125000</td>\n",
       "      <td>8</td>\n",
       "      <td>gasoline</td>\n",
       "      <td>jeep</td>\n",
       "      <td>NaN</td>\n",
       "      <td>2016-03-14 00:00:00</td>\n",
       "      <td>0</td>\n",
       "      <td>90480</td>\n",
       "      <td>2016-04-05 12:47:46</td>\n",
       "    </tr>\n",
       "    <tr>\n",
       "      <th>3</th>\n",
       "      <td>2016-03-17 16:54:04</td>\n",
       "      <td>1500</td>\n",
       "      <td>small</td>\n",
       "      <td>2001</td>\n",
       "      <td>manual</td>\n",
       "      <td>75</td>\n",
       "      <td>golf</td>\n",
       "      <td>150000</td>\n",
       "      <td>6</td>\n",
       "      <td>petrol</td>\n",
       "      <td>volkswagen</td>\n",
       "      <td>no</td>\n",
       "      <td>2016-03-17 00:00:00</td>\n",
       "      <td>0</td>\n",
       "      <td>91074</td>\n",
       "      <td>2016-03-17 17:40:17</td>\n",
       "    </tr>\n",
       "    <tr>\n",
       "      <th>4</th>\n",
       "      <td>2016-03-31 17:25:20</td>\n",
       "      <td>3600</td>\n",
       "      <td>small</td>\n",
       "      <td>2008</td>\n",
       "      <td>manual</td>\n",
       "      <td>69</td>\n",
       "      <td>fabia</td>\n",
       "      <td>90000</td>\n",
       "      <td>7</td>\n",
       "      <td>gasoline</td>\n",
       "      <td>skoda</td>\n",
       "      <td>no</td>\n",
       "      <td>2016-03-31 00:00:00</td>\n",
       "      <td>0</td>\n",
       "      <td>60437</td>\n",
       "      <td>2016-04-06 10:17:21</td>\n",
       "    </tr>\n",
       "    <tr>\n",
       "      <th>...</th>\n",
       "      <td>...</td>\n",
       "      <td>...</td>\n",
       "      <td>...</td>\n",
       "      <td>...</td>\n",
       "      <td>...</td>\n",
       "      <td>...</td>\n",
       "      <td>...</td>\n",
       "      <td>...</td>\n",
       "      <td>...</td>\n",
       "      <td>...</td>\n",
       "      <td>...</td>\n",
       "      <td>...</td>\n",
       "      <td>...</td>\n",
       "      <td>...</td>\n",
       "      <td>...</td>\n",
       "      <td>...</td>\n",
       "    </tr>\n",
       "    <tr>\n",
       "      <th>354364</th>\n",
       "      <td>2016-03-21 09:50:58</td>\n",
       "      <td>0</td>\n",
       "      <td>NaN</td>\n",
       "      <td>2005</td>\n",
       "      <td>manual</td>\n",
       "      <td>0</td>\n",
       "      <td>colt</td>\n",
       "      <td>150000</td>\n",
       "      <td>7</td>\n",
       "      <td>petrol</td>\n",
       "      <td>mitsubishi</td>\n",
       "      <td>yes</td>\n",
       "      <td>2016-03-21 00:00:00</td>\n",
       "      <td>0</td>\n",
       "      <td>2694</td>\n",
       "      <td>2016-03-21 10:42:49</td>\n",
       "    </tr>\n",
       "    <tr>\n",
       "      <th>354365</th>\n",
       "      <td>2016-03-14 17:48:27</td>\n",
       "      <td>2200</td>\n",
       "      <td>NaN</td>\n",
       "      <td>2005</td>\n",
       "      <td>NaN</td>\n",
       "      <td>0</td>\n",
       "      <td>NaN</td>\n",
       "      <td>20000</td>\n",
       "      <td>1</td>\n",
       "      <td>NaN</td>\n",
       "      <td>sonstige_autos</td>\n",
       "      <td>NaN</td>\n",
       "      <td>2016-03-14 00:00:00</td>\n",
       "      <td>0</td>\n",
       "      <td>39576</td>\n",
       "      <td>2016-04-06 00:46:52</td>\n",
       "    </tr>\n",
       "    <tr>\n",
       "      <th>354366</th>\n",
       "      <td>2016-03-05 19:56:21</td>\n",
       "      <td>1199</td>\n",
       "      <td>convertible</td>\n",
       "      <td>2000</td>\n",
       "      <td>auto</td>\n",
       "      <td>101</td>\n",
       "      <td>fortwo</td>\n",
       "      <td>125000</td>\n",
       "      <td>3</td>\n",
       "      <td>petrol</td>\n",
       "      <td>smart</td>\n",
       "      <td>no</td>\n",
       "      <td>2016-03-05 00:00:00</td>\n",
       "      <td>0</td>\n",
       "      <td>26135</td>\n",
       "      <td>2016-03-11 18:17:12</td>\n",
       "    </tr>\n",
       "    <tr>\n",
       "      <th>354367</th>\n",
       "      <td>2016-03-19 18:57:12</td>\n",
       "      <td>9200</td>\n",
       "      <td>bus</td>\n",
       "      <td>1996</td>\n",
       "      <td>manual</td>\n",
       "      <td>102</td>\n",
       "      <td>transporter</td>\n",
       "      <td>150000</td>\n",
       "      <td>3</td>\n",
       "      <td>gasoline</td>\n",
       "      <td>volkswagen</td>\n",
       "      <td>no</td>\n",
       "      <td>2016-03-19 00:00:00</td>\n",
       "      <td>0</td>\n",
       "      <td>87439</td>\n",
       "      <td>2016-04-07 07:15:26</td>\n",
       "    </tr>\n",
       "    <tr>\n",
       "      <th>354368</th>\n",
       "      <td>2016-03-20 19:41:08</td>\n",
       "      <td>3400</td>\n",
       "      <td>wagon</td>\n",
       "      <td>2002</td>\n",
       "      <td>manual</td>\n",
       "      <td>100</td>\n",
       "      <td>golf</td>\n",
       "      <td>150000</td>\n",
       "      <td>6</td>\n",
       "      <td>gasoline</td>\n",
       "      <td>volkswagen</td>\n",
       "      <td>NaN</td>\n",
       "      <td>2016-03-20 00:00:00</td>\n",
       "      <td>0</td>\n",
       "      <td>40764</td>\n",
       "      <td>2016-03-24 12:45:21</td>\n",
       "    </tr>\n",
       "  </tbody>\n",
       "</table>\n",
       "<p>354369 rows × 16 columns</p>\n",
       "</div>"
      ],
      "text/plain": [
       "                DateCrawled  Price  VehicleType  RegistrationYear Gearbox  \\\n",
       "0       2016-03-24 11:52:17    480          NaN              1993  manual   \n",
       "1       2016-03-24 10:58:45  18300        coupe              2011  manual   \n",
       "2       2016-03-14 12:52:21   9800          suv              2004    auto   \n",
       "3       2016-03-17 16:54:04   1500        small              2001  manual   \n",
       "4       2016-03-31 17:25:20   3600        small              2008  manual   \n",
       "...                     ...    ...          ...               ...     ...   \n",
       "354364  2016-03-21 09:50:58      0          NaN              2005  manual   \n",
       "354365  2016-03-14 17:48:27   2200          NaN              2005     NaN   \n",
       "354366  2016-03-05 19:56:21   1199  convertible              2000    auto   \n",
       "354367  2016-03-19 18:57:12   9200          bus              1996  manual   \n",
       "354368  2016-03-20 19:41:08   3400        wagon              2002  manual   \n",
       "\n",
       "        Power        Model  Kilometer  RegistrationMonth  FuelType  \\\n",
       "0           0         golf     150000                  0    petrol   \n",
       "1         190          NaN     125000                  5  gasoline   \n",
       "2         163        grand     125000                  8  gasoline   \n",
       "3          75         golf     150000                  6    petrol   \n",
       "4          69        fabia      90000                  7  gasoline   \n",
       "...       ...          ...        ...                ...       ...   \n",
       "354364      0         colt     150000                  7    petrol   \n",
       "354365      0          NaN      20000                  1       NaN   \n",
       "354366    101       fortwo     125000                  3    petrol   \n",
       "354367    102  transporter     150000                  3  gasoline   \n",
       "354368    100         golf     150000                  6  gasoline   \n",
       "\n",
       "                 Brand NotRepaired          DateCreated  NumberOfPictures  \\\n",
       "0           volkswagen         NaN  2016-03-24 00:00:00                 0   \n",
       "1                 audi         yes  2016-03-24 00:00:00                 0   \n",
       "2                 jeep         NaN  2016-03-14 00:00:00                 0   \n",
       "3           volkswagen          no  2016-03-17 00:00:00                 0   \n",
       "4                skoda          no  2016-03-31 00:00:00                 0   \n",
       "...                ...         ...                  ...               ...   \n",
       "354364      mitsubishi         yes  2016-03-21 00:00:00                 0   \n",
       "354365  sonstige_autos         NaN  2016-03-14 00:00:00                 0   \n",
       "354366           smart          no  2016-03-05 00:00:00                 0   \n",
       "354367      volkswagen          no  2016-03-19 00:00:00                 0   \n",
       "354368      volkswagen         NaN  2016-03-20 00:00:00                 0   \n",
       "\n",
       "        PostalCode             LastSeen  \n",
       "0            70435  2016-04-07 03:16:57  \n",
       "1            66954  2016-04-07 01:46:50  \n",
       "2            90480  2016-04-05 12:47:46  \n",
       "3            91074  2016-03-17 17:40:17  \n",
       "4            60437  2016-04-06 10:17:21  \n",
       "...            ...                  ...  \n",
       "354364        2694  2016-03-21 10:42:49  \n",
       "354365       39576  2016-04-06 00:46:52  \n",
       "354366       26135  2016-03-11 18:17:12  \n",
       "354367       87439  2016-04-07 07:15:26  \n",
       "354368       40764  2016-03-24 12:45:21  \n",
       "\n",
       "[354369 rows x 16 columns]"
      ]
     },
     "metadata": {},
     "output_type": "display_data"
    },
    {
     "data": {
      "text/html": [
       "<div>\n",
       "<style scoped>\n",
       "    .dataframe tbody tr th:only-of-type {\n",
       "        vertical-align: middle;\n",
       "    }\n",
       "\n",
       "    .dataframe tbody tr th {\n",
       "        vertical-align: top;\n",
       "    }\n",
       "\n",
       "    .dataframe thead th {\n",
       "        text-align: right;\n",
       "    }\n",
       "</style>\n",
       "<table border=\"1\" class=\"dataframe\">\n",
       "  <thead>\n",
       "    <tr style=\"text-align: right;\">\n",
       "      <th></th>\n",
       "      <th>Price</th>\n",
       "      <th>RegistrationYear</th>\n",
       "      <th>Power</th>\n",
       "      <th>Kilometer</th>\n",
       "      <th>RegistrationMonth</th>\n",
       "      <th>NumberOfPictures</th>\n",
       "      <th>PostalCode</th>\n",
       "    </tr>\n",
       "  </thead>\n",
       "  <tbody>\n",
       "    <tr>\n",
       "      <th>count</th>\n",
       "      <td>354369.000000</td>\n",
       "      <td>354369.000000</td>\n",
       "      <td>354369.000000</td>\n",
       "      <td>354369.000000</td>\n",
       "      <td>354369.000000</td>\n",
       "      <td>354369.0</td>\n",
       "      <td>354369.000000</td>\n",
       "    </tr>\n",
       "    <tr>\n",
       "      <th>mean</th>\n",
       "      <td>4416.656776</td>\n",
       "      <td>2004.234448</td>\n",
       "      <td>110.094337</td>\n",
       "      <td>128211.172535</td>\n",
       "      <td>5.714645</td>\n",
       "      <td>0.0</td>\n",
       "      <td>50508.689087</td>\n",
       "    </tr>\n",
       "    <tr>\n",
       "      <th>std</th>\n",
       "      <td>4514.158514</td>\n",
       "      <td>90.227958</td>\n",
       "      <td>189.850405</td>\n",
       "      <td>37905.341530</td>\n",
       "      <td>3.726421</td>\n",
       "      <td>0.0</td>\n",
       "      <td>25783.096248</td>\n",
       "    </tr>\n",
       "    <tr>\n",
       "      <th>min</th>\n",
       "      <td>0.000000</td>\n",
       "      <td>1000.000000</td>\n",
       "      <td>0.000000</td>\n",
       "      <td>5000.000000</td>\n",
       "      <td>0.000000</td>\n",
       "      <td>0.0</td>\n",
       "      <td>1067.000000</td>\n",
       "    </tr>\n",
       "    <tr>\n",
       "      <th>25%</th>\n",
       "      <td>1050.000000</td>\n",
       "      <td>1999.000000</td>\n",
       "      <td>69.000000</td>\n",
       "      <td>125000.000000</td>\n",
       "      <td>3.000000</td>\n",
       "      <td>0.0</td>\n",
       "      <td>30165.000000</td>\n",
       "    </tr>\n",
       "    <tr>\n",
       "      <th>50%</th>\n",
       "      <td>2700.000000</td>\n",
       "      <td>2003.000000</td>\n",
       "      <td>105.000000</td>\n",
       "      <td>150000.000000</td>\n",
       "      <td>6.000000</td>\n",
       "      <td>0.0</td>\n",
       "      <td>49413.000000</td>\n",
       "    </tr>\n",
       "    <tr>\n",
       "      <th>75%</th>\n",
       "      <td>6400.000000</td>\n",
       "      <td>2008.000000</td>\n",
       "      <td>143.000000</td>\n",
       "      <td>150000.000000</td>\n",
       "      <td>9.000000</td>\n",
       "      <td>0.0</td>\n",
       "      <td>71083.000000</td>\n",
       "    </tr>\n",
       "    <tr>\n",
       "      <th>max</th>\n",
       "      <td>20000.000000</td>\n",
       "      <td>9999.000000</td>\n",
       "      <td>20000.000000</td>\n",
       "      <td>150000.000000</td>\n",
       "      <td>12.000000</td>\n",
       "      <td>0.0</td>\n",
       "      <td>99998.000000</td>\n",
       "    </tr>\n",
       "  </tbody>\n",
       "</table>\n",
       "</div>"
      ],
      "text/plain": [
       "               Price  RegistrationYear          Power      Kilometer  \\\n",
       "count  354369.000000     354369.000000  354369.000000  354369.000000   \n",
       "mean     4416.656776       2004.234448     110.094337  128211.172535   \n",
       "std      4514.158514         90.227958     189.850405   37905.341530   \n",
       "min         0.000000       1000.000000       0.000000    5000.000000   \n",
       "25%      1050.000000       1999.000000      69.000000  125000.000000   \n",
       "50%      2700.000000       2003.000000     105.000000  150000.000000   \n",
       "75%      6400.000000       2008.000000     143.000000  150000.000000   \n",
       "max     20000.000000       9999.000000   20000.000000  150000.000000   \n",
       "\n",
       "       RegistrationMonth  NumberOfPictures     PostalCode  \n",
       "count      354369.000000          354369.0  354369.000000  \n",
       "mean            5.714645               0.0   50508.689087  \n",
       "std             3.726421               0.0   25783.096248  \n",
       "min             0.000000               0.0    1067.000000  \n",
       "25%             3.000000               0.0   30165.000000  \n",
       "50%             6.000000               0.0   49413.000000  \n",
       "75%             9.000000               0.0   71083.000000  \n",
       "max            12.000000               0.0   99998.000000  "
      ]
     },
     "metadata": {},
     "output_type": "display_data"
    },
    {
     "name": "stdout",
     "output_type": "stream",
     "text": [
      "<class 'pandas.core.frame.DataFrame'>\n",
      "RangeIndex: 354369 entries, 0 to 354368\n",
      "Data columns (total 16 columns):\n",
      " #   Column             Non-Null Count   Dtype \n",
      "---  ------             --------------   ----- \n",
      " 0   DateCrawled        354369 non-null  object\n",
      " 1   Price              354369 non-null  int64 \n",
      " 2   VehicleType        316879 non-null  object\n",
      " 3   RegistrationYear   354369 non-null  int64 \n",
      " 4   Gearbox            334536 non-null  object\n",
      " 5   Power              354369 non-null  int64 \n",
      " 6   Model              334664 non-null  object\n",
      " 7   Kilometer          354369 non-null  int64 \n",
      " 8   RegistrationMonth  354369 non-null  int64 \n",
      " 9   FuelType           321474 non-null  object\n",
      " 10  Brand              354369 non-null  object\n",
      " 11  NotRepaired        283215 non-null  object\n",
      " 12  DateCreated        354369 non-null  object\n",
      " 13  NumberOfPictures   354369 non-null  int64 \n",
      " 14  PostalCode         354369 non-null  int64 \n",
      " 15  LastSeen           354369 non-null  object\n",
      "dtypes: int64(7), object(9)\n",
      "memory usage: 43.3+ MB\n"
     ]
    }
   ],
   "source": [
    "data = pd.read_csv(os.path.join(path, 'autos.csv'))\n",
    "\n",
    "display(data)\n",
    "display(data.describe())\n",
    "data.info()"
   ]
  },
  {
   "cell_type": "markdown",
   "metadata": {},
   "source": [
    "<b>Вывод</b>\n",
    "\n",
    "В данных присутствуют пропуски в столбцах ['VehicleType', 'Gearbox', 'Model', 'FuelType', 'NotRepaired']. Т.к. пропуски сделаны в столбцах с категориальными признаками, то можно их вынести в отдельную категорию с неизвестным значением, заполнив пропуски значением 'unknown'. Восстановить данные из других строк маловероятно, т.к. у машин одной модели могут быть разные параметры.\n",
    "\n",
    "В столбцах ['RegistrationMonth', 'RegistrationYear'] наблюдаются аномалии: год регистрации больше 2022 и месяц регистрации равный нулю. Т.к. эти столбцы также являются категориальными, такие значения можно заменить значением 'unknown'.\n",
    "\n",
    "В данных присутствуют неинформативные признаки, а именно столбцы ['NumberOfPictures', 'DateCrawled'], потому что столбец с количеством картинок полностью заполнен нулями, а столбец с информацией о дате скачивания анкеты из базы не несёт информации о самой анкете, а значит и не может быть связан с предсказанием цены, но может повлиять на него. Такие столбцы необходимо удалить.\n",
    "\n",
    "Столбцы ['DateCreated', 'LastSeen'] нужно разделить на отдельные категории путём выделения из даты года, месяца и дня.\n",
    "\n",
    "Также, для экономии памяти, у столбцов с типом int64 можно изменить тип на меньший возможный тип int."
   ]
  },
  {
   "cell_type": "markdown",
   "metadata": {
    "tags": []
   },
   "source": [
    "## Предобработка данных"
   ]
  },
  {
   "cell_type": "markdown",
   "metadata": {},
   "source": [
    "### Анализ признаков"
   ]
  },
  {
   "cell_type": "markdown",
   "metadata": {},
   "source": [
    "По порядку рассмотрим каждый столбец в данных"
   ]
  },
  {
   "cell_type": "code",
   "execution_count": 5,
   "metadata": {},
   "outputs": [
    {
     "name": "stdout",
     "output_type": "stream",
     "text": [
      "<class 'pandas.core.frame.DataFrame'>\n",
      "RangeIndex: 354369 entries, 0 to 354368\n",
      "Data columns (total 16 columns):\n",
      " #   Column             Non-Null Count   Dtype \n",
      "---  ------             --------------   ----- \n",
      " 0   DateCrawled        354369 non-null  object\n",
      " 1   Price              354369 non-null  int64 \n",
      " 2   VehicleType        316879 non-null  object\n",
      " 3   RegistrationYear   354369 non-null  int64 \n",
      " 4   Gearbox            334536 non-null  object\n",
      " 5   Power              354369 non-null  int64 \n",
      " 6   Model              334664 non-null  object\n",
      " 7   Kilometer          354369 non-null  int64 \n",
      " 8   RegistrationMonth  354369 non-null  int64 \n",
      " 9   FuelType           321474 non-null  object\n",
      " 10  Brand              354369 non-null  object\n",
      " 11  NotRepaired        283215 non-null  object\n",
      " 12  DateCreated        354369 non-null  object\n",
      " 13  NumberOfPictures   354369 non-null  int64 \n",
      " 14  PostalCode         354369 non-null  int64 \n",
      " 15  LastSeen           354369 non-null  object\n",
      "dtypes: int64(7), object(9)\n",
      "memory usage: 43.3+ MB\n"
     ]
    }
   ],
   "source": [
    "data.info()"
   ]
  },
  {
   "cell_type": "code",
   "execution_count": 6,
   "metadata": {},
   "outputs": [],
   "source": [
    "date_type = ['DateCrawled', 'DateCreated', 'LastSeen']\n",
    "for column in date_type:\n",
    "    data[column] = pd.to_datetime(data[column], format='%Y-%m-%d %H:%M:%S')"
   ]
  },
  {
   "cell_type": "code",
   "execution_count": 7,
   "metadata": {},
   "outputs": [
    {
     "name": "stdout",
     "output_type": "stream",
     "text": [
      "Количество дубликатов в данных: 4\n"
     ]
    }
   ],
   "source": [
    "print('Количество дубликатов в данных:', data.duplicated().sum())"
   ]
  },
  {
   "cell_type": "code",
   "execution_count": 8,
   "metadata": {},
   "outputs": [
    {
     "name": "stdout",
     "output_type": "stream",
     "text": [
      "Количество дубликатов в данных после очистки: 0\n"
     ]
    }
   ],
   "source": [
    "data = data.drop_duplicates()\n",
    "print('Количество дубликатов в данных после очистки:', data.duplicated().sum())\n"
   ]
  },
  {
   "cell_type": "code",
   "execution_count": 9,
   "metadata": {},
   "outputs": [],
   "source": [
    "def col_desc(column):\n",
    "    display(data[column].describe())\n",
    "    print('Уникальные значения', data[column].unique())\n",
    "    print('Количество пропусков', data[column].isna().sum())"
   ]
  },
  {
   "cell_type": "markdown",
   "metadata": {},
   "source": [
    "#### Признак DateCrawled"
   ]
  },
  {
   "cell_type": "markdown",
   "metadata": {},
   "source": [
    "DateCrawled — дата скачивания анкеты из базы. Т.к. мы хотим научить модель предсказывать стоимость автомобилей, то нам интересны признаки, которые связаны непосредственно с ценой автомобиля. Очевидно, что дата скачивания анкеты автомобиля из базы не может никак повлиять на его стоимость, а лишь обозначает временную метку выгрузки данных, следовательно, этот столбец нам не нужен для решения поставленной задачи и его можно удалить."
   ]
  },
  {
   "cell_type": "code",
   "execution_count": 10,
   "metadata": {},
   "outputs": [],
   "source": [
    "DateCrawled = data['DateCrawled']  # запомним этот столбец, может понадобится для анализа\n",
    "\n",
    "data = data.drop('DateCrawled', axis=1)"
   ]
  },
  {
   "cell_type": "markdown",
   "metadata": {},
   "source": [
    "#### Признак Price. Целевой признак"
   ]
  },
  {
   "cell_type": "code",
   "execution_count": 11,
   "metadata": {},
   "outputs": [
    {
     "data": {
      "text/plain": [
       "count    354365.000000\n",
       "mean       4416.679830\n",
       "std        4514.176349\n",
       "min           0.000000\n",
       "25%        1050.000000\n",
       "50%        2700.000000\n",
       "75%        6400.000000\n",
       "max       20000.000000\n",
       "Name: Price, dtype: float64"
      ]
     },
     "metadata": {},
     "output_type": "display_data"
    },
    {
     "name": "stdout",
     "output_type": "stream",
     "text": [
      "Уникальные значения [  480 18300  9800 ... 12395 18429 10985]\n",
      "Количество пропусков 0\n"
     ]
    }
   ],
   "source": [
    "col_desc('Price')"
   ]
  },
  {
   "cell_type": "code",
   "execution_count": 12,
   "metadata": {},
   "outputs": [
    {
     "data": {
      "image/png": "[encoded data removed]",
      "text/plain": [
       "<Figure size 864x576 with 1 Axes>"
      ]
     },
     "metadata": {
      "needs_background": "light"
     },
     "output_type": "display_data"
    }
   ],
   "source": [
    "plt.figure(figsize=(12, 8))\n",
    "plt.hist(data['Price'], bins=200)\n",
    "plt.gca().set(title='Гистограмма распределения цены', ylabel='Частота повторений', xlabel='Цена')\n",
    "plt.show()"
   ]
  },
  {
   "cell_type": "code",
   "execution_count": 13,
   "metadata": {},
   "outputs": [
    {
     "data": {
      "image/png": "[encoded data removed]",
      "text/plain": [
       "<Figure size 864x576 with 1 Axes>"
      ]
     },
     "metadata": {
      "needs_background": "light"
     },
     "output_type": "display_data"
    }
   ],
   "source": [
    "plt.figure(figsize=(12, 8))\n",
    "plt.hist(data['Price'], bins=20, range=(0, 999))\n",
    "plt.gca().set(title='Гистограмма распределения цены', ylabel='Частота повторений', xlabel='Цена')\n",
    "plt.show()"
   ]
  },
  {
   "cell_type": "code",
   "execution_count": 14,
   "metadata": {},
   "outputs": [
    {
     "data": {
      "text/plain": [
       "12423"
      ]
     },
     "execution_count": 14,
     "metadata": {},
     "output_type": "execute_result"
    }
   ],
   "source": [
    "len(data.loc[data['Price'] < 50])"
   ]
  },
  {
   "cell_type": "markdown",
   "metadata": {},
   "source": [
    "Гистограмма смещена влево из-за аномальных автомобилей с предельно низкой ценой, которая не может быть даже у автомобилей, которые продаются на запчасти. Причиной такой цены могут быть автомобили, владельцы которых рассматривают обмен по каким-то причинам, однако нам такие автомобили неинтересны, т.к. они также не имеют отношения к цене. Удалим автомобили с ценой ниже 50 евро."
   ]
  },
  {
   "cell_type": "code",
   "execution_count": 15,
   "metadata": {},
   "outputs": [],
   "source": [
    "data = data.loc[data['Price'] >= 50]"
   ]
  },
  {
   "cell_type": "markdown",
   "metadata": {},
   "source": [
    "#### Признак VehicleType"
   ]
  },
  {
   "cell_type": "code",
   "execution_count": 16,
   "metadata": {},
   "outputs": [
    {
     "data": {
      "text/plain": [
       "count     308963\n",
       "unique         8\n",
       "top        sedan\n",
       "freq       89169\n",
       "Name: VehicleType, dtype: object"
      ]
     },
     "metadata": {},
     "output_type": "display_data"
    },
    {
     "name": "stdout",
     "output_type": "stream",
     "text": [
      "Уникальные значения [nan 'coupe' 'suv' 'small' 'sedan' 'convertible' 'bus' 'wagon' 'other']\n",
      "Количество пропусков 32979\n"
     ]
    }
   ],
   "source": [
    "col_desc('VehicleType')"
   ]
  },
  {
   "cell_type": "markdown",
   "metadata": {},
   "source": [
    "В столбце VehicleType наблюдаются пропущенные значения. Мы не можем заполнить эти пропуски используя данные похожих автомобилей (одной модели), т.к. в рамках одной модели возможны разные типы кузова, и нельзя заполнить пропуски значением 'other', потому что в реальности автомобиль вполне может иметь кузов из имеющихся уникальных значений ('coupe' 'suv' 'small' 'sedan' 'convertible' 'bus' 'wagon'), то нам остаётся только заполнить значением 'unknown', то есть вынести такие автомобили в отдельную категорию. "
   ]
  },
  {
   "cell_type": "code",
   "execution_count": 17,
   "metadata": {},
   "outputs": [],
   "source": [
    "data['VehicleType']= data['VehicleType'].fillna('unknown')"
   ]
  },
  {
   "cell_type": "markdown",
   "metadata": {},
   "source": [
    "#### Признак RegistrationYear"
   ]
  },
  {
   "cell_type": "code",
   "execution_count": 18,
   "metadata": {},
   "outputs": [
    {
     "data": {
      "text/plain": [
       "count    341942.000000\n",
       "mean       2004.079774\n",
       "std          77.070996\n",
       "min        1000.000000\n",
       "25%        1999.000000\n",
       "50%        2003.000000\n",
       "75%        2008.000000\n",
       "max        9999.000000\n",
       "Name: RegistrationYear, dtype: float64"
      ]
     },
     "metadata": {},
     "output_type": "display_data"
    },
    {
     "name": "stdout",
     "output_type": "stream",
     "text": [
      "Уникальные значения [1993 2011 2004 2001 2008 1995 2014 1998 2005 1910 2016 2007 2009 2002\n",
      " 2018 1997 1990 2017 1981 2003 1994 1991 1984 2006 1999 2012 2010 2000\n",
      " 1992 2013 1996 1985 1989 2015 1982 1976 1983 1973 1969 1971 1987 1986\n",
      " 1988 1980 1970 1965 1945 1925 1974 1979 1955 1978 1972 1968 1977 1961\n",
      " 1966 1975 1963 1964 1960 1958 1967 1956 3200 1000 1941 9999 8888 1500\n",
      " 2200 4100 1962 1929 1957 1940 3000 2066 1949 2019 1937 1951 1800 1959\n",
      " 1953 1954 1234 8000 5300 9000 2900 6000 5900 5911 1400 5000 1950 4000\n",
      " 1948 1952 8500 1932 1255 3700 3800 4800 1942 7000 1935 1933 1936 1923\n",
      " 2290 1930 1001 9450 1944 2500 1943 1938 1934 1928 5555 5600 1600 1111\n",
      " 2222 1039 1300 2800 1931 4500 1602 7800 1947 1927 7100 8200 1946]\n",
      "Количество пропусков 0\n"
     ]
    }
   ],
   "source": [
    "col_desc('RegistrationYear')"
   ]
  },
  {
   "cell_type": "markdown",
   "metadata": {},
   "source": [
    "Очевидно, что автомобили 1111 или 8200 года регистрации не могут продаваться, т.к. их не существует. Ограничим сверху годом максимального значения столбца DateCrawled, снизу - 1950 годом, т.к. более старые автомобили точно неактуальны, остальные данные удалим."
   ]
  },
  {
   "cell_type": "code",
   "execution_count": 19,
   "metadata": {},
   "outputs": [
    {
     "name": "stdout",
     "output_type": "stream",
     "text": [
      "Год максимального значения столбца \"DateCrawled\" 2016\n",
      "Количество автомобилей \"из будущего\" 13704\n",
      "Количество автомобилей зарегистрированных раньше 1950 года 154\n"
     ]
    }
   ],
   "source": [
    "print('Год максимального значения столбца \"DateCrawled\"', DateCrawled.max().year)\n",
    "print('Количество автомобилей \"из будущего\"', data.loc[data['RegistrationYear'] > 2016]['Price'].count())\n",
    "print('Количество автомобилей зарегистрированных раньше 1950 года', data.loc[data['RegistrationYear'] < 1950]['Price'].count())"
   ]
  },
  {
   "cell_type": "code",
   "execution_count": 20,
   "metadata": {},
   "outputs": [],
   "source": [
    "data = data.loc[(data['RegistrationYear'] <= 2016) & (data['RegistrationYear'] >= 1950)]"
   ]
  },
  {
   "cell_type": "markdown",
   "metadata": {},
   "source": [
    "#### Признак Gearbox"
   ]
  },
  {
   "cell_type": "code",
   "execution_count": 21,
   "metadata": {},
   "outputs": [
    {
     "data": {
      "text/plain": [
       "count     313192\n",
       "unique         2\n",
       "top       manual\n",
       "freq      250363\n",
       "Name: Gearbox, dtype: object"
      ]
     },
     "metadata": {},
     "output_type": "display_data"
    },
    {
     "name": "stdout",
     "output_type": "stream",
     "text": [
      "Уникальные значения ['manual' 'auto' nan]\n",
      "Количество пропусков 14892\n"
     ]
    }
   ],
   "source": [
    "col_desc('Gearbox')"
   ]
  },
  {
   "cell_type": "markdown",
   "metadata": {},
   "source": [
    "Ситуация аналогична с признаком VehicleType. Заполняем пропуски значением 'unknown'"
   ]
  },
  {
   "cell_type": "code",
   "execution_count": 22,
   "metadata": {},
   "outputs": [],
   "source": [
    "data['Gearbox'] = data['Gearbox'].fillna('unknown')"
   ]
  },
  {
   "cell_type": "markdown",
   "metadata": {},
   "source": [
    "#### Признак Power"
   ]
  },
  {
   "cell_type": "code",
   "execution_count": 23,
   "metadata": {},
   "outputs": [
    {
     "data": {
      "text/plain": [
       "count    328084.000000\n",
       "mean        112.159331\n",
       "std         185.112791\n",
       "min           0.000000\n",
       "25%          71.000000\n",
       "50%         105.000000\n",
       "75%         143.000000\n",
       "max       20000.000000\n",
       "Name: Power, dtype: float64"
      ]
     },
     "metadata": {},
     "output_type": "display_data"
    },
    {
     "name": "stdout",
     "output_type": "stream",
     "text": [
      "Уникальные значения [    0   190   163    75    69   102   109   125   101   105   140   115\n",
      "   131    60   136   160   231    50   118   193    99   113   218   122\n",
      "   129    70   306    95    61   177   170    55   143   232   150   156\n",
      "    80    82    90   155    54   185    87   180    86    84   224   235\n",
      "   200   178   265    77   110   144   120   286   116   184   126   204\n",
      "    88   194    64   305   197   179   250    45   313    41   165    98\n",
      "   130   114   211    56   201   213    58   107    83   174   100   220\n",
      "    73   192    68    66   299    74    52   147   310    71    97    65\n",
      "   239   203     5   300   103    85   258   320    63    81   148    44\n",
      "   145   280   260   104   188   333   186   117   141   132   234   158\n",
      "    39    92    51   135    59   230    53   209    43   146    67   106\n",
      "   166   276   344    72   249   237   245   111   326   279    23   138\n",
      "   175    96   226    26    37   301   334   128   133   124    33   219\n",
      "   241   167    94   182   196   238  1398   228   112    48   272   139\n",
      "    79   256   360   243   252   396   340   121   345   187   289   222\n",
      "   198   284   450   233   387   347   172    57   137   212   476   314\n",
      "    30     7    47   173   290   207   205   171    78    91    89   349\n",
      "    40   108   325    76   350   953    93   142   343   199   119   164\n",
      "    16   264   152   367   240   208   210    46   435  1001   225   127\n",
      "   176   161   603   307   354    35   206   771   355   273   223   255\n",
      "   151   123   154   149  7515  1400   268   620   400   275    34     2\n",
      "   242  1779   285   162   328  1753   329   134   420   247   168   215\n",
      "    18   330   283   500    62    10   183   254    15   321   315   952\n",
      "   169   600   181   426   379    22   157    42   195   553     4   309\n",
      "   507   381   271   440   189   401  2729    21   236  1240  1704   521\n",
      "     1  1900   270    24   159   292   515  1200   303    29    38  1993\n",
      "    14   216   610   504    49   267   331   363   261   385  1011   253\n",
      "   696 10520   376   227   311    27   217    20   322  1999    11  1056\n",
      "    25   394    12   298   296  1659   294   551  6920   246    17  1625\n",
      "   390   221  1367   259   606  1597   266   374   392     9   405    13\n",
      "   262   601   430   295     8   411   900   541  7512   382 10218  7544\n",
      "   999   287    19   214   751   297  1090   457   282   602   388     6\n",
      "  5411   335  1360   202  3750   805  1062  2017   750  1024 11530   364\n",
      "  1796   269   460  1002   288  1780 12012 17932   316  2005  1800  1399\n",
      "   191   278   380   257   449  1256   153  1653   520   560   281 12510\n",
      "     3  1500   386    32  1202  2016  1436  1405   671   274  1288  1055\n",
      " 10912  6226  1115   277  1105   341  1223  2340  8404  1968   338   445\n",
      "  1920   370   517  4400 10710 10522   431  1164 11509   371  1501   428\n",
      " 11635   304   348  1703  1995   579 10000   580   408    31   358  1403\n",
      "   489  5575 19211   585   365   353   490   352  1801  1000   346   550\n",
      "  3199   800  7508  1312  1937   950  4700  1600  3454 19208   251   850\n",
      "   337   700  2331  2789   487    36   519  2461  6006  3500  5815  6018\n",
      "  1781  1503   612  1596   229  1506  5809 15020  1300  5867  2172  1598\n",
      " 17410  1363   584  1054   851  1339   318   510   525    28  1151   685\n",
      "  6011   317   703  1771 15001   514   362   332   324  6045   425   308\n",
      "  6010   475   903   640  2000   248   651  2799   368 17011   505  1103\n",
      "  1521   351 16051   398  1998 10311   409  1230 17019 12684  8259  1895\n",
      "  1317   871   909  1595   776 17700 11011  1199   459   357  1162  1120\n",
      " 15033  1896   339   361  6512   454   650 13616   604 16312  1082   336\n",
      " 20000   416   678  1401  1021  1870   375 13636  1250  6012   323  1158\n",
      "  2009   902  6062  1275   572   244   399  1016   743  1221  2402  1362\n",
      "   544   645   907   702  1003  1432  9013   442  1017 15017 10910  1992\n",
      "   540  2018 11025  1433  1701  2792  1502  1239  1390 14009  1160 11111\n",
      "  1783  9007   923  1149   754  1988  2004  5420  1793  1324   356 12512\n",
      "  7511  1299   293 19312  1079  1689   998  1100  1933   508 16311   682\n",
      "  1922  7529   732  2389  1005  1707  1416  1700  8500  1012 10110   421\n",
      "  4507  1631  7518   377  1004  1799  9012  2007  2598  1548  1241]\n",
      "Количество пропусков 0\n"
     ]
    }
   ],
   "source": [
    "col_desc('Power')"
   ]
  },
  {
   "cell_type": "code",
   "execution_count": 24,
   "metadata": {},
   "outputs": [
    {
     "data": {
      "image/png": "[encoded data removed]",
      "text/plain": [
       "<Figure size 864x576 with 1 Axes>"
      ]
     },
     "metadata": {
      "needs_background": "light"
     },
     "output_type": "display_data"
    }
   ],
   "source": [
    "plt.figure(figsize=(12, 8))\n",
    "plt.hist(data['Power'], bins=50)\n",
    "plt.gca().set(title='Гистограмма распределения мощности', ylabel='Частота повторений', xlabel='Мощность')\n",
    "plt.show()"
   ]
  },
  {
   "cell_type": "code",
   "execution_count": 25,
   "metadata": {},
   "outputs": [
    {
     "data": {
      "image/png": "[encoded data removed]",
      "text/plain": [
       "<Figure size 864x576 with 1 Axes>"
      ]
     },
     "metadata": {
      "needs_background": "light"
     },
     "output_type": "display_data"
    }
   ],
   "source": [
    "# Уменьшим диапазон до примерно реальных значений\n",
    "\n",
    "plt.figure(figsize=(12, 8))\n",
    "plt.hist(data['Power'], bins=30, range=(0, 300))\n",
    "plt.gca().set(title='Гистограмма распределения мощности (до 300 л.с.)', ylabel='Частота повторений', xlabel='Мощность, л.с.')\n",
    "plt.show()"
   ]
  },
  {
   "cell_type": "code",
   "execution_count": 26,
   "metadata": {},
   "outputs": [
    {
     "name": "stdout",
     "output_type": "stream",
     "text": [
      "Количество машин со слишком малой мощностью для автомобиля 32282\n"
     ]
    }
   ],
   "source": [
    "print('Количество машин со слишком малой мощностью для автомобиля', data.loc[data['Power'] < 15]['Price'].count())"
   ]
  },
  {
   "cell_type": "code",
   "execution_count": 27,
   "metadata": {},
   "outputs": [
    {
     "name": "stdout",
     "output_type": "stream",
     "text": [
      "Количество машин с слишком большой мощностью для автомобиля 101\n"
     ]
    }
   ],
   "source": [
    "print('Количество машин с слишком большой мощностью для автомобиля', data.loc[data['Power'] > 2000]['Price'].count())"
   ]
  },
  {
   "cell_type": "markdown",
   "metadata": {},
   "source": [
    "В столбце Power присутствуют аномально большие значения мощности, слишком малые и даже нулевые. Слишком большие значения мы можем удалить, потому что их количество несущественно по сравнению с общим кол-вом данных. С малыми значениями сложнее: т.к. таких значений довольно много (почти 10% от данных), просто удалить их нельзя, поэтому заполним их значениями около медианы."
   ]
  },
  {
   "cell_type": "code",
   "execution_count": 28,
   "metadata": {},
   "outputs": [],
   "source": [
    "data = data.loc[data['Power'] <= 2000]\n",
    "\n",
    "power_mean = data['Power'].median()\n",
    "\n",
    "for i in data.loc[data['Power'] < 15].index:\n",
    "    data.loc[i, 'Power'] = randrange(power_mean-10, power_mean+10)"
   ]
  },
  {
   "cell_type": "code",
   "execution_count": 29,
   "metadata": {},
   "outputs": [
    {
     "data": {
      "image/png": "[encoded data removed]",
      "text/plain": [
       "<Figure size 864x576 with 1 Axes>"
      ]
     },
     "metadata": {
      "needs_background": "light"
     },
     "output_type": "display_data"
    }
   ],
   "source": [
    "#Посмотрим, как изменилось распределение\n",
    "\n",
    "plt.figure(figsize=(12, 8))\n",
    "plt.hist(data['Power'], bins=30, range=(0, 300))\n",
    "plt.gca().set(title='Гистограмма распределения мощности (до 300 л.с.)', ylabel='Частота повторений', xlabel='Мощность, л.с.')\n",
    "plt.show()"
   ]
  },
  {
   "cell_type": "markdown",
   "metadata": {},
   "source": [
    "#### Признак Model"
   ]
  },
  {
   "cell_type": "code",
   "execution_count": 30,
   "metadata": {},
   "outputs": [
    {
     "data": {
      "text/plain": [
       "count     312742\n",
       "unique       250\n",
       "top         golf\n",
       "freq       26628\n",
       "Name: Model, dtype: object"
      ]
     },
     "metadata": {},
     "output_type": "display_data"
    },
    {
     "name": "stdout",
     "output_type": "stream",
     "text": [
      "Уникальные значения ['golf' nan 'grand' 'fabia' '3er' '2_reihe' 'c_max' '3_reihe' 'passat'\n",
      " 'navara' 'polo' 'twingo' 'a_klasse' 'scirocco' '5er' 'arosa' 'other'\n",
      " 'civic' 'transporter' 'punto' 'e_klasse' 'clio' 'kadett' 'kangoo' 'one'\n",
      " 'fortwo' '1er' 'b_klasse' 'signum' 'astra' 'a8' 'jetta' 'fiesta'\n",
      " 'c_klasse' 'micra' 'vito' 'sprinter' '156' 'escort' 'forester' 'xc_reihe'\n",
      " 'scenic' 'a4' 'ka' 'a1' 'insignia' 'combo' 'focus' 'tt' 'corsa' 'a6'\n",
      " 'jazz' 'omega' 'slk' '7er' '80' '147' '100' 'z_reihe' 'sorento' 'v40'\n",
      " 'ibiza' 'mustang' 'eos' 'touran' 'getz' 'a3' 'almera' 'megane' 'lupo'\n",
      " 'r19' 'caddy' 'mondeo' 'cordoba' 'colt' 'impreza' 'vectra' 'berlingo'\n",
      " 'tiguan' 'sharan' '6_reihe' 'c4' 'panda' 'up' 'i_reihe' 'ceed' '5_reihe'\n",
      " 'yeti' 'octavia' 'zafira' 'mii' 'rx_reihe' '6er' 'modus' 'fox' 'matiz'\n",
      " 'beetle' 'c1' 'rio' 'touareg' 'logan' 'spider' 'cuore' 's_max' 'a2'\n",
      " 'galaxy' 'c3' 'viano' 's_klasse' '1_reihe' 'avensis' 'roomster' 'sl'\n",
      " 'kaefer' 'santa' 'cooper' 'leon' '4_reihe' 'a5' 'sportage' 'laguna'\n",
      " 'ptcruiser' 'clk' 'primera' 'espace' 'x_reihe' 'exeo' '159' 'transit'\n",
      " 'juke' 'qashqai' 'carisma' 'accord' 'corolla' 'lanos' 'phaeton' 'verso'\n",
      " 'swift' 'rav' 'picanto' 'boxster' 'kalos' 'superb' 'stilo' 'alhambra'\n",
      " 'roadster' 'ypsilon' 'cayenne' 'galant' 'justy' '90' 'sirion' 'crossfire'\n",
      " 'agila' 'duster' 'v50' 'mx_reihe' '500' 'meriva' 'c_reihe' 'v_klasse'\n",
      " 'm_klasse' 'yaris' 'c5' 'aygo' 'seicento' 'cc' 'carnival' 'fusion' '911'\n",
      " 'bora' 'forfour' 'cl' 'tigra' '300c' 'cr_reihe' 'spark' 'v70' 'kuga'\n",
      " 'x_type' 'ducato' 's_type' 'x_trail' 'toledo' 'altea' 'voyager' 'calibra'\n",
      " 'bravo' 'antara' 'tucson' 'citigo' 'jimny' 'wrangler' 'lybra' 'q7'\n",
      " 'lancer' 'captiva' 'discovery' 'freelander' 'sandero' 'note' '900'\n",
      " 'cherokee' 'clubman' 'samara' 'defender' 'cx_reihe' 'legacy' 'pajero'\n",
      " 'auris' 'c2' 'niva' 's60' 'm_reihe' 'nubira' 'vivaro' 'g_klasse' 'lodgy'\n",
      " '850' 'range_rover' '601' 'q3' 'serie_2' 'glk' 'charade' 'croma'\n",
      " 'outlander' 'doblo' 'musa' 'move' '9000' 'v60' '145' '200' 'b_max'\n",
      " 'range_rover_sport' 'aveo' 'terios' 'rangerover' 'q5'\n",
      " 'range_rover_evoque' 'materia' 'delta' 'gl' 'kalina' 'elefantino' 'i3'\n",
      " 'amarok' 'kappa' 'serie_3' 'serie_1']\n",
      "Количество пропусков 15241\n"
     ]
    }
   ],
   "source": [
    "col_desc('Model')"
   ]
  },
  {
   "cell_type": "markdown",
   "metadata": {},
   "source": [
    "Ситуация аналогична с признаком VehicleType. Заполняем пропуски значением 'unknown'"
   ]
  },
  {
   "cell_type": "code",
   "execution_count": 31,
   "metadata": {},
   "outputs": [],
   "source": [
    "data['Model'] = data['Model'].fillna('unknown')"
   ]
  },
  {
   "cell_type": "markdown",
   "metadata": {},
   "source": [
    "#### Признак Kilometer"
   ]
  },
  {
   "cell_type": "code",
   "execution_count": 32,
   "metadata": {},
   "outputs": [
    {
     "data": {
      "text/plain": [
       "count    327983.000000\n",
       "mean     128344.380654\n",
       "std       37295.688803\n",
       "min        5000.000000\n",
       "25%      125000.000000\n",
       "50%      150000.000000\n",
       "75%      150000.000000\n",
       "max      150000.000000\n",
       "Name: Kilometer, dtype: float64"
      ]
     },
     "metadata": {},
     "output_type": "display_data"
    },
    {
     "name": "stdout",
     "output_type": "stream",
     "text": [
      "Уникальные значения [150000 125000  90000  30000  70000 100000  60000   5000  20000  80000\n",
      "  50000  40000  10000]\n",
      "Количество пропусков 0\n"
     ]
    }
   ],
   "source": [
    "col_desc('Kilometer')"
   ]
  },
  {
   "cell_type": "markdown",
   "metadata": {},
   "source": [
    "Столбец не требует изменений."
   ]
  },
  {
   "cell_type": "markdown",
   "metadata": {},
   "source": [
    "#### Признак RegistrationMonth"
   ]
  },
  {
   "cell_type": "code",
   "execution_count": 33,
   "metadata": {},
   "outputs": [
    {
     "data": {
      "text/plain": [
       "count    327983.000000\n",
       "mean          5.833933\n",
       "std           3.673044\n",
       "min           0.000000\n",
       "25%           3.000000\n",
       "50%           6.000000\n",
       "75%           9.000000\n",
       "max          12.000000\n",
       "Name: RegistrationMonth, dtype: float64"
      ]
     },
     "metadata": {},
     "output_type": "display_data"
    },
    {
     "name": "stdout",
     "output_type": "stream",
     "text": [
      "Уникальные значения [ 0  5  8  6  7 10 12 11  2  3  1  4  9]\n",
      "Количество пропусков 0\n"
     ]
    }
   ],
   "source": [
    "col_desc('RegistrationMonth')"
   ]
  },
  {
   "cell_type": "code",
   "execution_count": 34,
   "metadata": {},
   "outputs": [
    {
     "data": {
      "text/html": [
       "<div>\n",
       "<style scoped>\n",
       "    .dataframe tbody tr th:only-of-type {\n",
       "        vertical-align: middle;\n",
       "    }\n",
       "\n",
       "    .dataframe tbody tr th {\n",
       "        vertical-align: top;\n",
       "    }\n",
       "\n",
       "    .dataframe thead th {\n",
       "        text-align: right;\n",
       "    }\n",
       "</style>\n",
       "<table border=\"1\" class=\"dataframe\">\n",
       "  <thead>\n",
       "    <tr style=\"text-align: right;\">\n",
       "      <th></th>\n",
       "      <th>Price</th>\n",
       "      <th>VehicleType</th>\n",
       "      <th>RegistrationYear</th>\n",
       "      <th>Gearbox</th>\n",
       "      <th>Power</th>\n",
       "      <th>Model</th>\n",
       "      <th>Kilometer</th>\n",
       "      <th>RegistrationMonth</th>\n",
       "      <th>FuelType</th>\n",
       "      <th>Brand</th>\n",
       "      <th>NotRepaired</th>\n",
       "      <th>DateCreated</th>\n",
       "      <th>NumberOfPictures</th>\n",
       "      <th>PostalCode</th>\n",
       "      <th>LastSeen</th>\n",
       "    </tr>\n",
       "  </thead>\n",
       "  <tbody>\n",
       "    <tr>\n",
       "      <th>0</th>\n",
       "      <td>480</td>\n",
       "      <td>unknown</td>\n",
       "      <td>1993</td>\n",
       "      <td>manual</td>\n",
       "      <td>100</td>\n",
       "      <td>golf</td>\n",
       "      <td>150000</td>\n",
       "      <td>0</td>\n",
       "      <td>petrol</td>\n",
       "      <td>volkswagen</td>\n",
       "      <td>NaN</td>\n",
       "      <td>2016-03-24</td>\n",
       "      <td>0</td>\n",
       "      <td>70435</td>\n",
       "      <td>2016-04-07 03:16:57</td>\n",
       "    </tr>\n",
       "    <tr>\n",
       "      <th>9</th>\n",
       "      <td>999</td>\n",
       "      <td>small</td>\n",
       "      <td>1998</td>\n",
       "      <td>manual</td>\n",
       "      <td>101</td>\n",
       "      <td>golf</td>\n",
       "      <td>150000</td>\n",
       "      <td>0</td>\n",
       "      <td>NaN</td>\n",
       "      <td>volkswagen</td>\n",
       "      <td>NaN</td>\n",
       "      <td>2016-03-17</td>\n",
       "      <td>0</td>\n",
       "      <td>27472</td>\n",
       "      <td>2016-03-31 17:17:06</td>\n",
       "    </tr>\n",
       "    <tr>\n",
       "      <th>16</th>\n",
       "      <td>300</td>\n",
       "      <td>unknown</td>\n",
       "      <td>2016</td>\n",
       "      <td>unknown</td>\n",
       "      <td>60</td>\n",
       "      <td>polo</td>\n",
       "      <td>150000</td>\n",
       "      <td>0</td>\n",
       "      <td>petrol</td>\n",
       "      <td>volkswagen</td>\n",
       "      <td>NaN</td>\n",
       "      <td>2016-04-01</td>\n",
       "      <td>0</td>\n",
       "      <td>38871</td>\n",
       "      <td>2016-04-01 12:46:46</td>\n",
       "    </tr>\n",
       "    <tr>\n",
       "      <th>36</th>\n",
       "      <td>1600</td>\n",
       "      <td>other</td>\n",
       "      <td>1991</td>\n",
       "      <td>manual</td>\n",
       "      <td>75</td>\n",
       "      <td>kadett</td>\n",
       "      <td>70000</td>\n",
       "      <td>0</td>\n",
       "      <td>NaN</td>\n",
       "      <td>opel</td>\n",
       "      <td>NaN</td>\n",
       "      <td>2016-03-11</td>\n",
       "      <td>0</td>\n",
       "      <td>2943</td>\n",
       "      <td>2016-04-07 03:46:09</td>\n",
       "    </tr>\n",
       "    <tr>\n",
       "      <th>54</th>\n",
       "      <td>4700</td>\n",
       "      <td>wagon</td>\n",
       "      <td>2005</td>\n",
       "      <td>manual</td>\n",
       "      <td>95</td>\n",
       "      <td>signum</td>\n",
       "      <td>150000</td>\n",
       "      <td>0</td>\n",
       "      <td>NaN</td>\n",
       "      <td>opel</td>\n",
       "      <td>no</td>\n",
       "      <td>2016-03-17</td>\n",
       "      <td>0</td>\n",
       "      <td>88433</td>\n",
       "      <td>2016-04-04 04:17:32</td>\n",
       "    </tr>\n",
       "    <tr>\n",
       "      <th>...</th>\n",
       "      <td>...</td>\n",
       "      <td>...</td>\n",
       "      <td>...</td>\n",
       "      <td>...</td>\n",
       "      <td>...</td>\n",
       "      <td>...</td>\n",
       "      <td>...</td>\n",
       "      <td>...</td>\n",
       "      <td>...</td>\n",
       "      <td>...</td>\n",
       "      <td>...</td>\n",
       "      <td>...</td>\n",
       "      <td>...</td>\n",
       "      <td>...</td>\n",
       "      <td>...</td>\n",
       "    </tr>\n",
       "    <tr>\n",
       "      <th>354305</th>\n",
       "      <td>3500</td>\n",
       "      <td>unknown</td>\n",
       "      <td>1995</td>\n",
       "      <td>unknown</td>\n",
       "      <td>114</td>\n",
       "      <td>polo</td>\n",
       "      <td>150000</td>\n",
       "      <td>0</td>\n",
       "      <td>NaN</td>\n",
       "      <td>volkswagen</td>\n",
       "      <td>NaN</td>\n",
       "      <td>2016-04-03</td>\n",
       "      <td>0</td>\n",
       "      <td>74579</td>\n",
       "      <td>2016-04-05 12:44:38</td>\n",
       "    </tr>\n",
       "    <tr>\n",
       "      <th>354318</th>\n",
       "      <td>400</td>\n",
       "      <td>wagon</td>\n",
       "      <td>1991</td>\n",
       "      <td>manual</td>\n",
       "      <td>111</td>\n",
       "      <td>legacy</td>\n",
       "      <td>150000</td>\n",
       "      <td>0</td>\n",
       "      <td>petrol</td>\n",
       "      <td>subaru</td>\n",
       "      <td>NaN</td>\n",
       "      <td>2016-03-15</td>\n",
       "      <td>0</td>\n",
       "      <td>24558</td>\n",
       "      <td>2016-03-19 15:49:00</td>\n",
       "    </tr>\n",
       "    <tr>\n",
       "      <th>354326</th>\n",
       "      <td>1300</td>\n",
       "      <td>small</td>\n",
       "      <td>1999</td>\n",
       "      <td>manual</td>\n",
       "      <td>75</td>\n",
       "      <td>2_reihe</td>\n",
       "      <td>125000</td>\n",
       "      <td>0</td>\n",
       "      <td>NaN</td>\n",
       "      <td>peugeot</td>\n",
       "      <td>NaN</td>\n",
       "      <td>2016-03-31</td>\n",
       "      <td>0</td>\n",
       "      <td>35102</td>\n",
       "      <td>2016-04-06 13:44:44</td>\n",
       "    </tr>\n",
       "    <tr>\n",
       "      <th>354329</th>\n",
       "      <td>350</td>\n",
       "      <td>small</td>\n",
       "      <td>1996</td>\n",
       "      <td>unknown</td>\n",
       "      <td>65</td>\n",
       "      <td>punto</td>\n",
       "      <td>150000</td>\n",
       "      <td>0</td>\n",
       "      <td>NaN</td>\n",
       "      <td>fiat</td>\n",
       "      <td>NaN</td>\n",
       "      <td>2016-03-30</td>\n",
       "      <td>0</td>\n",
       "      <td>25436</td>\n",
       "      <td>2016-04-07 13:50:41</td>\n",
       "    </tr>\n",
       "    <tr>\n",
       "      <th>354337</th>\n",
       "      <td>11500</td>\n",
       "      <td>sedan</td>\n",
       "      <td>2004</td>\n",
       "      <td>auto</td>\n",
       "      <td>445</td>\n",
       "      <td>7er</td>\n",
       "      <td>125000</td>\n",
       "      <td>0</td>\n",
       "      <td>petrol</td>\n",
       "      <td>bmw</td>\n",
       "      <td>NaN</td>\n",
       "      <td>2016-03-26</td>\n",
       "      <td>0</td>\n",
       "      <td>4107</td>\n",
       "      <td>2016-04-06 20:45:16</td>\n",
       "    </tr>\n",
       "  </tbody>\n",
       "</table>\n",
       "<p>28604 rows × 15 columns</p>\n",
       "</div>"
      ],
      "text/plain": [
       "        Price VehicleType  RegistrationYear  Gearbox  Power    Model  \\\n",
       "0         480     unknown              1993   manual    100     golf   \n",
       "9         999       small              1998   manual    101     golf   \n",
       "16        300     unknown              2016  unknown     60     polo   \n",
       "36       1600       other              1991   manual     75   kadett   \n",
       "54       4700       wagon              2005   manual     95   signum   \n",
       "...       ...         ...               ...      ...    ...      ...   \n",
       "354305   3500     unknown              1995  unknown    114     polo   \n",
       "354318    400       wagon              1991   manual    111   legacy   \n",
       "354326   1300       small              1999   manual     75  2_reihe   \n",
       "354329    350       small              1996  unknown     65    punto   \n",
       "354337  11500       sedan              2004     auto    445      7er   \n",
       "\n",
       "        Kilometer  RegistrationMonth FuelType       Brand NotRepaired  \\\n",
       "0          150000                  0   petrol  volkswagen         NaN   \n",
       "9          150000                  0      NaN  volkswagen         NaN   \n",
       "16         150000                  0   petrol  volkswagen         NaN   \n",
       "36          70000                  0      NaN        opel         NaN   \n",
       "54         150000                  0      NaN        opel          no   \n",
       "...           ...                ...      ...         ...         ...   \n",
       "354305     150000                  0      NaN  volkswagen         NaN   \n",
       "354318     150000                  0   petrol      subaru         NaN   \n",
       "354326     125000                  0      NaN     peugeot         NaN   \n",
       "354329     150000                  0      NaN        fiat         NaN   \n",
       "354337     125000                  0   petrol         bmw         NaN   \n",
       "\n",
       "       DateCreated  NumberOfPictures  PostalCode            LastSeen  \n",
       "0       2016-03-24                 0       70435 2016-04-07 03:16:57  \n",
       "9       2016-03-17                 0       27472 2016-03-31 17:17:06  \n",
       "16      2016-04-01                 0       38871 2016-04-01 12:46:46  \n",
       "36      2016-03-11                 0        2943 2016-04-07 03:46:09  \n",
       "54      2016-03-17                 0       88433 2016-04-04 04:17:32  \n",
       "...            ...               ...         ...                 ...  \n",
       "354305  2016-04-03                 0       74579 2016-04-05 12:44:38  \n",
       "354318  2016-03-15                 0       24558 2016-03-19 15:49:00  \n",
       "354326  2016-03-31                 0       35102 2016-04-06 13:44:44  \n",
       "354329  2016-03-30                 0       25436 2016-04-07 13:50:41  \n",
       "354337  2016-03-26                 0        4107 2016-04-06 20:45:16  \n",
       "\n",
       "[28604 rows x 15 columns]"
      ]
     },
     "execution_count": 34,
     "metadata": {},
     "output_type": "execute_result"
    }
   ],
   "source": [
    "data.loc[data['RegistrationMonth'] == 0]"
   ]
  },
  {
   "cell_type": "code",
   "execution_count": 35,
   "metadata": {},
   "outputs": [
    {
     "data": {
      "image/png": "[encoded data removed]",
      "text/plain": [
       "<Figure size 864x576 with 1 Axes>"
      ]
     },
     "metadata": {
      "needs_background": "light"
     },
     "output_type": "display_data"
    }
   ],
   "source": [
    "plt.figure(figsize=(12, 8))\n",
    "plt.hist(data['RegistrationMonth'], bins=13)\n",
    "plt.gca().set(title='Гистограмма распределения месяцев регистрации', ylabel='Частота повторений', xlabel='Месяц регистрации')\n",
    "plt.show()"
   ]
  },
  {
   "cell_type": "markdown",
   "metadata": {},
   "source": [
    "В столбце RegistrationMonth есть значения равные нулю. Очевидно, что месяца под номером 0 нет, и нам нужно обработать эти значения. Судя по гистограмме, таких значений довольно много, поэтому вряд ли это какой-то конкретный месяц. Заполнить эти нули модой тоже будет неправильно, опять же из-за большого количества таких значений - присвоение нулевым значениям моды значительно повлияет на распределение. Поэтому оставим такие значения в отдельной категории, только назовём более понятно для нас - 'unknown'"
   ]
  },
  {
   "cell_type": "code",
   "execution_count": 36,
   "metadata": {},
   "outputs": [],
   "source": [
    "data.loc[data['RegistrationMonth'] == 0]['RegistrationMonth'] = 'unknown'"
   ]
  },
  {
   "cell_type": "markdown",
   "metadata": {},
   "source": [
    "#### Признак FuelType"
   ]
  },
  {
   "cell_type": "code",
   "execution_count": 37,
   "metadata": {},
   "outputs": [
    {
     "data": {
      "text/plain": [
       "count     304580\n",
       "unique         7\n",
       "top       petrol\n",
       "freq      203950\n",
       "Name: FuelType, dtype: object"
      ]
     },
     "metadata": {},
     "output_type": "display_data"
    },
    {
     "name": "stdout",
     "output_type": "stream",
     "text": [
      "Уникальные значения ['petrol' 'gasoline' nan 'lpg' 'other' 'hybrid' 'cng' 'electric']\n",
      "Количество пропусков 23403\n"
     ]
    }
   ],
   "source": [
    "col_desc('FuelType')"
   ]
  },
  {
   "cell_type": "markdown",
   "metadata": {},
   "source": [
    "Ситуация аналогична с признаком VehicleType. Заполняем пропуски значением 'unknown'"
   ]
  },
  {
   "cell_type": "code",
   "execution_count": 38,
   "metadata": {},
   "outputs": [],
   "source": [
    "data['FuelType'] = data['FuelType'].fillna('unknown')"
   ]
  },
  {
   "cell_type": "markdown",
   "metadata": {},
   "source": [
    "#### Признак Brand"
   ]
  },
  {
   "cell_type": "code",
   "execution_count": 39,
   "metadata": {},
   "outputs": [
    {
     "data": {
      "text/plain": [
       "count         327983\n",
       "unique            40\n",
       "top       volkswagen\n",
       "freq           70471\n",
       "Name: Brand, dtype: object"
      ]
     },
     "metadata": {},
     "output_type": "display_data"
    },
    {
     "name": "stdout",
     "output_type": "stream",
     "text": [
      "Уникальные значения ['volkswagen' 'audi' 'jeep' 'skoda' 'bmw' 'peugeot' 'ford' 'mazda'\n",
      " 'nissan' 'renault' 'mercedes_benz' 'seat' 'honda' 'fiat' 'opel' 'mini'\n",
      " 'smart' 'hyundai' 'alfa_romeo' 'subaru' 'volvo' 'mitsubishi' 'kia'\n",
      " 'suzuki' 'lancia' 'citroen' 'sonstige_autos' 'toyota' 'chevrolet' 'dacia'\n",
      " 'daihatsu' 'trabant' 'chrysler' 'jaguar' 'daewoo' 'rover' 'porsche'\n",
      " 'saab' 'land_rover' 'lada']\n",
      "Количество пропусков 0\n"
     ]
    }
   ],
   "source": [
    "col_desc('Brand')"
   ]
  },
  {
   "cell_type": "markdown",
   "metadata": {},
   "source": [
    "Столбец не требует изменений."
   ]
  },
  {
   "cell_type": "markdown",
   "metadata": {},
   "source": [
    "#### Признак NotRepaired"
   ]
  },
  {
   "cell_type": "code",
   "execution_count": 40,
   "metadata": {},
   "outputs": [
    {
     "data": {
      "text/plain": [
       "count     269161\n",
       "unique         2\n",
       "top           no\n",
       "freq      236503\n",
       "Name: NotRepaired, dtype: object"
      ]
     },
     "metadata": {},
     "output_type": "display_data"
    },
    {
     "name": "stdout",
     "output_type": "stream",
     "text": [
      "Уникальные значения [nan 'yes' 'no']\n",
      "Количество пропусков 58822\n"
     ]
    }
   ],
   "source": [
    "col_desc('NotRepaired')"
   ]
  },
  {
   "cell_type": "markdown",
   "metadata": {},
   "source": [
    "Ситуация аналогична с признаком VehicleType. Заполняем пропуски значением 'unknown'"
   ]
  },
  {
   "cell_type": "code",
   "execution_count": 41,
   "metadata": {},
   "outputs": [],
   "source": [
    "data['NotRepaired'] = data['NotRepaired'].fillna('unknown')"
   ]
  },
  {
   "cell_type": "markdown",
   "metadata": {},
   "source": [
    "#### Признак DateCreated"
   ]
  },
  {
   "cell_type": "code",
   "execution_count": 42,
   "metadata": {},
   "outputs": [
    {
     "name": "stderr",
     "output_type": "stream",
     "text": [
      "C:\\Users\\i\\AppData\\Local\\Temp\\ipykernel_18188\\792763814.py:2: FutureWarning: Treating datetime data as categorical rather than numeric in `.describe` is deprecated and will be removed in a future version of pandas. Specify `datetime_is_numeric=True` to silence this warning and adopt the future behavior now.\n",
      "  display(data[column].describe())\n"
     ]
    },
    {
     "data": {
      "text/plain": [
       "count                  327983\n",
       "unique                    108\n",
       "top       2016-04-03 00:00:00\n",
       "freq                    12786\n",
       "first     2014-03-10 00:00:00\n",
       "last      2016-04-07 00:00:00\n",
       "Name: DateCreated, dtype: object"
      ]
     },
     "metadata": {},
     "output_type": "display_data"
    },
    {
     "name": "stdout",
     "output_type": "stream",
     "text": [
      "Уникальные значения ['2016-03-24T00:00:00.000000000' '2016-03-14T00:00:00.000000000'\n",
      " '2016-03-17T00:00:00.000000000' '2016-03-31T00:00:00.000000000'\n",
      " '2016-04-04T00:00:00.000000000' '2016-04-01T00:00:00.000000000'\n",
      " '2016-03-26T00:00:00.000000000' '2016-04-07T00:00:00.000000000'\n",
      " '2016-03-15T00:00:00.000000000' '2016-03-21T00:00:00.000000000'\n",
      " '2016-03-20T00:00:00.000000000' '2016-03-23T00:00:00.000000000'\n",
      " '2016-03-27T00:00:00.000000000' '2016-03-12T00:00:00.000000000'\n",
      " '2016-03-13T00:00:00.000000000' '2016-03-18T00:00:00.000000000'\n",
      " '2016-03-07T00:00:00.000000000' '2016-03-09T00:00:00.000000000'\n",
      " '2016-03-08T00:00:00.000000000' '2016-04-03T00:00:00.000000000'\n",
      " '2016-03-29T00:00:00.000000000' '2016-03-25T00:00:00.000000000'\n",
      " '2016-03-11T00:00:00.000000000' '2016-03-28T00:00:00.000000000'\n",
      " '2016-03-30T00:00:00.000000000' '2016-03-22T00:00:00.000000000'\n",
      " '2016-02-09T00:00:00.000000000' '2016-03-05T00:00:00.000000000'\n",
      " '2016-03-10T00:00:00.000000000' '2016-04-02T00:00:00.000000000'\n",
      " '2016-03-16T00:00:00.000000000' '2016-04-05T00:00:00.000000000'\n",
      " '2016-03-06T00:00:00.000000000' '2016-03-19T00:00:00.000000000'\n",
      " '2016-02-12T00:00:00.000000000' '2016-03-03T00:00:00.000000000'\n",
      " '2016-03-01T00:00:00.000000000' '2016-03-04T00:00:00.000000000'\n",
      " '2016-04-06T00:00:00.000000000' '2016-02-15T00:00:00.000000000'\n",
      " '2016-02-24T00:00:00.000000000' '2016-02-27T00:00:00.000000000'\n",
      " '2015-03-20T00:00:00.000000000' '2016-02-28T00:00:00.000000000'\n",
      " '2016-02-17T00:00:00.000000000' '2016-02-20T00:00:00.000000000'\n",
      " '2016-02-29T00:00:00.000000000' '2016-02-10T00:00:00.000000000'\n",
      " '2016-02-23T00:00:00.000000000' '2016-02-21T00:00:00.000000000'\n",
      " '2015-11-02T00:00:00.000000000' '2016-02-19T00:00:00.000000000'\n",
      " '2016-02-26T00:00:00.000000000' '2016-02-11T00:00:00.000000000'\n",
      " '2016-01-10T00:00:00.000000000' '2016-02-06T00:00:00.000000000'\n",
      " '2016-02-18T00:00:00.000000000' '2016-03-02T00:00:00.000000000'\n",
      " '2015-12-06T00:00:00.000000000' '2016-01-24T00:00:00.000000000'\n",
      " '2016-01-30T00:00:00.000000000' '2016-02-02T00:00:00.000000000'\n",
      " '2016-02-16T00:00:00.000000000' '2016-02-13T00:00:00.000000000'\n",
      " '2016-02-05T00:00:00.000000000' '2016-02-22T00:00:00.000000000'\n",
      " '2015-11-17T00:00:00.000000000' '2014-03-10T00:00:00.000000000'\n",
      " '2016-02-07T00:00:00.000000000' '2016-01-23T00:00:00.000000000'\n",
      " '2016-02-25T00:00:00.000000000' '2016-02-14T00:00:00.000000000'\n",
      " '2016-01-27T00:00:00.000000000' '2016-01-02T00:00:00.000000000'\n",
      " '2015-09-04T00:00:00.000000000' '2015-11-12T00:00:00.000000000'\n",
      " '2015-12-27T00:00:00.000000000' '2015-11-24T00:00:00.000000000'\n",
      " '2016-01-20T00:00:00.000000000' '2016-02-03T00:00:00.000000000'\n",
      " '2015-12-05T00:00:00.000000000' '2015-08-07T00:00:00.000000000'\n",
      " '2016-01-28T00:00:00.000000000' '2016-01-31T00:00:00.000000000'\n",
      " '2016-02-08T00:00:00.000000000' '2016-01-29T00:00:00.000000000'\n",
      " '2016-01-07T00:00:00.000000000' '2016-01-18T00:00:00.000000000'\n",
      " '2016-01-08T00:00:00.000000000' '2015-11-23T00:00:00.000000000'\n",
      " '2016-01-13T00:00:00.000000000' '2016-01-17T00:00:00.000000000'\n",
      " '2016-01-15T00:00:00.000000000' '2015-11-08T00:00:00.000000000'\n",
      " '2016-01-26T00:00:00.000000000' '2016-02-04T00:00:00.000000000'\n",
      " '2016-01-25T00:00:00.000000000' '2016-01-16T00:00:00.000000000'\n",
      " '2015-08-10T00:00:00.000000000' '2016-01-03T00:00:00.000000000'\n",
      " '2016-01-19T00:00:00.000000000' '2015-12-30T00:00:00.000000000'\n",
      " '2016-02-01T00:00:00.000000000' '2015-12-17T00:00:00.000000000'\n",
      " '2015-11-10T00:00:00.000000000' '2016-01-06T00:00:00.000000000'\n",
      " '2015-09-09T00:00:00.000000000' '2015-06-18T00:00:00.000000000']\n",
      "Количество пропусков 0\n"
     ]
    }
   ],
   "source": [
    "col_desc('DateCreated')"
   ]
  },
  {
   "cell_type": "markdown",
   "metadata": {},
   "source": [
    "DateCreated - дата создания анкеты. Маловероятно, что дата создания анкеты может повлиять на целевой признак - цену, поэтому этот признак для нас неинформативен."
   ]
  },
  {
   "cell_type": "code",
   "execution_count": 43,
   "metadata": {},
   "outputs": [],
   "source": [
    "data = data.drop('DateCreated', axis=1)"
   ]
  },
  {
   "cell_type": "markdown",
   "metadata": {},
   "source": [
    "#### Признак NumberOfPictures"
   ]
  },
  {
   "cell_type": "code",
   "execution_count": 44,
   "metadata": {},
   "outputs": [
    {
     "data": {
      "text/plain": [
       "count    327983.0\n",
       "mean          0.0\n",
       "std           0.0\n",
       "min           0.0\n",
       "25%           0.0\n",
       "50%           0.0\n",
       "75%           0.0\n",
       "max           0.0\n",
       "Name: NumberOfPictures, dtype: float64"
      ]
     },
     "metadata": {},
     "output_type": "display_data"
    },
    {
     "name": "stdout",
     "output_type": "stream",
     "text": [
      "Уникальные значения [0]\n",
      "Количество пропусков 0\n"
     ]
    }
   ],
   "source": [
    "col_desc('NumberOfPictures')"
   ]
  },
  {
   "cell_type": "markdown",
   "metadata": {},
   "source": [
    "Столбец полностью состоит из нулей. Такой признак полностью неинформативен для нашей задачи."
   ]
  },
  {
   "cell_type": "code",
   "execution_count": 45,
   "metadata": {},
   "outputs": [],
   "source": [
    "data = data.drop('NumberOfPictures', axis=1)"
   ]
  },
  {
   "cell_type": "markdown",
   "metadata": {},
   "source": [
    "#### Признак PostalCode"
   ]
  },
  {
   "cell_type": "code",
   "execution_count": 46,
   "metadata": {},
   "outputs": [
    {
     "data": {
      "text/plain": [
       "count    327983.000000\n",
       "mean      50788.300101\n",
       "std       25764.728852\n",
       "min        1067.000000\n",
       "25%       30457.000000\n",
       "50%       49632.000000\n",
       "75%       71364.000000\n",
       "max       99998.000000\n",
       "Name: PostalCode, dtype: float64"
      ]
     },
     "metadata": {},
     "output_type": "display_data"
    },
    {
     "name": "stdout",
     "output_type": "stream",
     "text": [
      "Уникальные значения [70435 66954 90480 ... 14053 38325 89344]\n",
      "Количество пропусков 0\n"
     ]
    }
   ],
   "source": [
    "col_desc('PostalCode')"
   ]
  },
  {
   "cell_type": "markdown",
   "metadata": {},
   "source": [
    "PostalCode — почтовый индекс владельца анкеты. Этот признак может быть информативен, т.к. указывает на географическое положение владельца анкеты, что может повлиять на целевой признак, поэтому этот столбец оставляем без изменений."
   ]
  },
  {
   "cell_type": "markdown",
   "metadata": {},
   "source": [
    "#### Признак LastSeen"
   ]
  },
  {
   "cell_type": "code",
   "execution_count": 47,
   "metadata": {},
   "outputs": [
    {
     "name": "stderr",
     "output_type": "stream",
     "text": [
      "C:\\Users\\i\\AppData\\Local\\Temp\\ipykernel_18188\\792763814.py:2: FutureWarning: Treating datetime data as categorical rather than numeric in `.describe` is deprecated and will be removed in a future version of pandas. Specify `datetime_is_numeric=True` to silence this warning and adopt the future behavior now.\n",
      "  display(data[column].describe())\n"
     ]
    },
    {
     "data": {
      "text/plain": [
       "count                  327983\n",
       "unique                 168136\n",
       "top       2016-04-07 13:17:48\n",
       "freq                       16\n",
       "first     2016-03-05 14:15:08\n",
       "last      2016-04-07 14:58:51\n",
       "Name: LastSeen, dtype: object"
      ]
     },
     "metadata": {},
     "output_type": "display_data"
    },
    {
     "name": "stdout",
     "output_type": "stream",
     "text": [
      "Уникальные значения ['2016-04-07T03:16:57.000000000' '2016-04-07T01:46:50.000000000'\n",
      " '2016-04-05T12:47:46.000000000' ... '2016-03-13T01:44:13.000000000'\n",
      " '2016-03-19T20:44:43.000000000' '2016-03-29T10:17:23.000000000']\n",
      "Количество пропусков 0\n"
     ]
    }
   ],
   "source": [
    "col_desc('LastSeen')"
   ]
  },
  {
   "cell_type": "markdown",
   "metadata": {},
   "source": [
    "LastSeen — дата последней активности пользователя. Маловероятно, что дата последней активности пользователя может повлиять на целевой признак - цену, поэтому этот признак для нас неинформативен."
   ]
  },
  {
   "cell_type": "code",
   "execution_count": 48,
   "metadata": {},
   "outputs": [],
   "source": [
    "data = data.drop('LastSeen', axis=1)"
   ]
  },
  {
   "cell_type": "markdown",
   "metadata": {},
   "source": [
    "### Вывод"
   ]
  },
  {
   "cell_type": "code",
   "execution_count": 49,
   "metadata": {},
   "outputs": [
    {
     "name": "stdout",
     "output_type": "stream",
     "text": [
      "<class 'pandas.core.frame.DataFrame'>\n",
      "Int64Index: 327983 entries, 0 to 354368\n",
      "Data columns (total 12 columns):\n",
      " #   Column             Non-Null Count   Dtype \n",
      "---  ------             --------------   ----- \n",
      " 0   Price              327983 non-null  int64 \n",
      " 1   VehicleType        327983 non-null  object\n",
      " 2   RegistrationYear   327983 non-null  int64 \n",
      " 3   Gearbox            327983 non-null  object\n",
      " 4   Power              327983 non-null  int64 \n",
      " 5   Model              327983 non-null  object\n",
      " 6   Kilometer          327983 non-null  int64 \n",
      " 7   RegistrationMonth  327983 non-null  int64 \n",
      " 8   FuelType           327983 non-null  object\n",
      " 9   Brand              327983 non-null  object\n",
      " 10  NotRepaired        327983 non-null  object\n",
      " 11  PostalCode         327983 non-null  int64 \n",
      "dtypes: int64(6), object(6)\n",
      "memory usage: 40.6+ MB\n"
     ]
    }
   ],
   "source": [
    "data.info()"
   ]
  },
  {
   "cell_type": "code",
   "execution_count": 50,
   "metadata": {},
   "outputs": [
    {
     "name": "stdout",
     "output_type": "stream",
     "text": [
      "Удалено 7.44 процентов данных\n"
     ]
    }
   ],
   "source": [
    "print('Удалено', round((DateCrawled.count()-data['Price'].count())/DateCrawled.count()*100, 2), 'процентов данных')"
   ]
  },
  {
   "cell_type": "markdown",
   "metadata": {},
   "source": [
    "<b>Вывод</b>\n",
    "\n",
    "Обработаны все признаки, удалено 4 неинформативных признака и 7,4% данных, которые ухудшали бы обучение модели. Найдены и обработаны аномалии в столбцах 'Power', 'RegistrationMonth'. Заполнены пропуски. Удалены дубликаты."
   ]
  },
  {
   "cell_type": "markdown",
   "metadata": {
    "tags": []
   },
   "source": [
    "## Подготовка выборки к обучению моделей"
   ]
  },
  {
   "cell_type": "code",
   "execution_count": 51,
   "metadata": {},
   "outputs": [],
   "source": [
    "categorical = ['VehicleType', 'Gearbox', 'Model', 'FuelType', 'Brand', 'NotRepaired']\n",
    "numeric = ['Price', 'Power', 'Kilometer', 'PostalCode']\n",
    "\n",
    "for column in numeric:\n",
    "    data[column] = pd.to_numeric(data[column], downcast='integer')"
   ]
  },
  {
   "cell_type": "code",
   "execution_count": 52,
   "metadata": {},
   "outputs": [
    {
     "name": "stdout",
     "output_type": "stream",
     "text": [
      "Index(['Price', 'RegistrationYear', 'Power', 'Kilometer', 'RegistrationMonth',\n",
      "       'PostalCode', 'VehicleType_convertible', 'VehicleType_coupe',\n",
      "       'VehicleType_other', 'VehicleType_sedan',\n",
      "       ...\n",
      "       'Brand_smart', 'Brand_sonstige_autos', 'Brand_subaru', 'Brand_suzuki',\n",
      "       'Brand_toyota', 'Brand_trabant', 'Brand_volkswagen', 'Brand_volvo',\n",
      "       'NotRepaired_unknown', 'NotRepaired_yes'],\n",
      "      dtype='object', length=314)\n"
     ]
    }
   ],
   "source": [
    "# Преобразование категориальных признаков\n",
    "\n",
    "data_ohe = pd.get_dummies(data, drop_first=True, columns=categorical)\n",
    "\n",
    "print(data_ohe.columns)"
   ]
  },
  {
   "cell_type": "code",
   "execution_count": 53,
   "metadata": {},
   "outputs": [],
   "source": [
    "# Разделение выборок на обучающую, валидационную и тестовую\n",
    "\n",
    "data_train_ohe, data_test_ohe = train_test_split(data_ohe, test_size=0.2, random_state=12345)\n",
    "data_train_ohe, data_valid_ohe = train_test_split(data_train_ohe, test_size=0.25, random_state=12345)\n",
    "\n",
    "features_train_linear = data_train_ohe.drop('Price', axis=1)\n",
    "target_train_linear = data_train_ohe['Price']\n",
    "feature_valid_linear = data_valid_ohe.drop('Price', axis=1)\n",
    "target_valid_linear = data_valid_ohe['Price']\n",
    "features_test_linear = data_test_ohe.drop('Price', axis=1)\n",
    "target_test_linear = data_test_ohe['Price']\n",
    "\n",
    "# Обработка числовых признаков\n",
    "\n",
    "numeric.remove('Price')\n",
    "scaler = StandardScaler()\n",
    "scaler.fit(features_train_linear[numeric])\n",
    "features_train_linear[numeric] = scaler.transform(features_train_linear[numeric])\n",
    "feature_valid_linear[numeric] = scaler.transform(feature_valid_linear[numeric])\n",
    "features_test_linear[numeric] = scaler.transform(features_test_linear[numeric])\n",
    "\n",
    "obj_feat = list(data.loc[:, data.dtypes == 'object'].columns.values)\n",
    "for feature in obj_feat:\n",
    "    data[feature] = pd.Series(data[feature], dtype=\"category\")\n",
    "\n",
    "data_train, data_test = train_test_split(data, test_size=0.2, random_state=12345)\n",
    "data_train, data_valid = train_test_split(data_train, test_size=0.25, random_state=12345)\n",
    "\n",
    "features_train = data_train.drop('Price', axis=1)\n",
    "target_train = data_train['Price']\n",
    "feature_valid = data_valid.drop('Price', axis=1)\n",
    "target_valid = data_valid['Price']\n",
    "features_test = data_test.drop('Price', axis=1)\n",
    "target_test = data_test['Price']\n",
    "\n",
    "scaler = StandardScaler()\n",
    "scaler.fit(features_train[numeric])\n",
    "features_train[numeric] = scaler.transform(features_train[numeric])\n",
    "feature_valid[numeric] = scaler.transform(feature_valid[numeric])\n",
    "features_test[numeric] = scaler.transform(features_test[numeric])"
   ]
  },
  {
   "cell_type": "markdown",
   "metadata": {
    "tags": []
   },
   "source": [
    "## Обучение моделей"
   ]
  },
  {
   "cell_type": "code",
   "execution_count": 54,
   "metadata": {},
   "outputs": [],
   "source": [
    "# Функция для нахождения RMSE моделей\n",
    "\n",
    "def rmse(predictions, targets):\n",
    "    return np.sqrt(((predictions - targets) ** 2).mean())"
   ]
  },
  {
   "cell_type": "code",
   "execution_count": 55,
   "metadata": {},
   "outputs": [],
   "source": [
    "# Очистка памяти\n",
    "\n",
    "del data\n",
    "del data_ohe\n",
    "#del data_ohe_1\n",
    "#del data_ohe_2\n",
    "del data_train_ohe\n",
    "del data_test_ohe\n",
    "del data_valid_ohe"
   ]
  },
  {
   "cell_type": "markdown",
   "metadata": {},
   "source": [
    "В библиотеке lightgbm будем использовать модель LGBMRegressor. При создании этой модели можно использовать разные значения параметра 'boosting_type'. Переберём их."
   ]
  },
  {
   "cell_type": "code",
   "execution_count": 56,
   "metadata": {},
   "outputs": [
    {
     "name": "stdout",
     "output_type": "stream",
     "text": [
      "boosting_type=gbdt\n",
      "Время обучения: 1.0687\n",
      "Время предсказания: 0.1895\n",
      "Значение метрики RMSE: 1640.022462313679\n",
      "boosting_type=dart\n",
      "Время обучения: 3.0569\n",
      "Время предсказания: 0.1667\n",
      "Значение метрики RMSE: 1794.6329852172294\n",
      "boosting_type=goss\n",
      "Время обучения: 1.429\n",
      "Время предсказания: 0.1862\n",
      "Значение метрики RMSE: 1646.9317500032435\n"
     ]
    }
   ],
   "source": [
    "boosting_types = ['gbdt', 'dart', 'goss']\n",
    "\n",
    "fit_time_list = []\n",
    "predict_time_list = []\n",
    "rmse_list = []\n",
    "\n",
    "for value in boosting_types:\n",
    "    model = LGBMRegressor(boosting_type=value, random_state=12345)\n",
    "    start = time.time()\n",
    "    model.fit(features_train, target_train)\n",
    "    end = time.time()\n",
    "    fit_time = round(end-start, 4)\n",
    "    start = time.time()\n",
    "    predictions = model.predict(feature_valid)\n",
    "    end = time.time()\n",
    "    predict_time = round(end-start, 4)\n",
    "    \n",
    "    fit_time_list.append(fit_time)\n",
    "    predict_time_list.append(predict_time)\n",
    "    rmse_list.append(rmse(predictions, target_valid))\n",
    "    \n",
    "    print('boosting_type=' + value)\n",
    "    print('Время обучения:', fit_time)\n",
    "    print('Время предсказания:', predict_time)\n",
    "    print('Значение метрики RMSE:', rmse(predictions, target_valid))"
   ]
  },
  {
   "cell_type": "markdown",
   "metadata": {},
   "source": [
    "Наименьшие значения времени и RMSE у модели градиентного бустинга дерева решений, значит с ней и будем дальше работать. Переберём для неё гиперпараметры и найдём наилучшую модель.\n",
    "\n",
    "P.S. По умолчанию: num_leaves=31, n_estimators=100"
   ]
  },
  {
   "cell_type": "code",
   "execution_count": 57,
   "metadata": {},
   "outputs": [
    {
     "name": "stdout",
     "output_type": "stream",
     "text": [
      "Прогресс: [1/77]\n",
      "Прогресс: [2/77]\n",
      "Прогресс: [3/77]\n",
      "Прогресс: [4/77]\n",
      "Прогресс: [5/77]\n",
      "Прогресс: [6/77]\n",
      "Прогресс: [7/77]\n",
      "Прогресс: [8/77]\n",
      "Прогресс: [9/77]\n",
      "Прогресс: [10/77]\n",
      "Прогресс: [11/77]\n",
      "Прогресс: [12/77]\n",
      "Прогресс: [13/77]\n",
      "Прогресс: [14/77]\n",
      "Прогресс: [15/77]\n",
      "Прогресс: [16/77]\n",
      "Прогресс: [17/77]\n",
      "Прогресс: [18/77]\n",
      "Прогресс: [19/77]\n",
      "Прогресс: [20/77]\n",
      "Прогресс: [21/77]\n",
      "Прогресс: [22/77]\n",
      "Прогресс: [23/77]\n",
      "Прогресс: [24/77]\n",
      "Прогресс: [25/77]\n",
      "Прогресс: [26/77]\n",
      "Прогресс: [27/77]\n",
      "Прогресс: [28/77]\n",
      "Прогресс: [29/77]\n",
      "Прогресс: [30/77]\n",
      "Прогресс: [31/77]\n",
      "Прогресс: [32/77]\n",
      "Прогресс: [33/77]\n",
      "Прогресс: [34/77]\n",
      "Прогресс: [35/77]\n",
      "Прогресс: [36/77]\n",
      "Прогресс: [37/77]\n",
      "Прогресс: [38/77]\n",
      "Прогресс: [39/77]\n",
      "Прогресс: [40/77]\n",
      "Прогресс: [41/77]\n",
      "Прогресс: [42/77]\n",
      "Прогресс: [43/77]\n",
      "Прогресс: [44/77]\n",
      "Прогресс: [45/77]\n",
      "Прогресс: [46/77]\n",
      "Прогресс: [47/77]\n",
      "Прогресс: [48/77]\n",
      "Прогресс: [49/77]\n",
      "Прогресс: [50/77]\n",
      "Прогресс: [51/77]\n",
      "Прогресс: [52/77]\n",
      "Прогресс: [53/77]\n",
      "Прогресс: [54/77]\n",
      "Прогресс: [55/77]\n",
      "Прогресс: [56/77]\n",
      "Прогресс: [57/77]\n",
      "Прогресс: [58/77]\n",
      "Прогресс: [59/77]\n",
      "Прогресс: [60/77]\n",
      "Прогресс: [61/77]\n",
      "Прогресс: [62/77]\n",
      "Прогресс: [63/77]\n",
      "Прогресс: [64/77]\n",
      "Прогресс: [65/77]\n",
      "Прогресс: [66/77]\n",
      "Прогресс: [67/77]\n",
      "Прогресс: [68/77]\n",
      "Прогресс: [69/77]\n",
      "Прогресс: [70/77]\n",
      "Прогресс: [71/77]\n",
      "Прогресс: [72/77]\n",
      "Прогресс: [73/77]\n",
      "Прогресс: [74/77]\n",
      "Прогресс: [75/77]\n",
      "Прогресс: [76/77]\n",
      "Прогресс: [77/77]\n",
      "Лучший результат метрики RMSE у модели LGBRegressor равен 1563.173728775846\n",
      "Значение num_leaves равно 70\n",
      "Значение n_estimators равно 200\n"
     ]
    }
   ],
   "source": [
    "# Подбор парамтеров, дающих наилучшее значение контрольной метрики\n",
    "\n",
    "best_result = 5000 \n",
    "best_leaf = 0\n",
    "best_est = 0\n",
    "i = 0\n",
    "\n",
    "for leaf in range(40, 71, 5):\n",
    "    for est in range(100, 201, 10):\n",
    "        model = LGBMRegressor(boosting_type='gbdt', num_leaves=leaf, n_estimators=est, random_state=12345)\n",
    "        model.fit(features_train, target_train)\n",
    "        predictions = model.predict(feature_valid)\n",
    "        result = rmse(predictions, target_valid)\n",
    "        if result < best_result:\n",
    "            best_leaf = leaf\n",
    "            best_est = est\n",
    "            best_result = result\n",
    "            \n",
    "        i += 1\n",
    "        print('Прогресс: ['+str(i)+'/77]')\n",
    "            \n",
    "print('Лучший результат метрики RMSE у модели LGBRegressor равен', best_result)\n",
    "print('Значение num_leaves равно', best_leaf)\n",
    "print('Значение n_estimators равно', best_est)"
   ]
  },
  {
   "cell_type": "code",
   "execution_count": 58,
   "metadata": {},
   "outputs": [
    {
     "name": "stdout",
     "output_type": "stream",
     "text": [
      "Время обучения: 2.2152\n",
      "Время предсказания: 0.308\n",
      "Значение метрики RMSE: 1563.173728775846\n"
     ]
    }
   ],
   "source": [
    "# Измерение времени работы наилучшей модели\n",
    "\n",
    "model = LGBMRegressor(boosting_type='gbdt', num_leaves=best_leaf, n_estimators=best_est, random_state=12345)\n",
    "start = time.time()\n",
    "model.fit(features_train, target_train)\n",
    "end = time.time()\n",
    "fit_time = round(end-start, 4)\n",
    "start = time.time()\n",
    "predictions = model.predict(feature_valid)\n",
    "end = time.time()\n",
    "predict_time = round(end-start, 4)\n",
    "\n",
    "print('Время обучения:', fit_time)\n",
    "print('Время предсказания:', predict_time)\n",
    "print('Значение метрики RMSE:', rmse(predictions, target_valid))\n",
    "\n",
    "fit_time_list.append(fit_time)\n",
    "predict_time_list.append(predict_time)\n",
    "rmse_list.append(rmse(predictions, target_valid))\n",
    "boosting_types.append('gbdt_best')"
   ]
  },
  {
   "cell_type": "markdown",
   "metadata": {},
   "source": [
    "Для сравнения также рассмотрим контрольные значения уже знакомой модели линейной регрессии."
   ]
  },
  {
   "cell_type": "code",
   "execution_count": 59,
   "metadata": {},
   "outputs": [
    {
     "name": "stdout",
     "output_type": "stream",
     "text": [
      "Значение метрики RMSE у модели линейной регрессии 2715.024080382376\n",
      "Время обучения 3.039\n",
      "Время предсказания 0.1131\n"
     ]
    }
   ],
   "source": [
    "# Линейная регрессия\n",
    "\n",
    "model = LinearRegression()\n",
    "start = time.time()\n",
    "model.fit(features_train_linear, target_train_linear)\n",
    "end = time.time()\n",
    "fit_time = round(end-start, 4)\n",
    "start = time.time()\n",
    "predictions = model.predict(feature_valid_linear)\n",
    "end = time.time()\n",
    "predict_time = round(end-start, 4)\n",
    "    \n",
    "print('Значение метрики RMSE у модели линейной регрессии', rmse(predictions, target_valid_linear))\n",
    "print('Время обучения', fit_time)\n",
    "print('Время предсказания', predict_time)\n",
    "\n",
    "fit_time_list.append(fit_time)\n",
    "predict_time_list.append(predict_time)\n",
    "rmse_list.append(rmse(predictions, target_valid_linear))\n",
    "boosting_types.append('linear regression')"
   ]
  },
  {
   "cell_type": "markdown",
   "metadata": {
    "tags": []
   },
   "source": [
    "## Анализ моделей"
   ]
  },
  {
   "cell_type": "markdown",
   "metadata": {},
   "source": [
    "По ходу рассмотрения все контрольные значения мы заносили в списки, теперь для анализа их можно внести в таблицу."
   ]
  },
  {
   "cell_type": "code",
   "execution_count": 60,
   "metadata": {},
   "outputs": [
    {
     "data": {
      "text/html": [
       "<div>\n",
       "<style scoped>\n",
       "    .dataframe tbody tr th:only-of-type {\n",
       "        vertical-align: middle;\n",
       "    }\n",
       "\n",
       "    .dataframe tbody tr th {\n",
       "        vertical-align: top;\n",
       "    }\n",
       "\n",
       "    .dataframe thead th {\n",
       "        text-align: right;\n",
       "    }\n",
       "</style>\n",
       "<table border=\"1\" class=\"dataframe\">\n",
       "  <thead>\n",
       "    <tr style=\"text-align: right;\">\n",
       "      <th></th>\n",
       "      <th>model</th>\n",
       "      <th>RMSE</th>\n",
       "      <th>fit_time</th>\n",
       "      <th>predict_time</th>\n",
       "    </tr>\n",
       "  </thead>\n",
       "  <tbody>\n",
       "    <tr>\n",
       "      <th>3</th>\n",
       "      <td>gbdt_best</td>\n",
       "      <td>1563.173729</td>\n",
       "      <td>2.2152</td>\n",
       "      <td>0.3080</td>\n",
       "    </tr>\n",
       "    <tr>\n",
       "      <th>0</th>\n",
       "      <td>gbdt</td>\n",
       "      <td>1640.022462</td>\n",
       "      <td>1.0687</td>\n",
       "      <td>0.1895</td>\n",
       "    </tr>\n",
       "    <tr>\n",
       "      <th>2</th>\n",
       "      <td>goss</td>\n",
       "      <td>1646.931750</td>\n",
       "      <td>1.4290</td>\n",
       "      <td>0.1862</td>\n",
       "    </tr>\n",
       "    <tr>\n",
       "      <th>1</th>\n",
       "      <td>dart</td>\n",
       "      <td>1794.632985</td>\n",
       "      <td>3.0569</td>\n",
       "      <td>0.1667</td>\n",
       "    </tr>\n",
       "    <tr>\n",
       "      <th>4</th>\n",
       "      <td>linear regression</td>\n",
       "      <td>2715.024080</td>\n",
       "      <td>3.0390</td>\n",
       "      <td>0.1131</td>\n",
       "    </tr>\n",
       "  </tbody>\n",
       "</table>\n",
       "</div>"
      ],
      "text/plain": [
       "               model         RMSE  fit_time  predict_time\n",
       "3          gbdt_best  1563.173729    2.2152        0.3080\n",
       "0               gbdt  1640.022462    1.0687        0.1895\n",
       "2               goss  1646.931750    1.4290        0.1862\n",
       "1               dart  1794.632985    3.0569        0.1667\n",
       "4  linear regression  2715.024080    3.0390        0.1131"
      ]
     },
     "metadata": {},
     "output_type": "display_data"
    }
   ],
   "source": [
    "model_analys = pd.DataFrame()\n",
    "model_analys['model'] = boosting_types\n",
    "model_analys['RMSE'] = rmse_list\n",
    "model_analys['fit_time'] = fit_time_list\n",
    "model_analys['predict_time'] = predict_time_list\n",
    "\n",
    "display(model_analys.sort_values('RMSE'))"
   ]
  },
  {
   "cell_type": "markdown",
   "metadata": {},
   "source": [
    "<b>Анализ</b>\n",
    "\n",
    "Как видим, наилучшая модель по метрике RMSE это модель gbdt с подобранными гиперпараметрами, но она отстаёт по времени обучения почти в 3.5 раза и почти в 2 раза по времени предсказания от ближайшей по метрике RMSE. Хуже всего по RMSE показала себя модель линейной регрессии, но она имеет наименьшее время предсказания.    \n",
    "\n",
    "Все модели подходят под условие, что значение метрики RMSE должно быть меньше 2500, поэтому выбираем модель с наименьшим значением времени обучения и времени предсказания. Это модель LGBMRegressor с параметром boosting_type='gbdt'. Проверяем на тестовой выборке."
   ]
  },
  {
   "cell_type": "code",
   "execution_count": 61,
   "metadata": {},
   "outputs": [
    {
     "name": "stdout",
     "output_type": "stream",
     "text": [
      "Время обучения: 1.007\n",
      "Время предсказания: 0.191\n",
      "Значение метрики RMSE: 1649.4694385194798\n"
     ]
    }
   ],
   "source": [
    "model = LGBMRegressor(boosting_type='gbdt', random_state=12345)\n",
    "start = time.time()\n",
    "model.fit(features_train, target_train)\n",
    "end = time.time()\n",
    "fit_time = round(end-start, 4)\n",
    "start = time.time()\n",
    "predictions = model.predict(features_test)\n",
    "end = time.time()\n",
    "predict_time = round(end-start, 4)\n",
    "\n",
    "print('Время обучения:', fit_time)\n",
    "print('Время предсказания:', predict_time)\n",
    "print('Значение метрики RMSE:', rmse(predictions, target_test))"
   ]
  },
  {
   "cell_type": "markdown",
   "metadata": {},
   "source": [
    "<b>Вывод</b>\n",
    "\n",
    "Данные обработаны и подготовлены для обучения моделей. Обучены несколько моделей из библиотеки LightGBM, подобраны гиперпараметры для одной из них, также обучена модель линейной регрессии. На основе контрольных значений, а именно: метрики RMSE, времени обучения и времени предсказания, выбрана наилучшая модель. Итоговая модель построена, значение метрики RMSE удовлетворяет условию RMSE<2500."
   ]
  }
 ],
 "metadata": {
  "ExecuteTimeLog": [
   {
    "duration": 1171,
    "start_time": "2022-08-18T23:04:52.284Z"
   },
   {
    "duration": 1535,
    "start_time": "2022-08-18T23:05:18.341Z"
   },
   {
    "duration": 113,
    "start_time": "2022-08-18T23:17:10.526Z"
   },
   {
    "duration": 24,
    "start_time": "2022-08-18T23:17:40.551Z"
   },
   {
    "duration": 711,
    "start_time": "2022-08-18T23:18:34.350Z"
   },
   {
    "duration": 224,
    "start_time": "2022-08-18T23:19:01.122Z"
   },
   {
    "duration": 227,
    "start_time": "2022-08-18T23:20:19.379Z"
   },
   {
    "duration": 245,
    "start_time": "2022-08-18T23:20:31.942Z"
   },
   {
    "duration": 1156,
    "start_time": "2022-08-19T06:54:42.866Z"
   },
   {
    "duration": 1332,
    "start_time": "2022-08-19T06:54:44.024Z"
   },
   {
    "duration": 7,
    "start_time": "2022-08-19T07:00:33.646Z"
   },
   {
    "duration": 6,
    "start_time": "2022-08-19T07:00:44.075Z"
   },
   {
    "duration": 3,
    "start_time": "2022-08-19T15:47:17.451Z"
   },
   {
    "duration": 995,
    "start_time": "2022-08-19T15:47:19.778Z"
   },
   {
    "duration": 390,
    "start_time": "2022-08-19T15:48:01.865Z"
   },
   {
    "duration": 43,
    "start_time": "2022-08-19T15:48:58.932Z"
   },
   {
    "duration": 40,
    "start_time": "2022-08-19T15:49:56.690Z"
   },
   {
    "duration": 1130,
    "start_time": "2022-08-22T12:50:35.620Z"
   },
   {
    "duration": 3095,
    "start_time": "2022-08-22T12:50:36.752Z"
   },
   {
    "duration": 318,
    "start_time": "2022-08-22T12:50:39.849Z"
   },
   {
    "duration": 63,
    "start_time": "2022-08-22T12:50:40.169Z"
   },
   {
    "duration": 7,
    "start_time": "2022-08-22T12:54:57.201Z"
   },
   {
    "duration": 91,
    "start_time": "2022-08-22T12:55:09.665Z"
   },
   {
    "duration": 11,
    "start_time": "2022-08-22T12:55:13.547Z"
   },
   {
    "duration": 10,
    "start_time": "2022-08-22T12:55:16.817Z"
   },
   {
    "duration": 7,
    "start_time": "2022-08-22T12:55:20.067Z"
   },
   {
    "duration": 10,
    "start_time": "2022-08-22T12:58:43.092Z"
   },
   {
    "duration": 7,
    "start_time": "2022-08-22T12:58:51.467Z"
   },
   {
    "duration": 6,
    "start_time": "2022-08-22T12:58:57.070Z"
   },
   {
    "duration": 6,
    "start_time": "2022-08-22T12:59:04.787Z"
   },
   {
    "duration": 1098,
    "start_time": "2022-08-23T09:50:19.094Z"
   },
   {
    "duration": 1309,
    "start_time": "2022-08-23T09:50:21.084Z"
   },
   {
    "duration": 1085,
    "start_time": "2022-08-25T15:25:57.477Z"
   },
   {
    "duration": 2891,
    "start_time": "2022-08-25T15:25:58.564Z"
   },
   {
    "duration": 307,
    "start_time": "2022-08-25T15:26:01.456Z"
   },
   {
    "duration": 3,
    "start_time": "2022-08-25T15:26:01.765Z"
   },
   {
    "duration": 9,
    "start_time": "2022-08-25T15:26:01.769Z"
   },
   {
    "duration": 1245,
    "start_time": "2022-08-26T13:39:45.329Z"
   },
   {
    "duration": 1435,
    "start_time": "2022-08-26T13:39:46.576Z"
   },
   {
    "duration": 366,
    "start_time": "2022-08-26T13:39:48.013Z"
   },
   {
    "duration": 3,
    "start_time": "2022-08-26T13:39:48.381Z"
   },
   {
    "duration": 9,
    "start_time": "2022-08-26T13:39:48.386Z"
   },
   {
    "duration": 1225,
    "start_time": "2022-08-27T10:00:18.316Z"
   },
   {
    "duration": 1341,
    "start_time": "2022-08-27T10:00:19.543Z"
   },
   {
    "duration": 349,
    "start_time": "2022-08-27T10:00:20.885Z"
   },
   {
    "duration": 3,
    "start_time": "2022-08-27T10:00:21.235Z"
   },
   {
    "duration": 7,
    "start_time": "2022-08-27T10:00:21.240Z"
   },
   {
    "duration": 115,
    "start_time": "2022-08-27T10:01:28.638Z"
   },
   {
    "duration": 4,
    "start_time": "2022-08-27T10:01:35.408Z"
   },
   {
    "duration": 11,
    "start_time": "2022-08-27T10:03:47.511Z"
   },
   {
    "duration": 105,
    "start_time": "2022-08-27T10:03:54.830Z"
   },
   {
    "duration": 119,
    "start_time": "2022-08-27T10:05:02.384Z"
   },
   {
    "duration": 105,
    "start_time": "2022-08-27T10:05:04.614Z"
   },
   {
    "duration": 397,
    "start_time": "2022-08-27T10:10:28.841Z"
   },
   {
    "duration": 147,
    "start_time": "2022-08-27T10:11:11.449Z"
   },
   {
    "duration": 135,
    "start_time": "2022-08-27T10:11:31.681Z"
   },
   {
    "duration": 157,
    "start_time": "2022-08-27T10:11:51.873Z"
   },
   {
    "duration": 16,
    "start_time": "2022-08-27T10:15:29.055Z"
   },
   {
    "duration": 15,
    "start_time": "2022-08-27T10:15:43.591Z"
   },
   {
    "duration": 25,
    "start_time": "2022-08-27T10:15:57.131Z"
   },
   {
    "duration": 5,
    "start_time": "2022-08-27T10:17:58.057Z"
   },
   {
    "duration": 28,
    "start_time": "2022-08-27T10:19:29.136Z"
   },
   {
    "duration": 1465,
    "start_time": "2022-08-31T16:20:19.870Z"
   },
   {
    "duration": 1464,
    "start_time": "2022-08-31T16:20:21.337Z"
   },
   {
    "duration": 342,
    "start_time": "2022-08-31T16:20:22.802Z"
   },
   {
    "duration": 13,
    "start_time": "2022-08-31T16:20:23.146Z"
   },
   {
    "duration": 33,
    "start_time": "2022-08-31T16:20:24.908Z"
   },
   {
    "duration": 106,
    "start_time": "2022-08-31T16:22:21.169Z"
   },
   {
    "duration": 2523,
    "start_time": "2022-08-31T16:22:32.060Z"
   },
   {
    "duration": 1250,
    "start_time": "2022-08-31T17:18:04.335Z"
   },
   {
    "duration": 1068,
    "start_time": "2022-08-31T17:18:06.419Z"
   },
   {
    "duration": 356,
    "start_time": "2022-08-31T17:18:07.489Z"
   },
   {
    "duration": 14,
    "start_time": "2022-08-31T17:18:13.454Z"
   },
   {
    "duration": 2600,
    "start_time": "2022-08-31T17:18:21.134Z"
   },
   {
    "duration": 1648,
    "start_time": "2022-08-31T17:19:10.631Z"
   },
   {
    "duration": 983,
    "start_time": "2022-08-31T17:20:38.526Z"
   },
   {
    "duration": 324,
    "start_time": "2022-08-31T17:20:39.511Z"
   },
   {
    "duration": 369,
    "start_time": "2022-08-31T17:20:40.855Z"
   },
   {
    "duration": 1061,
    "start_time": "2022-08-31T17:21:22.623Z"
   },
   {
    "duration": 1012,
    "start_time": "2022-08-31T17:21:39.734Z"
   },
   {
    "duration": 328,
    "start_time": "2022-08-31T17:21:47.391Z"
   },
   {
    "duration": 781,
    "start_time": "2022-08-31T17:21:49.031Z"
   },
   {
    "duration": 21,
    "start_time": "2022-08-31T17:22:35.782Z"
   },
   {
    "duration": 28,
    "start_time": "2022-08-31T18:02:51.599Z"
   },
   {
    "duration": 1399,
    "start_time": "2022-08-31T18:03:04.203Z"
   },
   {
    "duration": 1018,
    "start_time": "2022-08-31T18:03:05.604Z"
   },
   {
    "duration": 333,
    "start_time": "2022-08-31T18:03:07.803Z"
   },
   {
    "duration": 934,
    "start_time": "2022-08-31T18:03:11.907Z"
   },
   {
    "duration": 1449,
    "start_time": "2022-08-31T18:03:27.102Z"
   },
   {
    "duration": 1707,
    "start_time": "2022-09-01T16:36:48.028Z"
   },
   {
    "duration": 3259,
    "start_time": "2022-09-01T16:36:49.737Z"
   },
   {
    "duration": 376,
    "start_time": "2022-09-01T16:36:52.997Z"
   },
   {
    "duration": 405,
    "start_time": "2022-09-01T16:36:53.375Z"
   },
   {
    "duration": 865,
    "start_time": "2022-09-01T16:36:53.782Z"
   },
   {
    "duration": 0,
    "start_time": "2022-09-01T16:36:54.649Z"
   },
   {
    "duration": 0,
    "start_time": "2022-09-01T16:36:54.650Z"
   },
   {
    "duration": 253,
    "start_time": "2022-09-01T16:41:55.614Z"
   },
   {
    "duration": 3,
    "start_time": "2022-09-01T16:42:38.880Z"
   },
   {
    "duration": 1061,
    "start_time": "2022-09-01T16:42:40.334Z"
   },
   {
    "duration": 377,
    "start_time": "2022-09-01T16:42:41.821Z"
   },
   {
    "duration": 280,
    "start_time": "2022-09-01T16:42:53.142Z"
   },
   {
    "duration": 91,
    "start_time": "2022-09-01T16:42:54.318Z"
   },
   {
    "duration": 1533,
    "start_time": "2022-09-01T16:43:19.951Z"
   },
   {
    "duration": 4,
    "start_time": "2022-09-01T16:43:30.853Z"
   },
   {
    "duration": 1113,
    "start_time": "2022-09-01T16:43:31.382Z"
   },
   {
    "duration": 345,
    "start_time": "2022-09-01T16:43:32.989Z"
   },
   {
    "duration": 396,
    "start_time": "2022-09-01T16:43:40.813Z"
   },
   {
    "duration": 95,
    "start_time": "2022-09-01T16:43:42.157Z"
   },
   {
    "duration": 560,
    "start_time": "2022-09-01T16:43:50.293Z"
   },
   {
    "duration": 112,
    "start_time": "2022-09-01T16:45:01.302Z"
   },
   {
    "duration": 612,
    "start_time": "2022-09-01T16:45:07.334Z"
   },
   {
    "duration": 548,
    "start_time": "2022-09-01T16:45:30.111Z"
   },
   {
    "duration": 397,
    "start_time": "2022-09-01T16:45:46.454Z"
   },
   {
    "duration": 662,
    "start_time": "2022-09-01T16:46:38.758Z"
   },
   {
    "duration": 437,
    "start_time": "2022-09-01T16:47:42.662Z"
   },
   {
    "duration": 336,
    "start_time": "2022-09-01T16:56:05.335Z"
   },
   {
    "duration": 5,
    "start_time": "2022-09-01T16:56:11.718Z"
   },
   {
    "duration": 262,
    "start_time": "2022-09-01T16:56:17.494Z"
   },
   {
    "duration": 92,
    "start_time": "2022-09-01T16:56:58.168Z"
   },
   {
    "duration": 15,
    "start_time": "2022-09-01T16:57:03.350Z"
   },
   {
    "duration": 2121,
    "start_time": "2022-09-01T16:57:23.335Z"
   },
   {
    "duration": 1096,
    "start_time": "2022-09-01T16:57:31.142Z"
   },
   {
    "duration": 335,
    "start_time": "2022-09-01T16:57:32.240Z"
   },
   {
    "duration": 388,
    "start_time": "2022-09-01T16:57:35.437Z"
   },
   {
    "duration": 97,
    "start_time": "2022-09-01T16:57:36.861Z"
   },
   {
    "duration": 1465,
    "start_time": "2022-09-01T16:57:52.382Z"
   },
   {
    "duration": 1050,
    "start_time": "2022-09-01T16:58:13.990Z"
   },
   {
    "duration": 341,
    "start_time": "2022-09-01T16:58:15.042Z"
   },
   {
    "duration": 398,
    "start_time": "2022-09-01T16:58:15.894Z"
   },
   {
    "duration": 95,
    "start_time": "2022-09-01T16:58:19.101Z"
   },
   {
    "duration": 6,
    "start_time": "2022-09-01T16:58:23.717Z"
   },
   {
    "duration": 590,
    "start_time": "2022-09-01T16:58:25.648Z"
   },
   {
    "duration": 7,
    "start_time": "2022-09-01T16:58:29.837Z"
   },
   {
    "duration": 268,
    "start_time": "2022-09-01T16:58:33.637Z"
   },
   {
    "duration": 1015,
    "start_time": "2022-09-01T17:04:05.514Z"
   },
   {
    "duration": 341,
    "start_time": "2022-09-01T17:04:06.531Z"
   },
   {
    "duration": 1026,
    "start_time": "2022-09-01T17:05:43.903Z"
   },
   {
    "duration": 745,
    "start_time": "2022-09-01T17:05:48.962Z"
   },
   {
    "duration": 1199,
    "start_time": "2022-09-01T17:05:51.502Z"
   },
   {
    "duration": 964,
    "start_time": "2022-09-01T17:06:26.519Z"
   },
   {
    "duration": 561,
    "start_time": "2022-09-01T17:06:30.039Z"
   },
   {
    "duration": 176,
    "start_time": "2022-09-01T17:06:32.294Z"
   },
   {
    "duration": 5,
    "start_time": "2022-09-01T17:06:36.846Z"
   },
   {
    "duration": 545,
    "start_time": "2022-09-01T17:06:38.833Z"
   },
   {
    "duration": 6,
    "start_time": "2022-09-01T17:06:43.541Z"
   },
   {
    "duration": 1389,
    "start_time": "2022-09-02T06:11:33.473Z"
   },
   {
    "duration": 3332,
    "start_time": "2022-09-02T06:11:34.864Z"
   },
   {
    "duration": 590,
    "start_time": "2022-09-02T06:11:38.197Z"
   },
   {
    "duration": 175,
    "start_time": "2022-09-02T06:11:38.790Z"
   },
   {
    "duration": 5,
    "start_time": "2022-09-02T06:11:38.967Z"
   },
   {
    "duration": 682,
    "start_time": "2022-09-02T06:11:38.974Z"
   },
   {
    "duration": 0,
    "start_time": "2022-09-02T06:11:39.658Z"
   },
   {
    "duration": 0,
    "start_time": "2022-09-02T06:11:39.662Z"
   },
   {
    "duration": 5,
    "start_time": "2022-09-02T06:12:08.178Z"
   },
   {
    "duration": 21,
    "start_time": "2022-09-02T06:13:03.172Z"
   },
   {
    "duration": 503,
    "start_time": "2022-09-02T06:13:48.447Z"
   },
   {
    "duration": 109,
    "start_time": "2022-09-02T06:14:02.716Z"
   },
   {
    "duration": 1199,
    "start_time": "2022-09-02T06:15:47.299Z"
   },
   {
    "duration": 902,
    "start_time": "2022-09-02T06:15:48.499Z"
   },
   {
    "duration": 582,
    "start_time": "2022-09-02T06:15:49.402Z"
   },
   {
    "duration": 168,
    "start_time": "2022-09-02T06:15:49.986Z"
   },
   {
    "duration": 5,
    "start_time": "2022-09-02T06:15:50.156Z"
   },
   {
    "duration": 15,
    "start_time": "2022-09-02T06:15:50.163Z"
   },
   {
    "duration": 3,
    "start_time": "2022-09-02T06:15:50.179Z"
   },
   {
    "duration": 1409,
    "start_time": "2022-09-02T06:15:50.184Z"
   },
   {
    "duration": 89,
    "start_time": "2022-09-02T06:16:48.594Z"
   },
   {
    "duration": 8,
    "start_time": "2022-09-02T06:17:05.492Z"
   },
   {
    "duration": 3,
    "start_time": "2022-09-02T06:17:53.037Z"
   },
   {
    "duration": 14,
    "start_time": "2022-09-02T06:17:59.198Z"
   },
   {
    "duration": 5,
    "start_time": "2022-09-02T06:18:01.238Z"
   },
   {
    "duration": 13,
    "start_time": "2022-09-02T06:19:59.368Z"
   },
   {
    "duration": 5,
    "start_time": "2022-09-02T06:20:00.274Z"
   },
   {
    "duration": 8,
    "start_time": "2022-09-02T06:20:25.664Z"
   },
   {
    "duration": 24,
    "start_time": "2022-09-02T06:21:04.827Z"
   },
   {
    "duration": 12,
    "start_time": "2022-09-02T06:21:11.389Z"
   },
   {
    "duration": 439,
    "start_time": "2022-09-02T06:21:34.268Z"
   },
   {
    "duration": 1200,
    "start_time": "2022-09-02T06:21:50.800Z"
   },
   {
    "duration": 854,
    "start_time": "2022-09-02T06:21:52.004Z"
   },
   {
    "duration": 581,
    "start_time": "2022-09-02T06:21:52.859Z"
   },
   {
    "duration": 168,
    "start_time": "2022-09-02T06:21:53.442Z"
   },
   {
    "duration": 5,
    "start_time": "2022-09-02T06:21:53.612Z"
   },
   {
    "duration": 75,
    "start_time": "2022-09-02T06:21:53.619Z"
   },
   {
    "duration": 12,
    "start_time": "2022-09-02T06:21:53.696Z"
   },
   {
    "duration": 4,
    "start_time": "2022-09-02T06:21:53.709Z"
   },
   {
    "duration": 1843,
    "start_time": "2022-09-02T06:21:53.714Z"
   },
   {
    "duration": 8,
    "start_time": "2022-09-02T06:22:05.563Z"
   },
   {
    "duration": 1399,
    "start_time": "2022-09-02T06:22:46.453Z"
   },
   {
    "duration": 850,
    "start_time": "2022-09-02T06:22:56.178Z"
   },
   {
    "duration": 716,
    "start_time": "2022-09-02T06:23:00.554Z"
   },
   {
    "duration": 68,
    "start_time": "2022-09-02T06:24:10.273Z"
   },
   {
    "duration": 1430,
    "start_time": "2022-09-02T06:24:16.466Z"
   },
   {
    "duration": 3251,
    "start_time": "2022-09-02T06:24:17.898Z"
   },
   {
    "duration": 794,
    "start_time": "2022-09-02T06:24:21.151Z"
   },
   {
    "duration": 355,
    "start_time": "2022-09-02T06:24:58.813Z"
   },
   {
    "duration": 4,
    "start_time": "2022-09-02T06:25:02.343Z"
   },
   {
    "duration": 1297,
    "start_time": "2022-09-02T06:25:03.606Z"
   },
   {
    "duration": 100,
    "start_time": "2022-09-02T06:29:26.256Z"
   },
   {
    "duration": 873,
    "start_time": "2022-09-02T06:32:54.697Z"
   },
   {
    "duration": 697,
    "start_time": "2022-09-02T06:32:55.572Z"
   },
   {
    "duration": 248,
    "start_time": "2022-09-02T06:32:56.271Z"
   },
   {
    "duration": 144,
    "start_time": "2022-09-02T06:33:01.329Z"
   },
   {
    "duration": 4,
    "start_time": "2022-09-02T06:37:00.675Z"
   },
   {
    "duration": 985,
    "start_time": "2022-09-02T06:37:05.010Z"
   },
   {
    "duration": 1221,
    "start_time": "2022-09-02T06:38:31.498Z"
   },
   {
    "duration": 3211,
    "start_time": "2022-09-02T06:38:32.721Z"
   },
   {
    "duration": 763,
    "start_time": "2022-09-02T06:38:35.934Z"
   },
   {
    "duration": 254,
    "start_time": "2022-09-02T06:38:36.699Z"
   },
   {
    "duration": 50,
    "start_time": "2022-09-02T06:40:47.291Z"
   },
   {
    "duration": 1236,
    "start_time": "2022-09-02T06:40:51.671Z"
   },
   {
    "duration": 3222,
    "start_time": "2022-09-02T06:40:52.909Z"
   },
   {
    "duration": 838,
    "start_time": "2022-09-02T06:40:56.132Z"
   },
   {
    "duration": 253,
    "start_time": "2022-09-02T06:40:56.971Z"
   },
   {
    "duration": 101,
    "start_time": "2022-09-02T06:43:04.550Z"
   },
   {
    "duration": 896,
    "start_time": "2022-09-02T06:44:13.230Z"
   },
   {
    "duration": 671,
    "start_time": "2022-09-02T06:44:14.128Z"
   },
   {
    "duration": 222,
    "start_time": "2022-09-02T06:44:16.160Z"
   },
   {
    "duration": 69,
    "start_time": "2022-09-02T06:48:21.361Z"
   },
   {
    "duration": 8,
    "start_time": "2022-09-02T06:48:27.021Z"
   },
   {
    "duration": 12,
    "start_time": "2022-09-02T06:48:27.472Z"
   },
   {
    "duration": 1670,
    "start_time": "2022-09-02T06:48:30.274Z"
   },
   {
    "duration": 3568,
    "start_time": "2022-09-02T06:48:31.946Z"
   },
   {
    "duration": 996,
    "start_time": "2022-09-02T06:48:35.516Z"
   },
   {
    "duration": 350,
    "start_time": "2022-09-02T06:48:36.517Z"
   },
   {
    "duration": 1371,
    "start_time": "2022-09-02T06:50:10.300Z"
   },
   {
    "duration": 3173,
    "start_time": "2022-09-02T06:50:11.673Z"
   },
   {
    "duration": 795,
    "start_time": "2022-09-02T06:50:14.850Z"
   },
   {
    "duration": 243,
    "start_time": "2022-09-02T06:50:15.646Z"
   },
   {
    "duration": 1345,
    "start_time": "2022-09-02T06:50:53.272Z"
   },
   {
    "duration": 3251,
    "start_time": "2022-09-02T06:50:54.619Z"
   },
   {
    "duration": 856,
    "start_time": "2022-09-02T06:50:57.872Z"
   },
   {
    "duration": 242,
    "start_time": "2022-09-02T06:50:58.730Z"
   },
   {
    "duration": 1154,
    "start_time": "2022-09-02T06:51:25.801Z"
   },
   {
    "duration": 666,
    "start_time": "2022-09-02T06:52:03.523Z"
   },
   {
    "duration": 2030,
    "start_time": "2022-09-02T06:52:44.474Z"
   },
   {
    "duration": 2067,
    "start_time": "2022-09-02T06:53:05.390Z"
   },
   {
    "duration": 101,
    "start_time": "2022-09-02T06:54:29.981Z"
   },
   {
    "duration": 64,
    "start_time": "2022-09-02T06:55:30.879Z"
   },
   {
    "duration": 1375,
    "start_time": "2022-09-02T06:55:34.660Z"
   },
   {
    "duration": 3235,
    "start_time": "2022-09-02T06:55:36.037Z"
   },
   {
    "duration": 854,
    "start_time": "2022-09-02T06:55:39.273Z"
   },
   {
    "duration": 280,
    "start_time": "2022-09-02T06:55:40.130Z"
   },
   {
    "duration": 2172,
    "start_time": "2022-09-02T06:55:49.416Z"
   },
   {
    "duration": 6,
    "start_time": "2022-09-02T06:56:46.768Z"
   },
   {
    "duration": 2381,
    "start_time": "2022-09-02T06:57:51.936Z"
   },
   {
    "duration": 4,
    "start_time": "2022-09-02T07:02:00.460Z"
   },
   {
    "duration": 69,
    "start_time": "2022-09-02T07:06:30.621Z"
   },
   {
    "duration": 9,
    "start_time": "2022-09-02T07:06:35.990Z"
   },
   {
    "duration": 9,
    "start_time": "2022-09-02T07:06:44.114Z"
   },
   {
    "duration": 4,
    "start_time": "2022-09-02T07:07:14.823Z"
   },
   {
    "duration": 1032,
    "start_time": "2022-09-02T07:14:22.647Z"
   },
   {
    "duration": 746,
    "start_time": "2022-09-02T07:14:23.681Z"
   },
   {
    "duration": 248,
    "start_time": "2022-09-02T07:14:24.429Z"
   },
   {
    "duration": 1289,
    "start_time": "2022-09-02T07:16:35.898Z"
   },
   {
    "duration": 3285,
    "start_time": "2022-09-02T07:16:37.190Z"
   },
   {
    "duration": 807,
    "start_time": "2022-09-02T07:16:40.476Z"
   },
   {
    "duration": 264,
    "start_time": "2022-09-02T07:16:41.285Z"
   },
   {
    "duration": 1383,
    "start_time": "2022-09-02T07:19:09.566Z"
   },
   {
    "duration": 3036,
    "start_time": "2022-09-02T07:19:10.951Z"
   },
   {
    "duration": 827,
    "start_time": "2022-09-02T07:19:13.989Z"
   },
   {
    "duration": 256,
    "start_time": "2022-09-02T07:19:14.818Z"
   },
   {
    "duration": 1061,
    "start_time": "2022-09-02T07:19:15.076Z"
   },
   {
    "duration": 0,
    "start_time": "2022-09-02T07:19:16.139Z"
   },
   {
    "duration": 0,
    "start_time": "2022-09-02T07:19:16.140Z"
   },
   {
    "duration": 1533,
    "start_time": "2022-09-02T07:21:46.334Z"
   },
   {
    "duration": 3403,
    "start_time": "2022-09-02T07:21:47.869Z"
   },
   {
    "duration": 883,
    "start_time": "2022-09-02T07:21:51.274Z"
   },
   {
    "duration": 253,
    "start_time": "2022-09-02T07:21:52.159Z"
   },
   {
    "duration": 1277,
    "start_time": "2022-09-02T07:24:34.239Z"
   },
   {
    "duration": 3105,
    "start_time": "2022-09-02T07:24:35.517Z"
   },
   {
    "duration": 741,
    "start_time": "2022-09-02T07:24:38.624Z"
   },
   {
    "duration": 237,
    "start_time": "2022-09-02T07:24:39.367Z"
   },
   {
    "duration": 974,
    "start_time": "2022-09-02T07:24:45.573Z"
   },
   {
    "duration": 1229,
    "start_time": "2022-09-02T07:25:23.900Z"
   },
   {
    "duration": 3106,
    "start_time": "2022-09-02T07:25:25.132Z"
   },
   {
    "duration": 879,
    "start_time": "2022-09-02T07:25:28.239Z"
   },
   {
    "duration": 243,
    "start_time": "2022-09-02T07:25:29.119Z"
   },
   {
    "duration": 1720,
    "start_time": "2022-09-02T08:54:04.427Z"
   },
   {
    "duration": 1612,
    "start_time": "2022-09-02T08:54:06.150Z"
   },
   {
    "duration": 1008,
    "start_time": "2022-09-02T08:54:07.765Z"
   },
   {
    "duration": 319,
    "start_time": "2022-09-02T08:54:08.776Z"
   },
   {
    "duration": 1325,
    "start_time": "2022-09-02T08:54:11.830Z"
   },
   {
    "duration": 508,
    "start_time": "2022-09-02T08:54:33.930Z"
   },
   {
    "duration": 2106,
    "start_time": "2022-09-02T08:56:15.840Z"
   },
   {
    "duration": 1646,
    "start_time": "2022-09-02T08:56:17.949Z"
   },
   {
    "duration": 982,
    "start_time": "2022-09-02T08:56:19.596Z"
   },
   {
    "duration": 286,
    "start_time": "2022-09-02T08:56:20.580Z"
   },
   {
    "duration": 1188,
    "start_time": "2022-09-02T08:56:20.868Z"
   },
   {
    "duration": 1484,
    "start_time": "2022-09-02T08:56:29.549Z"
   },
   {
    "duration": 2110,
    "start_time": "2022-09-02T08:59:26.587Z"
   },
   {
    "duration": 1787,
    "start_time": "2022-09-02T08:59:28.699Z"
   },
   {
    "duration": 1122,
    "start_time": "2022-09-02T08:59:30.488Z"
   },
   {
    "duration": 378,
    "start_time": "2022-09-02T08:59:31.617Z"
   },
   {
    "duration": 1233,
    "start_time": "2022-09-02T08:59:31.998Z"
   },
   {
    "duration": 1447,
    "start_time": "2022-09-02T08:59:33.234Z"
   },
   {
    "duration": 2369,
    "start_time": "2022-09-02T09:00:19.286Z"
   },
   {
    "duration": 1595,
    "start_time": "2022-09-02T09:00:21.657Z"
   },
   {
    "duration": 1021,
    "start_time": "2022-09-02T09:00:23.253Z"
   },
   {
    "duration": 279,
    "start_time": "2022-09-02T09:00:24.276Z"
   },
   {
    "duration": 1270,
    "start_time": "2022-09-02T09:00:24.557Z"
   },
   {
    "duration": 1429,
    "start_time": "2022-09-02T09:00:25.828Z"
   },
   {
    "duration": 133,
    "start_time": "2022-09-02T09:01:53.549Z"
   },
   {
    "duration": 1357,
    "start_time": "2022-09-03T09:03:27.767Z"
   },
   {
    "duration": 3156,
    "start_time": "2022-09-03T09:03:29.126Z"
   },
   {
    "duration": 785,
    "start_time": "2022-09-03T09:03:32.283Z"
   },
   {
    "duration": 251,
    "start_time": "2022-09-03T09:03:33.070Z"
   },
   {
    "duration": 6,
    "start_time": "2022-09-03T09:04:03.877Z"
   },
   {
    "duration": 1256,
    "start_time": "2022-09-03T09:09:05.028Z"
   },
   {
    "duration": 961,
    "start_time": "2022-09-03T09:09:06.684Z"
   },
   {
    "duration": 756,
    "start_time": "2022-09-03T09:09:11.091Z"
   },
   {
    "duration": 256,
    "start_time": "2022-09-03T09:09:14.269Z"
   },
   {
    "duration": 906,
    "start_time": "2022-09-03T09:09:34.084Z"
   },
   {
    "duration": 2365,
    "start_time": "2022-09-03T09:10:26.325Z"
   },
   {
    "duration": 1213,
    "start_time": "2022-09-03T09:30:36.898Z"
   },
   {
    "duration": 875,
    "start_time": "2022-09-03T09:30:38.113Z"
   },
   {
    "duration": 804,
    "start_time": "2022-09-03T09:30:38.990Z"
   },
   {
    "duration": 247,
    "start_time": "2022-09-03T09:30:39.795Z"
   },
   {
    "duration": 3046,
    "start_time": "2022-09-03T09:30:43.914Z"
   },
   {
    "duration": 1831,
    "start_time": "2022-09-03T09:35:24.986Z"
   },
   {
    "duration": 1927,
    "start_time": "2022-09-03T09:36:14.090Z"
   },
   {
    "duration": 1403,
    "start_time": "2022-09-03T09:36:51.626Z"
   },
   {
    "duration": 3083,
    "start_time": "2022-09-03T09:36:53.031Z"
   },
   {
    "duration": 835,
    "start_time": "2022-09-03T09:36:56.115Z"
   },
   {
    "duration": 251,
    "start_time": "2022-09-03T09:36:56.954Z"
   },
   {
    "duration": 3087,
    "start_time": "2022-09-03T09:36:57.207Z"
   },
   {
    "duration": 1874,
    "start_time": "2022-09-03T09:37:00.296Z"
   },
   {
    "duration": 2,
    "start_time": "2022-09-03T09:41:53.648Z"
   },
   {
    "duration": 93,
    "start_time": "2022-09-03T09:41:55.136Z"
   },
   {
    "duration": 4,
    "start_time": "2022-09-03T09:41:59.783Z"
   },
   {
    "duration": 260,
    "start_time": "2022-09-03T09:42:03.345Z"
   },
   {
    "duration": 5,
    "start_time": "2022-09-03T09:42:37.011Z"
   },
   {
    "duration": 1262,
    "start_time": "2022-09-03T09:45:20.437Z"
   },
   {
    "duration": 909,
    "start_time": "2022-09-03T09:45:21.700Z"
   },
   {
    "duration": 806,
    "start_time": "2022-09-03T09:45:22.610Z"
   },
   {
    "duration": 245,
    "start_time": "2022-09-03T09:45:23.418Z"
   },
   {
    "duration": 3138,
    "start_time": "2022-09-03T09:45:23.665Z"
   },
   {
    "duration": 1342,
    "start_time": "2022-09-03T09:45:26.805Z"
   },
   {
    "duration": 6,
    "start_time": "2022-09-03T09:45:28.149Z"
   },
   {
    "duration": 1276,
    "start_time": "2022-09-03T09:45:28.157Z"
   },
   {
    "duration": 0,
    "start_time": "2022-09-03T09:45:29.434Z"
   },
   {
    "duration": 1272,
    "start_time": "2022-09-03T09:46:01.537Z"
   },
   {
    "duration": 3101,
    "start_time": "2022-09-03T09:46:02.810Z"
   },
   {
    "duration": 780,
    "start_time": "2022-09-03T09:46:05.912Z"
   },
   {
    "duration": 282,
    "start_time": "2022-09-03T09:46:06.693Z"
   },
   {
    "duration": 3231,
    "start_time": "2022-09-03T09:46:06.976Z"
   },
   {
    "duration": 1327,
    "start_time": "2022-09-03T09:46:10.208Z"
   },
   {
    "duration": 2,
    "start_time": "2022-09-03T09:46:11.537Z"
   },
   {
    "duration": 1246,
    "start_time": "2022-09-03T10:45:13.315Z"
   },
   {
    "duration": 3116,
    "start_time": "2022-09-03T10:45:14.562Z"
   },
   {
    "duration": 832,
    "start_time": "2022-09-03T10:45:17.679Z"
   },
   {
    "duration": 248,
    "start_time": "2022-09-03T10:45:18.512Z"
   },
   {
    "duration": 3405,
    "start_time": "2022-09-03T10:45:18.761Z"
   },
   {
    "duration": 1373,
    "start_time": "2022-09-03T10:45:22.167Z"
   },
   {
    "duration": 3,
    "start_time": "2022-09-03T10:45:23.541Z"
   },
   {
    "duration": 1290,
    "start_time": "2022-09-04T10:33:13.426Z"
   },
   {
    "duration": 3094,
    "start_time": "2022-09-04T10:33:14.717Z"
   },
   {
    "duration": 787,
    "start_time": "2022-09-04T10:33:17.812Z"
   },
   {
    "duration": 268,
    "start_time": "2022-09-04T10:33:18.600Z"
   },
   {
    "duration": 3373,
    "start_time": "2022-09-04T10:33:18.870Z"
   },
   {
    "duration": 1383,
    "start_time": "2022-09-04T10:33:22.244Z"
   },
   {
    "duration": 2,
    "start_time": "2022-09-04T10:33:23.629Z"
   },
   {
    "duration": 58,
    "start_time": "2022-09-04T10:33:26.643Z"
   },
   {
    "duration": 1757,
    "start_time": "2022-09-04T16:16:29.201Z"
   },
   {
    "duration": 3749,
    "start_time": "2022-09-04T16:16:30.960Z"
   },
   {
    "duration": 942,
    "start_time": "2022-09-04T16:16:34.711Z"
   },
   {
    "duration": 339,
    "start_time": "2022-09-04T16:16:35.655Z"
   },
   {
    "duration": 4416,
    "start_time": "2022-09-04T16:16:36.002Z"
   },
   {
    "duration": 3137,
    "start_time": "2022-09-04T16:16:40.420Z"
   },
   {
    "duration": 3,
    "start_time": "2022-09-04T16:16:43.561Z"
   },
   {
    "duration": 33,
    "start_time": "2022-09-04T16:17:49.622Z"
   },
   {
    "duration": 420137,
    "start_time": "2022-09-04T16:17:51.389Z"
   },
   {
    "duration": 1193,
    "start_time": "2022-09-04T16:25:18.309Z"
   },
   {
    "duration": 1454,
    "start_time": "2022-09-05T20:08:44.525Z"
   },
   {
    "duration": 1310,
    "start_time": "2022-09-05T20:08:45.981Z"
   },
   {
    "duration": 765,
    "start_time": "2022-09-05T20:08:47.308Z"
   },
   {
    "duration": 263,
    "start_time": "2022-09-05T20:08:48.075Z"
   },
   {
    "duration": 4335,
    "start_time": "2022-09-05T20:08:48.340Z"
   },
   {
    "duration": 2616,
    "start_time": "2022-09-05T20:08:52.677Z"
   },
   {
    "duration": 18,
    "start_time": "2022-09-05T20:08:55.295Z"
   },
   {
    "duration": 69,
    "start_time": "2022-09-05T20:08:55.315Z"
   },
   {
    "duration": 164243,
    "start_time": "2022-09-05T20:08:55.386Z"
   },
   {
    "duration": 1088,
    "start_time": "2022-09-05T20:11:39.630Z"
   },
   {
    "duration": 1071,
    "start_time": "2022-09-05T22:06:09.234Z"
   },
   {
    "duration": 19586,
    "start_time": "2022-09-05T22:06:50.113Z"
   },
   {
    "duration": 1251,
    "start_time": "2022-09-05T22:36:11.493Z"
   },
   {
    "duration": 1042,
    "start_time": "2022-09-05T22:36:12.745Z"
   },
   {
    "duration": 791,
    "start_time": "2022-09-05T22:36:13.788Z"
   },
   {
    "duration": 264,
    "start_time": "2022-09-05T22:36:14.581Z"
   },
   {
    "duration": 2093,
    "start_time": "2022-09-05T22:36:14.846Z"
   },
   {
    "duration": 1051,
    "start_time": "2022-09-05T22:36:16.940Z"
   },
   {
    "duration": 5,
    "start_time": "2022-09-05T22:36:17.993Z"
   },
   {
    "duration": 19,
    "start_time": "2022-09-05T22:36:17.999Z"
   },
   {
    "duration": 1194,
    "start_time": "2022-09-05T22:39:07.057Z"
   },
   {
    "duration": 958,
    "start_time": "2022-09-05T22:39:08.253Z"
   },
   {
    "duration": 690,
    "start_time": "2022-09-05T22:39:09.212Z"
   },
   {
    "duration": 271,
    "start_time": "2022-09-05T22:39:09.904Z"
   },
   {
    "duration": 2054,
    "start_time": "2022-09-05T22:39:10.176Z"
   },
   {
    "duration": 1024,
    "start_time": "2022-09-05T22:39:12.232Z"
   },
   {
    "duration": 3,
    "start_time": "2022-09-05T22:39:13.257Z"
   },
   {
    "duration": 17,
    "start_time": "2022-09-05T22:39:13.261Z"
   },
   {
    "duration": 1208,
    "start_time": "2022-09-05T22:42:58.732Z"
   },
   {
    "duration": 993,
    "start_time": "2022-09-05T22:42:59.942Z"
   },
   {
    "duration": 766,
    "start_time": "2022-09-05T22:43:00.937Z"
   },
   {
    "duration": 272,
    "start_time": "2022-09-05T22:43:01.705Z"
   },
   {
    "duration": 2032,
    "start_time": "2022-09-05T22:43:01.979Z"
   },
   {
    "duration": 1073,
    "start_time": "2022-09-05T22:43:04.013Z"
   },
   {
    "duration": 3,
    "start_time": "2022-09-05T22:43:05.087Z"
   },
   {
    "duration": 18,
    "start_time": "2022-09-05T22:43:05.091Z"
   },
   {
    "duration": 1268,
    "start_time": "2022-09-05T23:28:38.183Z"
   },
   {
    "duration": 953,
    "start_time": "2022-09-05T23:28:39.452Z"
   },
   {
    "duration": 786,
    "start_time": "2022-09-05T23:28:40.406Z"
   },
   {
    "duration": 262,
    "start_time": "2022-09-05T23:28:41.194Z"
   },
   {
    "duration": 2013,
    "start_time": "2022-09-05T23:28:41.458Z"
   },
   {
    "duration": 1069,
    "start_time": "2022-09-05T23:28:43.473Z"
   },
   {
    "duration": 2,
    "start_time": "2022-09-05T23:28:44.544Z"
   },
   {
    "duration": 17,
    "start_time": "2022-09-05T23:28:44.548Z"
   },
   {
    "duration": 2973049,
    "start_time": "2022-09-05T23:28:44.567Z"
   },
   {
    "duration": 81,
    "start_time": "2022-09-06T00:18:17.618Z"
   },
   {
    "duration": 1691,
    "start_time": "2022-09-06T07:53:43.779Z"
   },
   {
    "duration": 1506,
    "start_time": "2022-09-06T07:53:45.472Z"
   },
   {
    "duration": 986,
    "start_time": "2022-09-06T07:53:46.983Z"
   },
   {
    "duration": 293,
    "start_time": "2022-09-06T07:53:47.971Z"
   },
   {
    "duration": 3653,
    "start_time": "2022-09-06T07:53:48.266Z"
   },
   {
    "duration": 1570,
    "start_time": "2022-09-06T07:53:51.921Z"
   },
   {
    "duration": 4,
    "start_time": "2022-09-06T07:53:53.493Z"
   },
   {
    "duration": 26,
    "start_time": "2022-09-06T07:53:53.498Z"
   },
   {
    "duration": 1338,
    "start_time": "2022-09-06T13:44:19.668Z"
   },
   {
    "duration": 1080,
    "start_time": "2022-09-06T13:44:21.008Z"
   },
   {
    "duration": 940,
    "start_time": "2022-09-06T13:44:22.089Z"
   },
   {
    "duration": 286,
    "start_time": "2022-09-06T13:44:23.032Z"
   },
   {
    "duration": 3668,
    "start_time": "2022-09-06T13:44:23.320Z"
   },
   {
    "duration": 1524,
    "start_time": "2022-09-06T13:44:26.990Z"
   },
   {
    "duration": 3,
    "start_time": "2022-09-06T13:44:28.516Z"
   },
   {
    "duration": 21,
    "start_time": "2022-09-06T13:44:28.521Z"
   },
   {
    "duration": 1324,
    "start_time": "2022-09-06T13:49:41.830Z"
   },
   {
    "duration": 1073,
    "start_time": "2022-09-06T13:49:43.156Z"
   },
   {
    "duration": 933,
    "start_time": "2022-09-06T13:49:44.230Z"
   },
   {
    "duration": 275,
    "start_time": "2022-09-06T13:49:45.165Z"
   },
   {
    "duration": 3626,
    "start_time": "2022-09-06T13:49:45.442Z"
   },
   {
    "duration": 1541,
    "start_time": "2022-09-06T13:49:49.070Z"
   },
   {
    "duration": 3,
    "start_time": "2022-09-06T13:49:50.613Z"
   },
   {
    "duration": 18,
    "start_time": "2022-09-06T13:49:50.617Z"
   },
   {
    "duration": 1310,
    "start_time": "2022-09-06T15:23:49.104Z"
   },
   {
    "duration": 1096,
    "start_time": "2022-09-06T15:23:50.418Z"
   },
   {
    "duration": 953,
    "start_time": "2022-09-06T15:23:51.516Z"
   },
   {
    "duration": 297,
    "start_time": "2022-09-06T15:23:52.471Z"
   },
   {
    "duration": 3619,
    "start_time": "2022-09-06T15:23:52.770Z"
   },
   {
    "duration": 1536,
    "start_time": "2022-09-06T15:23:56.391Z"
   },
   {
    "duration": 3,
    "start_time": "2022-09-06T15:23:57.929Z"
   },
   {
    "duration": 24,
    "start_time": "2022-09-06T15:23:57.934Z"
   },
   {
    "duration": 1408,
    "start_time": "2022-09-06T16:41:19.259Z"
   },
   {
    "duration": 1086,
    "start_time": "2022-09-06T16:41:20.669Z"
   },
   {
    "duration": 949,
    "start_time": "2022-09-06T16:41:21.757Z"
   },
   {
    "duration": 295,
    "start_time": "2022-09-06T16:41:22.708Z"
   },
   {
    "duration": 3561,
    "start_time": "2022-09-06T16:41:23.006Z"
   },
   {
    "duration": 1550,
    "start_time": "2022-09-06T16:41:26.569Z"
   },
   {
    "duration": 3,
    "start_time": "2022-09-06T16:41:28.121Z"
   },
   {
    "duration": 38,
    "start_time": "2022-09-06T16:41:28.126Z"
   },
   {
    "duration": 1434,
    "start_time": "2022-09-06T18:07:32.626Z"
   },
   {
    "duration": 1119,
    "start_time": "2022-09-06T18:07:34.063Z"
   },
   {
    "duration": 972,
    "start_time": "2022-09-06T18:07:35.184Z"
   },
   {
    "duration": 298,
    "start_time": "2022-09-06T18:07:36.159Z"
   },
   {
    "duration": 3577,
    "start_time": "2022-09-06T18:07:36.459Z"
   },
   {
    "duration": 1598,
    "start_time": "2022-09-06T18:07:40.038Z"
   },
   {
    "duration": 3,
    "start_time": "2022-09-06T18:07:41.638Z"
   },
   {
    "duration": 19,
    "start_time": "2022-09-06T18:07:41.643Z"
   },
   {
    "duration": 3,
    "start_time": "2022-09-06T18:07:55.723Z"
   },
   {
    "duration": 1469,
    "start_time": "2022-09-06T18:12:16.482Z"
   },
   {
    "duration": 1170,
    "start_time": "2022-09-06T18:12:17.953Z"
   },
   {
    "duration": 972,
    "start_time": "2022-09-06T18:12:19.126Z"
   },
   {
    "duration": 296,
    "start_time": "2022-09-06T18:12:20.100Z"
   },
   {
    "duration": 3626,
    "start_time": "2022-09-06T18:12:20.402Z"
   },
   {
    "duration": 1478,
    "start_time": "2022-09-06T18:12:25.346Z"
   },
   {
    "duration": 3,
    "start_time": "2022-09-06T18:12:26.905Z"
   },
   {
    "duration": 17,
    "start_time": "2022-09-06T18:12:28.041Z"
   },
   {
    "duration": 425881,
    "start_time": "2022-09-06T18:12:30.250Z"
   },
   {
    "duration": 4,
    "start_time": "2022-09-06T18:21:01.816Z"
   },
   {
    "duration": 1436,
    "start_time": "2022-09-06T18:57:21.164Z"
   },
   {
    "duration": 1130,
    "start_time": "2022-09-06T18:57:26.739Z"
   },
   {
    "duration": 1071,
    "start_time": "2022-09-06T18:57:28.723Z"
   },
   {
    "duration": 300,
    "start_time": "2022-09-06T18:57:29.796Z"
   },
   {
    "duration": 3699,
    "start_time": "2022-09-06T18:57:30.138Z"
   },
   {
    "duration": 2416,
    "start_time": "2022-09-06T18:57:33.839Z"
   },
   {
    "duration": 3,
    "start_time": "2022-09-06T18:57:36.256Z"
   },
   {
    "duration": 19,
    "start_time": "2022-09-06T18:57:36.261Z"
   },
   {
    "duration": 412529,
    "start_time": "2022-09-06T18:57:36.282Z"
   },
   {
    "duration": 3,
    "start_time": "2022-09-06T19:05:59.933Z"
   },
   {
    "duration": 1475,
    "start_time": "2022-09-06T20:49:26.092Z"
   },
   {
    "duration": 1208,
    "start_time": "2022-09-06T20:49:27.569Z"
   },
   {
    "duration": 732,
    "start_time": "2022-09-06T20:49:28.779Z"
   },
   {
    "duration": 257,
    "start_time": "2022-09-06T20:49:29.513Z"
   },
   {
    "duration": 2156,
    "start_time": "2022-09-06T20:49:29.772Z"
   },
   {
    "duration": 1613,
    "start_time": "2022-09-06T20:49:31.930Z"
   },
   {
    "duration": 3,
    "start_time": "2022-09-06T20:49:33.544Z"
   },
   {
    "duration": 17,
    "start_time": "2022-09-06T20:49:33.548Z"
   },
   {
    "duration": 48080,
    "start_time": "2022-09-06T20:49:33.567Z"
   },
   {
    "duration": 29944,
    "start_time": "2022-09-06T20:50:46.363Z"
   },
   {
    "duration": 3,
    "start_time": "2022-09-06T20:51:35.835Z"
   },
   {
    "duration": 29652,
    "start_time": "2022-09-06T20:51:36.658Z"
   },
   {
    "duration": 50583,
    "start_time": "2022-09-06T21:08:54.122Z"
   },
   {
    "duration": 1861630,
    "start_time": "2022-09-06T21:16:55.379Z"
   },
   {
    "duration": 0,
    "start_time": "2022-09-06T21:47:57.010Z"
   },
   {
    "duration": 1581,
    "start_time": "2022-09-07T07:40:42.994Z"
   },
   {
    "duration": 1455,
    "start_time": "2022-09-07T07:40:47.109Z"
   },
   {
    "duration": 890,
    "start_time": "2022-09-07T07:40:48.566Z"
   },
   {
    "duration": 284,
    "start_time": "2022-09-07T07:40:49.458Z"
   },
   {
    "duration": 3530,
    "start_time": "2022-09-07T07:40:49.744Z"
   },
   {
    "duration": 2227,
    "start_time": "2022-09-07T07:40:53.276Z"
   },
   {
    "duration": 3,
    "start_time": "2022-09-07T07:40:57.958Z"
   },
   {
    "duration": 16,
    "start_time": "2022-09-07T07:40:58.248Z"
   },
   {
    "duration": 15246,
    "start_time": "2022-09-07T07:41:02.092Z"
   },
   {
    "duration": 1240,
    "start_time": "2022-09-07T07:43:54.048Z"
   },
   {
    "duration": 990,
    "start_time": "2022-09-07T07:43:55.290Z"
   },
   {
    "duration": 878,
    "start_time": "2022-09-07T07:43:56.282Z"
   },
   {
    "duration": 301,
    "start_time": "2022-09-07T07:43:57.162Z"
   },
   {
    "duration": 3304,
    "start_time": "2022-09-07T07:43:57.466Z"
   },
   {
    "duration": 2194,
    "start_time": "2022-09-07T07:44:00.772Z"
   },
   {
    "duration": 3,
    "start_time": "2022-09-07T07:44:02.967Z"
   },
   {
    "duration": 25,
    "start_time": "2022-09-07T07:44:02.971Z"
   },
   {
    "duration": 45938,
    "start_time": "2022-09-07T07:44:02.998Z"
   },
   {
    "duration": 55536,
    "start_time": "2022-09-07T07:53:41.689Z"
   },
   {
    "duration": 1434,
    "start_time": "2022-09-07T08:02:46.790Z"
   },
   {
    "duration": 984,
    "start_time": "2022-09-07T08:02:48.226Z"
   },
   {
    "duration": 914,
    "start_time": "2022-09-07T08:02:49.216Z"
   },
   {
    "duration": 278,
    "start_time": "2022-09-07T08:02:50.131Z"
   },
   {
    "duration": 3399,
    "start_time": "2022-09-07T08:02:50.410Z"
   },
   {
    "duration": 2199,
    "start_time": "2022-09-07T08:02:53.810Z"
   },
   {
    "duration": 2,
    "start_time": "2022-09-07T08:02:56.011Z"
   },
   {
    "duration": 23,
    "start_time": "2022-09-07T08:02:56.015Z"
   },
   {
    "duration": 1409,
    "start_time": "2022-09-07T08:06:55.966Z"
   },
   {
    "duration": 1053,
    "start_time": "2022-09-07T08:06:57.377Z"
   },
   {
    "duration": 828,
    "start_time": "2022-09-07T08:06:58.432Z"
   },
   {
    "duration": 293,
    "start_time": "2022-09-07T08:07:02.493Z"
   },
   {
    "duration": 3383,
    "start_time": "2022-09-07T08:07:02.829Z"
   },
   {
    "duration": 2310,
    "start_time": "2022-09-07T08:07:06.214Z"
   },
   {
    "duration": 2,
    "start_time": "2022-09-07T08:07:08.526Z"
   },
   {
    "duration": 20,
    "start_time": "2022-09-07T08:07:08.530Z"
   },
   {
    "duration": 83671,
    "start_time": "2022-09-07T08:07:15.765Z"
   },
   {
    "duration": 6,
    "start_time": "2022-09-07T08:09:35.911Z"
   },
   {
    "duration": 2304179,
    "start_time": "2022-09-07T08:09:43.553Z"
   },
   {
    "duration": 117480,
    "start_time": "2022-09-07T08:48:14.841Z"
   },
   {
    "duration": 54,
    "start_time": "2022-09-07T08:50:20.834Z"
   },
   {
    "duration": 43726,
    "start_time": "2022-09-07T08:50:30.987Z"
   },
   {
    "duration": 11,
    "start_time": "2022-09-07T09:40:31.132Z"
   },
   {
    "duration": 110,
    "start_time": "2022-09-07T09:42:12.379Z"
   },
   {
    "duration": 18,
    "start_time": "2022-09-07T09:42:24.682Z"
   },
   {
    "duration": 13,
    "start_time": "2022-09-07T09:42:30.589Z"
   },
   {
    "duration": 2,
    "start_time": "2022-09-07T14:16:51.586Z"
   },
   {
    "duration": 1476,
    "start_time": "2022-09-07T18:25:06.403Z"
   },
   {
    "duration": 1188,
    "start_time": "2022-09-07T18:25:07.881Z"
   },
   {
    "duration": 728,
    "start_time": "2022-09-07T18:25:09.071Z"
   },
   {
    "duration": 262,
    "start_time": "2022-09-07T18:25:09.802Z"
   },
   {
    "duration": 2061,
    "start_time": "2022-09-07T18:25:10.065Z"
   },
   {
    "duration": 1579,
    "start_time": "2022-09-07T18:25:12.127Z"
   },
   {
    "duration": 3,
    "start_time": "2022-09-07T18:25:13.707Z"
   },
   {
    "duration": 20,
    "start_time": "2022-09-07T18:25:13.711Z"
   },
   {
    "duration": 58166,
    "start_time": "2022-09-07T18:25:13.733Z"
   },
   {
    "duration": 11293,
    "start_time": "2022-09-07T18:26:11.901Z"
   },
   {
    "duration": 0,
    "start_time": "2022-09-07T18:26:23.195Z"
   },
   {
    "duration": 0,
    "start_time": "2022-09-07T18:26:23.198Z"
   },
   {
    "duration": 0,
    "start_time": "2022-09-07T18:26:23.199Z"
   },
   {
    "duration": 8,
    "start_time": "2022-09-07T18:31:50.126Z"
   },
   {
    "duration": 3,
    "start_time": "2022-09-07T18:31:56.677Z"
   },
   {
    "duration": 3,
    "start_time": "2022-09-07T18:32:04.114Z"
   },
   {
    "duration": 1313,
    "start_time": "2022-09-07T18:32:10.435Z"
   },
   {
    "duration": 935,
    "start_time": "2022-09-07T18:32:11.750Z"
   },
   {
    "duration": 737,
    "start_time": "2022-09-07T18:32:12.686Z"
   },
   {
    "duration": 253,
    "start_time": "2022-09-07T18:32:13.424Z"
   },
   {
    "duration": 2100,
    "start_time": "2022-09-07T18:32:13.679Z"
   },
   {
    "duration": 1593,
    "start_time": "2022-09-07T18:32:15.780Z"
   },
   {
    "duration": 3,
    "start_time": "2022-09-07T18:32:17.374Z"
   },
   {
    "duration": 22,
    "start_time": "2022-09-07T18:32:17.378Z"
   },
   {
    "duration": 80513,
    "start_time": "2022-09-07T18:32:17.401Z"
   },
   {
    "duration": 11563,
    "start_time": "2022-09-07T18:33:37.916Z"
   },
   {
    "duration": 0,
    "start_time": "2022-09-07T18:33:49.481Z"
   },
   {
    "duration": 0,
    "start_time": "2022-09-07T18:33:49.482Z"
   },
   {
    "duration": 0,
    "start_time": "2022-09-07T18:33:49.483Z"
   },
   {
    "duration": 1263,
    "start_time": "2022-09-07T18:34:46.129Z"
   },
   {
    "duration": 938,
    "start_time": "2022-09-07T18:34:47.394Z"
   },
   {
    "duration": 754,
    "start_time": "2022-09-07T18:34:48.334Z"
   },
   {
    "duration": 256,
    "start_time": "2022-09-07T18:34:49.090Z"
   },
   {
    "duration": 2014,
    "start_time": "2022-09-07T18:34:49.348Z"
   },
   {
    "duration": 1599,
    "start_time": "2022-09-07T18:34:51.364Z"
   },
   {
    "duration": 2,
    "start_time": "2022-09-07T18:34:52.965Z"
   },
   {
    "duration": 27,
    "start_time": "2022-09-07T18:34:52.968Z"
   },
   {
    "duration": 145405,
    "start_time": "2022-09-07T18:34:52.996Z"
   },
   {
    "duration": 1407905,
    "start_time": "2022-09-07T18:37:18.403Z"
   },
   {
    "duration": 24890,
    "start_time": "2022-09-07T19:00:46.309Z"
   },
   {
    "duration": 26897,
    "start_time": "2022-09-07T19:01:11.201Z"
   },
   {
    "duration": 103,
    "start_time": "2022-09-07T19:01:38.100Z"
   },
   {
    "duration": 1299,
    "start_time": "2022-09-07T21:03:54.237Z"
   },
   {
    "duration": 972,
    "start_time": "2022-09-07T21:03:55.538Z"
   },
   {
    "duration": 760,
    "start_time": "2022-09-07T21:03:56.511Z"
   },
   {
    "duration": 265,
    "start_time": "2022-09-07T21:03:57.273Z"
   },
   {
    "duration": 2018,
    "start_time": "2022-09-07T21:03:57.539Z"
   },
   {
    "duration": 1636,
    "start_time": "2022-09-07T21:03:59.558Z"
   },
   {
    "duration": 2,
    "start_time": "2022-09-07T21:04:01.196Z"
   },
   {
    "duration": 21,
    "start_time": "2022-09-07T21:04:01.200Z"
   },
   {
    "duration": 52086,
    "start_time": "2022-09-07T21:04:01.223Z"
   },
   {
    "duration": 1257701,
    "start_time": "2022-09-07T21:04:53.311Z"
   },
   {
    "duration": 20585,
    "start_time": "2022-09-07T21:25:51.014Z"
   },
   {
    "duration": 27705,
    "start_time": "2022-09-07T21:26:11.601Z"
   },
   {
    "duration": 105,
    "start_time": "2022-09-07T21:26:39.398Z"
   },
   {
    "duration": 1654,
    "start_time": "2022-09-08T17:00:55.149Z"
   },
   {
    "duration": 3688,
    "start_time": "2022-09-08T17:00:56.806Z"
   },
   {
    "duration": 901,
    "start_time": "2022-09-08T17:01:00.495Z"
   },
   {
    "duration": 312,
    "start_time": "2022-09-08T17:01:01.399Z"
   },
   {
    "duration": 3851,
    "start_time": "2022-09-08T17:01:01.713Z"
   },
   {
    "duration": 2537,
    "start_time": "2022-09-08T17:01:05.566Z"
   },
   {
    "duration": 3,
    "start_time": "2022-09-08T17:01:08.105Z"
   },
   {
    "duration": 18,
    "start_time": "2022-09-08T17:01:08.110Z"
   },
   {
    "duration": 71166,
    "start_time": "2022-09-08T17:01:08.130Z"
   },
   {
    "duration": 5906970,
    "start_time": "2022-09-08T17:02:19.298Z"
   },
   {
    "duration": 25918,
    "start_time": "2022-09-08T18:40:46.270Z"
   },
   {
    "duration": 36277,
    "start_time": "2022-09-08T18:41:12.191Z"
   },
   {
    "duration": 102,
    "start_time": "2022-09-08T18:41:48.471Z"
   },
   {
    "duration": 1616,
    "start_time": "2022-09-09T11:28:01.482Z"
   },
   {
    "duration": 1376,
    "start_time": "2022-09-09T11:28:03.100Z"
   },
   {
    "duration": 894,
    "start_time": "2022-09-09T11:28:04.477Z"
   },
   {
    "duration": 274,
    "start_time": "2022-09-09T11:28:05.373Z"
   },
   {
    "duration": 3721,
    "start_time": "2022-09-09T11:28:05.648Z"
   },
   {
    "duration": 2334,
    "start_time": "2022-09-09T11:28:09.371Z"
   },
   {
    "duration": 3,
    "start_time": "2022-09-09T11:28:11.707Z"
   },
   {
    "duration": 25,
    "start_time": "2022-09-09T11:28:11.712Z"
   },
   {
    "duration": 54586,
    "start_time": "2022-09-09T11:28:11.739Z"
   },
   {
    "duration": 1610694,
    "start_time": "2022-09-09T11:29:06.328Z"
   },
   {
    "duration": 46001,
    "start_time": "2022-09-09T11:55:57.024Z"
   },
   {
    "duration": 34695,
    "start_time": "2022-09-09T11:56:43.027Z"
   },
   {
    "duration": 98,
    "start_time": "2022-09-09T11:57:17.724Z"
   },
   {
    "duration": 15,
    "start_time": "2022-09-09T12:44:17.909Z"
   },
   {
    "duration": 12,
    "start_time": "2022-09-09T12:50:06.902Z"
   },
   {
    "duration": 14,
    "start_time": "2022-09-09T12:56:25.084Z"
   },
   {
    "duration": 311714,
    "start_time": "2022-09-09T13:08:05.374Z"
   },
   {
    "duration": 25717,
    "start_time": "2022-09-09T13:18:03.021Z"
   },
   {
    "duration": 115382,
    "start_time": "2022-09-09T13:19:04.167Z"
   },
   {
    "duration": 1383,
    "start_time": "2022-09-09T13:35:26.516Z"
   },
   {
    "duration": 1059,
    "start_time": "2022-09-09T13:35:27.901Z"
   },
   {
    "duration": 956,
    "start_time": "2022-09-09T13:35:28.961Z"
   },
   {
    "duration": 289,
    "start_time": "2022-09-09T13:35:29.921Z"
   },
   {
    "duration": 3646,
    "start_time": "2022-09-09T13:35:30.212Z"
   },
   {
    "duration": 2925,
    "start_time": "2022-09-09T13:35:33.861Z"
   },
   {
    "duration": 3,
    "start_time": "2022-09-09T13:35:36.788Z"
   },
   {
    "duration": 30,
    "start_time": "2022-09-09T13:35:36.792Z"
   },
   {
    "duration": 1622,
    "start_time": "2022-09-09T13:38:28.736Z"
   },
   {
    "duration": 1079,
    "start_time": "2022-09-09T13:38:30.360Z"
   },
   {
    "duration": 943,
    "start_time": "2022-09-09T13:38:31.440Z"
   },
   {
    "duration": 319,
    "start_time": "2022-09-09T13:38:32.385Z"
   },
   {
    "duration": 3666,
    "start_time": "2022-09-09T13:38:32.706Z"
   },
   {
    "duration": 2441,
    "start_time": "2022-09-09T13:38:36.374Z"
   },
   {
    "duration": 4,
    "start_time": "2022-09-09T13:38:38.817Z"
   },
   {
    "duration": 19,
    "start_time": "2022-09-09T13:38:38.823Z"
   },
   {
    "duration": 1384,
    "start_time": "2022-09-09T13:43:01.126Z"
   },
   {
    "duration": 1111,
    "start_time": "2022-09-09T13:43:02.512Z"
   },
   {
    "duration": 1005,
    "start_time": "2022-09-09T13:43:03.625Z"
   },
   {
    "duration": 345,
    "start_time": "2022-09-09T13:43:04.632Z"
   },
   {
    "duration": 3676,
    "start_time": "2022-09-09T13:43:04.979Z"
   },
   {
    "duration": 2617,
    "start_time": "2022-09-09T13:43:08.657Z"
   },
   {
    "duration": 4,
    "start_time": "2022-09-09T13:43:11.276Z"
   },
   {
    "duration": 35,
    "start_time": "2022-09-09T13:43:11.282Z"
   },
   {
    "duration": 1765,
    "start_time": "2022-09-09T13:48:28.400Z"
   },
   {
    "duration": 1169,
    "start_time": "2022-09-09T13:48:30.168Z"
   },
   {
    "duration": 1071,
    "start_time": "2022-09-09T13:48:31.339Z"
   },
   {
    "duration": 411,
    "start_time": "2022-09-09T13:48:32.413Z"
   },
   {
    "duration": 3764,
    "start_time": "2022-09-09T13:48:32.826Z"
   },
   {
    "duration": 2439,
    "start_time": "2022-09-09T13:48:36.591Z"
   },
   {
    "duration": 5,
    "start_time": "2022-09-09T13:48:39.032Z"
   },
   {
    "duration": 32,
    "start_time": "2022-09-09T13:48:39.039Z"
   },
   {
    "duration": 1503,
    "start_time": "2022-09-09T13:58:00.155Z"
   },
   {
    "duration": 1117,
    "start_time": "2022-09-09T13:58:01.661Z"
   },
   {
    "duration": 999,
    "start_time": "2022-09-09T13:58:02.780Z"
   },
   {
    "duration": 306,
    "start_time": "2022-09-09T13:58:03.782Z"
   },
   {
    "duration": 3714,
    "start_time": "2022-09-09T13:58:04.090Z"
   },
   {
    "duration": 2500,
    "start_time": "2022-09-09T13:58:07.806Z"
   },
   {
    "duration": 4,
    "start_time": "2022-09-09T13:58:10.308Z"
   },
   {
    "duration": 40,
    "start_time": "2022-09-09T13:58:10.314Z"
   },
   {
    "duration": 1448,
    "start_time": "2022-09-09T14:02:53.328Z"
   },
   {
    "duration": 1099,
    "start_time": "2022-09-09T14:02:54.778Z"
   },
   {
    "duration": 941,
    "start_time": "2022-09-09T14:02:55.879Z"
   },
   {
    "duration": 294,
    "start_time": "2022-09-09T14:02:56.824Z"
   },
   {
    "duration": 3698,
    "start_time": "2022-09-09T14:02:57.121Z"
   },
   {
    "duration": 2380,
    "start_time": "2022-09-09T14:03:00.820Z"
   },
   {
    "duration": 4,
    "start_time": "2022-09-09T14:03:03.202Z"
   },
   {
    "duration": 29,
    "start_time": "2022-09-09T14:03:03.207Z"
   },
   {
    "duration": 216856,
    "start_time": "2022-09-09T14:03:03.237Z"
   },
   {
    "duration": 0,
    "start_time": "2022-09-09T14:06:40.095Z"
   },
   {
    "duration": 0,
    "start_time": "2022-09-09T14:06:40.096Z"
   },
   {
    "duration": 0,
    "start_time": "2022-09-09T14:06:40.097Z"
   },
   {
    "duration": 0,
    "start_time": "2022-09-09T14:06:40.098Z"
   },
   {
    "duration": 0,
    "start_time": "2022-09-09T14:06:40.099Z"
   },
   {
    "duration": 1413,
    "start_time": "2022-09-09T14:07:02.166Z"
   },
   {
    "duration": 1111,
    "start_time": "2022-09-09T14:07:03.581Z"
   },
   {
    "duration": 949,
    "start_time": "2022-09-09T14:07:04.694Z"
   },
   {
    "duration": 332,
    "start_time": "2022-09-09T14:07:05.646Z"
   },
   {
    "duration": 3803,
    "start_time": "2022-09-09T14:07:05.979Z"
   },
   {
    "duration": 2356,
    "start_time": "2022-09-09T14:07:09.784Z"
   },
   {
    "duration": 4,
    "start_time": "2022-09-09T14:07:12.142Z"
   },
   {
    "duration": 22,
    "start_time": "2022-09-09T14:07:12.148Z"
   },
   {
    "duration": 933400,
    "start_time": "2022-09-09T14:07:12.172Z"
   },
   {
    "duration": 0,
    "start_time": "2022-09-09T14:22:45.574Z"
   },
   {
    "duration": 0,
    "start_time": "2022-09-09T14:22:45.575Z"
   },
   {
    "duration": 0,
    "start_time": "2022-09-09T14:22:45.576Z"
   },
   {
    "duration": 0,
    "start_time": "2022-09-09T14:22:45.577Z"
   },
   {
    "duration": 0,
    "start_time": "2022-09-09T14:22:45.578Z"
   },
   {
    "duration": 1459,
    "start_time": "2022-09-09T15:36:05.169Z"
   },
   {
    "duration": 1231,
    "start_time": "2022-09-09T15:36:06.630Z"
   },
   {
    "duration": 759,
    "start_time": "2022-09-09T15:36:07.874Z"
   },
   {
    "duration": 263,
    "start_time": "2022-09-09T15:36:08.635Z"
   },
   {
    "duration": 2085,
    "start_time": "2022-09-09T15:36:08.899Z"
   },
   {
    "duration": 1583,
    "start_time": "2022-09-09T15:36:10.985Z"
   },
   {
    "duration": 3,
    "start_time": "2022-09-09T15:36:12.570Z"
   },
   {
    "duration": 21,
    "start_time": "2022-09-09T15:36:12.574Z"
   },
   {
    "duration": 73319,
    "start_time": "2022-09-09T15:36:12.596Z"
   },
   {
    "duration": 1256,
    "start_time": "2022-09-09T15:43:55.650Z"
   },
   {
    "duration": 1084,
    "start_time": "2022-09-09T15:43:56.909Z"
   },
   {
    "duration": 873,
    "start_time": "2022-09-09T15:43:57.994Z"
   },
   {
    "duration": 277,
    "start_time": "2022-09-09T15:43:58.869Z"
   },
   {
    "duration": 2324,
    "start_time": "2022-09-09T15:43:59.147Z"
   },
   {
    "duration": 1781,
    "start_time": "2022-09-09T15:44:01.472Z"
   },
   {
    "duration": 3,
    "start_time": "2022-09-09T15:44:03.255Z"
   },
   {
    "duration": 30,
    "start_time": "2022-09-09T15:44:03.259Z"
   },
   {
    "duration": 1247,
    "start_time": "2022-09-09T15:47:35.056Z"
   },
   {
    "duration": 997,
    "start_time": "2022-09-09T15:47:36.305Z"
   },
   {
    "duration": 771,
    "start_time": "2022-09-09T15:47:37.309Z"
   },
   {
    "duration": 275,
    "start_time": "2022-09-09T15:47:38.082Z"
   },
   {
    "duration": 2064,
    "start_time": "2022-09-09T15:47:38.360Z"
   },
   {
    "duration": 1634,
    "start_time": "2022-09-09T15:47:40.426Z"
   },
   {
    "duration": 3,
    "start_time": "2022-09-09T15:47:42.061Z"
   },
   {
    "duration": 24,
    "start_time": "2022-09-09T15:47:42.065Z"
   },
   {
    "duration": 1250,
    "start_time": "2022-09-09T15:50:53.251Z"
   },
   {
    "duration": 1035,
    "start_time": "2022-09-09T15:50:54.503Z"
   },
   {
    "duration": 819,
    "start_time": "2022-09-09T15:50:55.540Z"
   },
   {
    "duration": 299,
    "start_time": "2022-09-09T15:50:56.361Z"
   },
   {
    "duration": 2130,
    "start_time": "2022-09-09T15:50:56.662Z"
   },
   {
    "duration": 1638,
    "start_time": "2022-09-09T15:50:58.794Z"
   },
   {
    "duration": 3,
    "start_time": "2022-09-09T15:51:00.434Z"
   },
   {
    "duration": 43,
    "start_time": "2022-09-09T15:51:00.439Z"
   },
   {
    "duration": 1338,
    "start_time": "2022-09-09T16:00:45.192Z"
   },
   {
    "duration": 1030,
    "start_time": "2022-09-09T16:00:46.532Z"
   },
   {
    "duration": 791,
    "start_time": "2022-09-09T16:00:47.564Z"
   },
   {
    "duration": 277,
    "start_time": "2022-09-09T16:00:48.357Z"
   },
   {
    "duration": 2223,
    "start_time": "2022-09-09T16:00:48.636Z"
   },
   {
    "duration": 1654,
    "start_time": "2022-09-09T16:00:50.860Z"
   },
   {
    "duration": 3,
    "start_time": "2022-09-09T16:00:52.515Z"
   },
   {
    "duration": 19,
    "start_time": "2022-09-09T16:00:52.519Z"
   },
   {
    "duration": 1328,
    "start_time": "2022-09-09T16:01:11.427Z"
   },
   {
    "duration": 1025,
    "start_time": "2022-09-09T16:01:12.757Z"
   },
   {
    "duration": 832,
    "start_time": "2022-09-09T16:01:13.783Z"
   },
   {
    "duration": 279,
    "start_time": "2022-09-09T16:01:14.618Z"
   },
   {
    "duration": 2152,
    "start_time": "2022-09-09T16:01:14.899Z"
   },
   {
    "duration": 1631,
    "start_time": "2022-09-09T16:01:17.053Z"
   },
   {
    "duration": 4,
    "start_time": "2022-09-09T16:01:18.685Z"
   },
   {
    "duration": 25,
    "start_time": "2022-09-09T16:01:18.690Z"
   },
   {
    "duration": 213534,
    "start_time": "2022-09-09T16:01:18.717Z"
   },
   {
    "duration": 0,
    "start_time": "2022-09-09T16:04:52.254Z"
   },
   {
    "duration": 0,
    "start_time": "2022-09-09T16:04:52.256Z"
   },
   {
    "duration": 0,
    "start_time": "2022-09-09T16:04:52.257Z"
   },
   {
    "duration": 0,
    "start_time": "2022-09-09T16:04:52.258Z"
   },
   {
    "duration": 0,
    "start_time": "2022-09-09T16:04:52.260Z"
   },
   {
    "duration": 1433,
    "start_time": "2022-09-09T16:06:38.655Z"
   },
   {
    "duration": 1053,
    "start_time": "2022-09-09T16:06:40.090Z"
   },
   {
    "duration": 738,
    "start_time": "2022-09-09T16:06:41.144Z"
   },
   {
    "duration": 265,
    "start_time": "2022-09-09T16:06:41.885Z"
   },
   {
    "duration": 2165,
    "start_time": "2022-09-09T16:06:42.152Z"
   },
   {
    "duration": 1819,
    "start_time": "2022-09-09T16:06:44.319Z"
   },
   {
    "duration": 5,
    "start_time": "2022-09-09T16:06:46.139Z"
   },
   {
    "duration": 20,
    "start_time": "2022-09-09T16:06:46.147Z"
   },
   {
    "duration": 3312341,
    "start_time": "2022-09-09T16:06:46.170Z"
   },
   {
    "duration": 1520,
    "start_time": "2022-09-09T17:22:01.082Z"
   },
   {
    "duration": 1189,
    "start_time": "2022-09-09T17:22:02.604Z"
   },
   {
    "duration": 999,
    "start_time": "2022-09-09T17:22:03.795Z"
   },
   {
    "duration": 308,
    "start_time": "2022-09-09T17:22:04.796Z"
   },
   {
    "duration": 2353,
    "start_time": "2022-09-09T17:22:05.110Z"
   },
   {
    "duration": 1806,
    "start_time": "2022-09-09T17:22:07.465Z"
   },
   {
    "duration": 3,
    "start_time": "2022-09-09T17:22:09.272Z"
   },
   {
    "duration": 19,
    "start_time": "2022-09-09T17:22:09.277Z"
   },
   {
    "duration": 1313,
    "start_time": "2022-09-09T17:37:16.728Z"
   },
   {
    "duration": 990,
    "start_time": "2022-09-09T17:37:18.043Z"
   },
   {
    "duration": 792,
    "start_time": "2022-09-09T17:37:19.035Z"
   },
   {
    "duration": 278,
    "start_time": "2022-09-09T17:37:19.829Z"
   },
   {
    "duration": 2230,
    "start_time": "2022-09-09T17:37:20.108Z"
   },
   {
    "duration": 1691,
    "start_time": "2022-09-09T17:37:22.340Z"
   },
   {
    "duration": 5,
    "start_time": "2022-09-09T17:37:24.033Z"
   },
   {
    "duration": 32,
    "start_time": "2022-09-09T17:37:24.040Z"
   },
   {
    "duration": 1235,
    "start_time": "2022-09-09T18:08:10.655Z"
   },
   {
    "duration": 993,
    "start_time": "2022-09-09T18:08:11.892Z"
   },
   {
    "duration": 797,
    "start_time": "2022-09-09T18:08:12.887Z"
   },
   {
    "duration": 274,
    "start_time": "2022-09-09T18:08:13.686Z"
   },
   {
    "duration": 2149,
    "start_time": "2022-09-09T18:08:13.962Z"
   },
   {
    "duration": 1659,
    "start_time": "2022-09-09T18:08:16.113Z"
   },
   {
    "duration": 4,
    "start_time": "2022-09-09T18:08:17.773Z"
   },
   {
    "duration": 30,
    "start_time": "2022-09-09T18:08:17.779Z"
   },
   {
    "duration": 3365902,
    "start_time": "2022-09-09T18:08:17.810Z"
   },
   {
    "duration": 1298,
    "start_time": "2022-09-09T19:14:37.344Z"
   },
   {
    "duration": 1021,
    "start_time": "2022-09-09T19:14:38.644Z"
   },
   {
    "duration": 885,
    "start_time": "2022-09-09T19:14:39.667Z"
   },
   {
    "duration": 292,
    "start_time": "2022-09-09T19:14:40.554Z"
   },
   {
    "duration": 2198,
    "start_time": "2022-09-09T19:14:40.849Z"
   },
   {
    "duration": 2691,
    "start_time": "2022-09-09T19:14:43.048Z"
   },
   {
    "duration": 3,
    "start_time": "2022-09-09T19:14:45.741Z"
   },
   {
    "duration": 47,
    "start_time": "2022-09-09T19:14:45.745Z"
   },
   {
    "duration": 3233177,
    "start_time": "2022-09-09T19:14:45.794Z"
   },
   {
    "duration": 1545,
    "start_time": "2022-09-09T20:42:38.729Z"
   },
   {
    "duration": 1204,
    "start_time": "2022-09-09T20:42:40.277Z"
   },
   {
    "duration": 848,
    "start_time": "2022-09-09T20:42:41.483Z"
   },
   {
    "duration": 305,
    "start_time": "2022-09-09T20:42:42.333Z"
   },
   {
    "duration": 2255,
    "start_time": "2022-09-09T20:42:42.641Z"
   },
   {
    "duration": 2002,
    "start_time": "2022-09-09T20:42:44.898Z"
   },
   {
    "duration": 21,
    "start_time": "2022-09-09T20:42:46.902Z"
   },
   {
    "duration": 51,
    "start_time": "2022-09-09T20:42:46.928Z"
   },
   {
    "duration": 1277,
    "start_time": "2022-09-09T21:08:38.222Z"
   },
   {
    "duration": 997,
    "start_time": "2022-09-09T21:08:39.501Z"
   },
   {
    "duration": 827,
    "start_time": "2022-09-09T21:08:40.511Z"
   },
   {
    "duration": 264,
    "start_time": "2022-09-09T21:08:41.340Z"
   },
   {
    "duration": 2031,
    "start_time": "2022-09-09T21:08:41.611Z"
   },
   {
    "duration": 1757,
    "start_time": "2022-09-09T21:08:43.643Z"
   },
   {
    "duration": 18,
    "start_time": "2022-09-09T21:08:45.402Z"
   },
   {
    "duration": 24,
    "start_time": "2022-09-09T21:08:45.423Z"
   },
   {
    "duration": 1271,
    "start_time": "2022-09-09T23:59:38.893Z"
   },
   {
    "duration": 976,
    "start_time": "2022-09-09T23:59:40.165Z"
   },
   {
    "duration": 691,
    "start_time": "2022-09-09T23:59:41.142Z"
   },
   {
    "duration": 267,
    "start_time": "2022-09-09T23:59:41.835Z"
   },
   {
    "duration": 2038,
    "start_time": "2022-09-09T23:59:42.103Z"
   },
   {
    "duration": 1660,
    "start_time": "2022-09-09T23:59:44.143Z"
   },
   {
    "duration": 5,
    "start_time": "2022-09-09T23:59:45.804Z"
   },
   {
    "duration": 15,
    "start_time": "2022-09-09T23:59:45.811Z"
   },
   {
    "duration": 1465,
    "start_time": "2022-09-10T08:44:12.178Z"
   },
   {
    "duration": 1209,
    "start_time": "2022-09-10T08:44:13.645Z"
   },
   {
    "duration": 957,
    "start_time": "2022-09-10T08:44:14.862Z"
   },
   {
    "duration": 340,
    "start_time": "2022-09-10T08:44:15.820Z"
   },
   {
    "duration": 2442,
    "start_time": "2022-09-10T08:44:16.161Z"
   },
   {
    "duration": 2092,
    "start_time": "2022-09-10T08:44:18.605Z"
   },
   {
    "duration": 3,
    "start_time": "2022-09-10T08:44:20.699Z"
   },
   {
    "duration": 78,
    "start_time": "2022-09-10T08:44:20.703Z"
   },
   {
    "duration": 1400,
    "start_time": "2022-09-10T08:48:09.851Z"
   },
   {
    "duration": 1137,
    "start_time": "2022-09-10T08:48:14.945Z"
   },
   {
    "duration": 960,
    "start_time": "2022-09-10T08:48:18.059Z"
   },
   {
    "duration": 298,
    "start_time": "2022-09-10T08:48:19.035Z"
   },
   {
    "duration": 2144,
    "start_time": "2022-09-10T08:48:19.339Z"
   },
   {
    "duration": 1782,
    "start_time": "2022-09-10T08:48:21.485Z"
   },
   {
    "duration": 3,
    "start_time": "2022-09-10T08:48:23.269Z"
   },
   {
    "duration": 21,
    "start_time": "2022-09-10T08:48:23.274Z"
   },
   {
    "duration": 1605,
    "start_time": "2022-09-11T09:02:08.113Z"
   },
   {
    "duration": 142,
    "start_time": "2022-09-11T09:02:09.720Z"
   },
   {
    "duration": 1039,
    "start_time": "2022-09-11T09:03:39.160Z"
   },
   {
    "duration": 12,
    "start_time": "2022-09-11T09:08:40.194Z"
   },
   {
    "duration": 785,
    "start_time": "2022-09-11T09:08:54.400Z"
   },
   {
    "duration": 769,
    "start_time": "2022-09-11T09:08:57.982Z"
   },
   {
    "duration": 230,
    "start_time": "2022-09-11T09:09:10.482Z"
   },
   {
    "duration": 1865,
    "start_time": "2022-09-20T22:03:29.546Z"
   },
   {
    "duration": 132,
    "start_time": "2022-09-20T22:03:31.413Z"
   },
   {
    "duration": 0,
    "start_time": "2022-09-20T22:03:31.548Z"
   },
   {
    "duration": 0,
    "start_time": "2022-09-20T22:03:31.549Z"
   },
   {
    "duration": 0,
    "start_time": "2022-09-20T22:03:31.550Z"
   },
   {
    "duration": 0,
    "start_time": "2022-09-20T22:03:31.551Z"
   },
   {
    "duration": 0,
    "start_time": "2022-09-20T22:03:31.553Z"
   },
   {
    "duration": 0,
    "start_time": "2022-09-20T22:03:31.554Z"
   },
   {
    "duration": 0,
    "start_time": "2022-09-20T22:03:31.555Z"
   },
   {
    "duration": 0,
    "start_time": "2022-09-20T22:03:31.556Z"
   },
   {
    "duration": 0,
    "start_time": "2022-09-20T22:03:31.557Z"
   },
   {
    "duration": 0,
    "start_time": "2022-09-20T22:03:31.558Z"
   },
   {
    "duration": 0,
    "start_time": "2022-09-20T22:03:31.559Z"
   },
   {
    "duration": 0,
    "start_time": "2022-09-20T22:03:31.561Z"
   },
   {
    "duration": 0,
    "start_time": "2022-09-20T22:03:31.562Z"
   },
   {
    "duration": 0,
    "start_time": "2022-09-20T22:03:31.563Z"
   },
   {
    "duration": 0,
    "start_time": "2022-09-20T22:03:31.564Z"
   },
   {
    "duration": 0,
    "start_time": "2022-09-20T22:03:31.565Z"
   },
   {
    "duration": 0,
    "start_time": "2022-09-20T22:03:31.566Z"
   },
   {
    "duration": 1,
    "start_time": "2022-09-20T22:03:31.567Z"
   },
   {
    "duration": 0,
    "start_time": "2022-09-20T22:03:31.569Z"
   },
   {
    "duration": 0,
    "start_time": "2022-09-20T22:03:31.570Z"
   },
   {
    "duration": 0,
    "start_time": "2022-09-20T22:03:31.571Z"
   },
   {
    "duration": 0,
    "start_time": "2022-09-20T22:03:31.572Z"
   },
   {
    "duration": 0,
    "start_time": "2022-09-20T22:03:31.573Z"
   },
   {
    "duration": 0,
    "start_time": "2022-09-20T22:03:31.574Z"
   },
   {
    "duration": 0,
    "start_time": "2022-09-20T22:03:31.575Z"
   },
   {
    "duration": 0,
    "start_time": "2022-09-20T22:03:31.576Z"
   },
   {
    "duration": 0,
    "start_time": "2022-09-20T22:03:31.577Z"
   },
   {
    "duration": 0,
    "start_time": "2022-09-20T22:03:31.578Z"
   },
   {
    "duration": 0,
    "start_time": "2022-09-20T22:03:31.621Z"
   },
   {
    "duration": 0,
    "start_time": "2022-09-20T22:03:31.622Z"
   },
   {
    "duration": 0,
    "start_time": "2022-09-20T22:03:31.623Z"
   },
   {
    "duration": 0,
    "start_time": "2022-09-20T22:03:31.625Z"
   },
   {
    "duration": 0,
    "start_time": "2022-09-20T22:03:31.626Z"
   },
   {
    "duration": 0,
    "start_time": "2022-09-20T22:03:31.627Z"
   },
   {
    "duration": 0,
    "start_time": "2022-09-20T22:03:31.628Z"
   },
   {
    "duration": 0,
    "start_time": "2022-09-20T22:03:31.629Z"
   },
   {
    "duration": 0,
    "start_time": "2022-09-20T22:03:31.630Z"
   },
   {
    "duration": 0,
    "start_time": "2022-09-20T22:03:31.631Z"
   },
   {
    "duration": 0,
    "start_time": "2022-09-20T22:03:31.632Z"
   },
   {
    "duration": 0,
    "start_time": "2022-09-20T22:03:31.633Z"
   },
   {
    "duration": 0,
    "start_time": "2022-09-20T22:03:31.634Z"
   },
   {
    "duration": 0,
    "start_time": "2022-09-20T22:03:31.635Z"
   },
   {
    "duration": 0,
    "start_time": "2022-09-20T22:03:31.635Z"
   },
   {
    "duration": 0,
    "start_time": "2022-09-20T22:03:31.637Z"
   },
   {
    "duration": 0,
    "start_time": "2022-09-20T22:03:31.638Z"
   },
   {
    "duration": 0,
    "start_time": "2022-09-20T22:03:31.639Z"
   },
   {
    "duration": 0,
    "start_time": "2022-09-20T22:03:31.640Z"
   },
   {
    "duration": 0,
    "start_time": "2022-09-20T22:03:31.641Z"
   },
   {
    "duration": 0,
    "start_time": "2022-09-20T22:03:31.642Z"
   },
   {
    "duration": 0,
    "start_time": "2022-09-20T22:03:31.643Z"
   },
   {
    "duration": 0,
    "start_time": "2022-09-20T22:03:31.645Z"
   },
   {
    "duration": 0,
    "start_time": "2022-09-20T22:03:31.646Z"
   },
   {
    "duration": 1134,
    "start_time": "2022-09-20T22:04:04.782Z"
   },
   {
    "duration": 130,
    "start_time": "2022-09-20T22:04:05.918Z"
   },
   {
    "duration": 300,
    "start_time": "2022-09-20T22:04:06.050Z"
   },
   {
    "duration": 298,
    "start_time": "2022-09-20T22:04:06.353Z"
   },
   {
    "duration": 612,
    "start_time": "2022-09-20T22:04:06.654Z"
   },
   {
    "duration": 3,
    "start_time": "2022-09-20T22:04:07.269Z"
   },
   {
    "duration": 27,
    "start_time": "2022-09-20T22:04:07.274Z"
   },
   {
    "duration": 25,
    "start_time": "2022-09-20T22:04:07.338Z"
   },
   {
    "duration": 448,
    "start_time": "2022-09-20T22:04:07.496Z"
   },
   {
    "duration": 206,
    "start_time": "2022-09-20T22:04:07.947Z"
   },
   {
    "duration": 12,
    "start_time": "2022-09-20T22:04:08.155Z"
   },
   {
    "duration": 27,
    "start_time": "2022-09-20T22:04:08.169Z"
   },
   {
    "duration": 76,
    "start_time": "2022-09-20T22:04:08.727Z"
   },
   {
    "duration": 25,
    "start_time": "2022-09-20T22:04:09.056Z"
   },
   {
    "duration": 21,
    "start_time": "2022-09-20T22:04:09.522Z"
   },
   {
    "duration": 15,
    "start_time": "2022-09-20T22:04:09.859Z"
   },
   {
    "duration": 27,
    "start_time": "2022-09-20T22:04:10.036Z"
   },
   {
    "duration": 62,
    "start_time": "2022-09-20T22:04:10.541Z"
   },
   {
    "duration": 17,
    "start_time": "2022-09-20T22:04:11.019Z"
   },
   {
    "duration": 25,
    "start_time": "2022-09-20T22:04:11.561Z"
   },
   {
    "duration": 265,
    "start_time": "2022-09-20T22:04:11.753Z"
   },
   {
    "duration": 319,
    "start_time": "2022-09-20T22:04:12.021Z"
   },
   {
    "duration": 13,
    "start_time": "2022-09-20T22:04:12.342Z"
   },
   {
    "duration": 6,
    "start_time": "2022-09-20T22:04:12.358Z"
   },
   {
    "duration": 33553,
    "start_time": "2022-09-20T22:04:12.888Z"
   },
   {
    "duration": 209,
    "start_time": "2022-09-20T22:04:46.443Z"
   },
   {
    "duration": 80,
    "start_time": "2022-09-20T22:04:46.654Z"
   },
   {
    "duration": 17,
    "start_time": "2022-09-20T22:04:46.736Z"
   },
   {
    "duration": 20,
    "start_time": "2022-09-20T22:04:46.755Z"
   },
   {
    "duration": 47,
    "start_time": "2022-09-20T22:04:46.776Z"
   },
   {
    "duration": 30,
    "start_time": "2022-09-20T22:04:46.826Z"
   },
   {
    "duration": 208,
    "start_time": "2022-09-20T22:04:46.858Z"
   },
   {
    "duration": 12,
    "start_time": "2022-09-20T22:04:47.068Z"
   },
   {
    "duration": 78,
    "start_time": "2022-09-20T22:04:47.083Z"
   },
   {
    "duration": 17,
    "start_time": "2022-09-20T22:04:47.163Z"
   },
   {
    "duration": 100,
    "start_time": "2022-09-20T22:04:47.182Z"
   },
   {
    "duration": 77,
    "start_time": "2022-09-20T22:04:47.284Z"
   },
   {
    "duration": 18,
    "start_time": "2022-09-20T22:04:47.362Z"
   },
   {
    "duration": 38,
    "start_time": "2022-09-20T22:04:47.382Z"
   },
   {
    "duration": 20,
    "start_time": "2022-09-20T22:04:47.422Z"
   },
   {
    "duration": 17,
    "start_time": "2022-09-20T22:04:47.443Z"
   },
   {
    "duration": 19,
    "start_time": "2022-09-20T22:04:47.461Z"
   },
   {
    "duration": 53,
    "start_time": "2022-09-20T22:04:47.482Z"
   },
   {
    "duration": 64,
    "start_time": "2022-09-20T22:04:47.580Z"
   },
   {
    "duration": 18,
    "start_time": "2022-09-20T22:04:47.646Z"
   },
   {
    "duration": 88,
    "start_time": "2022-09-20T22:04:47.666Z"
   },
   {
    "duration": 6,
    "start_time": "2022-09-20T22:04:48.075Z"
   },
   {
    "duration": 3,
    "start_time": "2022-09-20T22:04:50.383Z"
   },
   {
    "duration": 40,
    "start_time": "2022-09-20T22:04:55.587Z"
   },
   {
    "duration": 811,
    "start_time": "2022-09-20T22:04:58.307Z"
   },
   {
    "duration": 1255,
    "start_time": "2022-09-20T22:05:01.188Z"
   },
   {
    "duration": 3,
    "start_time": "2022-09-20T22:05:05.430Z"
   },
   {
    "duration": 5,
    "start_time": "2022-09-20T22:05:05.858Z"
   },
   {
    "duration": 192942,
    "start_time": "2022-09-20T22:05:12.395Z"
   },
   {
    "duration": 1428,
    "start_time": "2022-09-20T22:18:10.212Z"
   },
   {
    "duration": 2,
    "start_time": "2022-09-20T22:18:11.643Z"
   },
   {
    "duration": 899,
    "start_time": "2022-09-20T22:18:11.647Z"
   },
   {
    "duration": 138,
    "start_time": "2022-09-20T22:18:12.548Z"
   },
   {
    "duration": 300,
    "start_time": "2022-09-20T22:18:12.688Z"
   },
   {
    "duration": 302,
    "start_time": "2022-09-20T22:18:12.990Z"
   },
   {
    "duration": 613,
    "start_time": "2022-09-20T22:18:13.294Z"
   },
   {
    "duration": 3,
    "start_time": "2022-09-20T22:18:13.909Z"
   },
   {
    "duration": 22,
    "start_time": "2022-09-20T22:18:13.920Z"
   },
   {
    "duration": 24,
    "start_time": "2022-09-20T22:18:13.944Z"
   },
   {
    "duration": 441,
    "start_time": "2022-09-20T22:18:13.970Z"
   },
   {
    "duration": 177,
    "start_time": "2022-09-20T22:18:14.413Z"
   },
   {
    "duration": 12,
    "start_time": "2022-09-20T22:18:14.592Z"
   },
   {
    "duration": 26,
    "start_time": "2022-09-20T22:18:14.620Z"
   },
   {
    "duration": 80,
    "start_time": "2022-09-20T22:18:14.648Z"
   },
   {
    "duration": 17,
    "start_time": "2022-09-20T22:18:14.730Z"
   },
   {
    "duration": 21,
    "start_time": "2022-09-20T22:18:14.749Z"
   },
   {
    "duration": 14,
    "start_time": "2022-09-20T22:18:14.772Z"
   },
   {
    "duration": 57,
    "start_time": "2022-09-20T22:18:14.788Z"
   },
   {
    "duration": 75,
    "start_time": "2022-09-20T22:18:14.847Z"
   },
   {
    "duration": 18,
    "start_time": "2022-09-20T22:18:14.924Z"
   },
   {
    "duration": 23,
    "start_time": "2022-09-20T22:18:14.943Z"
   },
   {
    "duration": 265,
    "start_time": "2022-09-20T22:18:14.967Z"
   },
   {
    "duration": 298,
    "start_time": "2022-09-20T22:18:15.234Z"
   },
   {
    "duration": 12,
    "start_time": "2022-09-20T22:18:15.534Z"
   },
   {
    "duration": 6,
    "start_time": "2022-09-20T22:18:15.548Z"
   },
   {
    "duration": 33310,
    "start_time": "2022-09-20T22:18:15.555Z"
   },
   {
    "duration": 286,
    "start_time": "2022-09-20T22:18:48.867Z"
   },
   {
    "duration": 81,
    "start_time": "2022-09-20T22:18:49.155Z"
   },
   {
    "duration": 17,
    "start_time": "2022-09-20T22:18:49.238Z"
   },
   {
    "duration": 26,
    "start_time": "2022-09-20T22:18:49.257Z"
   },
   {
    "duration": 41,
    "start_time": "2022-09-20T22:18:49.285Z"
   },
   {
    "duration": 30,
    "start_time": "2022-09-20T22:18:49.328Z"
   },
   {
    "duration": 203,
    "start_time": "2022-09-20T22:18:49.359Z"
   },
   {
    "duration": 12,
    "start_time": "2022-09-20T22:18:49.564Z"
   },
   {
    "duration": 83,
    "start_time": "2022-09-20T22:18:49.578Z"
   },
   {
    "duration": 17,
    "start_time": "2022-09-20T22:18:49.663Z"
   },
   {
    "duration": 91,
    "start_time": "2022-09-20T22:18:49.682Z"
   },
   {
    "duration": 93,
    "start_time": "2022-09-20T22:18:49.774Z"
   },
   {
    "duration": 22,
    "start_time": "2022-09-20T22:18:49.869Z"
   },
   {
    "duration": 41,
    "start_time": "2022-09-20T22:18:49.896Z"
   },
   {
    "duration": 19,
    "start_time": "2022-09-20T22:18:49.939Z"
   },
   {
    "duration": 17,
    "start_time": "2022-09-20T22:18:49.960Z"
   },
   {
    "duration": 47,
    "start_time": "2022-09-20T22:18:49.979Z"
   },
   {
    "duration": 22,
    "start_time": "2022-09-20T22:18:50.027Z"
   },
   {
    "duration": 70,
    "start_time": "2022-09-20T22:18:50.051Z"
   },
   {
    "duration": 19,
    "start_time": "2022-09-20T22:18:50.122Z"
   },
   {
    "duration": 82,
    "start_time": "2022-09-20T22:18:50.143Z"
   },
   {
    "duration": 6,
    "start_time": "2022-09-20T22:18:50.227Z"
   },
   {
    "duration": 4,
    "start_time": "2022-09-20T22:18:50.234Z"
   },
   {
    "duration": 47,
    "start_time": "2022-09-20T22:18:50.240Z"
   },
   {
    "duration": 823,
    "start_time": "2022-09-20T22:18:50.288Z"
   },
   {
    "duration": 1257,
    "start_time": "2022-09-20T22:18:51.112Z"
   },
   {
    "duration": 4,
    "start_time": "2022-09-20T22:18:52.371Z"
   },
   {
    "duration": 7,
    "start_time": "2022-09-20T22:18:52.376Z"
   },
   {
    "duration": 34955,
    "start_time": "2022-09-20T22:18:52.385Z"
   }
  ],
  "kernelspec": {
   "display_name": "Python 3 (ipykernel)",
   "language": "python",
   "name": "python3"
  },
  "language_info": {
   "codemirror_mode": {
    "name": "ipython",
    "version": 3
   },
   "file_extension": ".py",
   "mimetype": "text/x-python",
   "name": "python",
   "nbconvert_exporter": "python",
   "pygments_lexer": "ipython3",
   "version": "3.9.12"
  },
  "toc": {
   "base_numbering": 1,
   "nav_menu": {},
   "number_sections": true,
   "sideBar": true,
   "skip_h1_title": true,
   "title_cell": "Table of Contents",
   "title_sidebar": "Contents",
   "toc_cell": false,
   "toc_position": {},
   "toc_section_display": true,
   "toc_window_display": false
  }
 },
 "nbformat": 4,
 "nbformat_minor": 4
}
